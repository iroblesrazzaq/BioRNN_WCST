{
 "cells": [
  {
   "cell_type": "code",
   "execution_count": 3,
   "metadata": {},
   "outputs": [
    {
     "name": "stdout",
     "output_type": "stream",
     "text": [
      "1.13.1+cu116\n",
      "3.10.8 (main, Nov 24 2022, 14:13:03) [GCC 11.2.0]\n"
     ]
    }
   ],
   "source": [
    "%load_ext autoreload\n",
    "%autoreload 2\n",
    "import numpy as np; np.set_printoptions(precision=4); np.random.seed(0)\n",
    "import torch; torch.set_printoptions(precision=4)\n",
    "seed = 1\n",
    "\n",
    "torch.manual_seed(seed)\n",
    "import torch.nn as nn\n",
    "import matplotlib.pyplot as plt; plt.rc('font', size=12); \n",
    "import matplotlib \n",
    "from matplotlib.font_manager import FontProperties\n",
    "from mpl_toolkits import mplot3d\n",
    "import matplotlib.pylab as pl\n",
    "import seaborn as sns\n",
    "import time\n",
    "import sys\n",
    "import itertools\n",
    "import random; random.seed(0)\n",
    "import scipy\n",
    "import os\n",
    "import warnings\n",
    "\n",
    "from textwrap import wrap\n",
    "from scipy.stats import wilcoxon\n",
    "from sklearn.metrics.pairwise import cosine_similarity\n",
    "\n",
    "sys.path.append(\"../two_module_rnn/code\")\n",
    "os.chdir('/home/yl4317/Documents/two_module_rnn/code')\n",
    "from model_working import *\n",
    "from functions import *\n",
    "os.chdir('/home/yl4317/Documents/two_module_rnn/')\n",
    "\n",
    "print(torch.__version__)\n",
    "print(sys.version)\n",
    "                \n",
    "%matplotlib inline\n",
    "\n",
    "torch.backends.cudnn.benchmark = False\n",
    "torch.use_deterministic_algorithms(True) \n",
    "torch.backends.cudnn.deterministic = True    "
   ]
  },
  {
   "cell_type": "markdown",
   "metadata": {},
   "source": [
    "# Generate data"
   ]
  },
  {
   "cell_type": "code",
   "execution_count": 5,
   "metadata": {
    "scrolled": true
   },
   "outputs": [
    {
     "name": "stdout",
     "output_type": "stream",
     "text": [
      "success_2023-05-10-14-28-42_wcst_105_sparsity0\n",
      "success_2023-05-10-14-28-42_wcst_106_sparsity0\n",
      "success_2023-05-10-14-28-42_wcst_10_sparsity0\n",
      "success_2023-05-10-14-28-42_wcst_112_sparsity0\n",
      "low perf, pass (0.0/0.0)\n",
      "success_2023-05-10-14-28-42_wcst_115_sparsity0\n",
      "low perf, pass (0.125/0.02500000037252903)\n",
      "success_2023-05-10-14-28-42_wcst_116_sparsity0\n",
      "success_2023-05-10-14-28-42_wcst_118_sparsity0\n",
      "success_2023-05-10-14-28-42_wcst_121_sparsity0\n",
      "success_2023-05-10-14-28-42_wcst_122_sparsity0\n",
      "success_2023-05-10-14-28-42_wcst_124_sparsity0\n",
      "success_2023-05-10-14-28-42_wcst_126_sparsity0\n",
      "success_2023-05-10-14-28-42_wcst_131_sparsity0\n",
      "success_2023-05-10-14-28-42_wcst_134_sparsity0\n",
      "success_2023-05-10-14-28-42_wcst_136_sparsity0\n",
      "success_2023-05-10-14-28-42_wcst_139_sparsity0\n",
      "success_2023-05-10-14-28-42_wcst_142_sparsity0\n",
      "success_2023-05-10-14-28-42_wcst_143_sparsity0\n",
      "success_2023-05-10-14-28-42_wcst_144_sparsity0\n",
      "success_2023-05-10-14-28-42_wcst_149_sparsity0\n",
      "success_2023-05-10-14-28-42_wcst_150_sparsity0\n",
      "low perf, pass (0.0/0.0)\n",
      "success_2023-05-10-14-28-42_wcst_151_sparsity0\n",
      "success_2023-05-10-14-28-42_wcst_156_sparsity0\n",
      "success_2023-05-10-14-28-42_wcst_165_sparsity0\n",
      "success_2023-05-10-14-28-42_wcst_16_sparsity0\n",
      "success_2023-05-10-14-28-42_wcst_170_sparsity0\n",
      "success_2023-05-10-14-28-42_wcst_172_sparsity0\n",
      "low perf, pass (0.0/0.0)\n",
      "success_2023-05-10-14-28-42_wcst_176_sparsity0\n",
      "success_2023-05-10-14-28-42_wcst_177_sparsity0\n",
      "success_2023-05-10-14-28-42_wcst_179_sparsity0\n",
      "success_2023-05-10-14-28-42_wcst_17_sparsity0\n",
      "success_2023-05-10-14-28-42_wcst_180_sparsity0\n",
      "success_2023-05-10-14-28-42_wcst_183_sparsity0\n",
      "low perf, pass (0.0/0.0)\n",
      "success_2023-05-10-14-28-42_wcst_189_sparsity0\n",
      "success_2023-05-10-14-28-42_wcst_18_sparsity0\n",
      "success_2023-05-10-14-28-42_wcst_197_sparsity0\n",
      "success_2023-05-10-14-28-42_wcst_19_sparsity0\n",
      "success_2023-05-10-14-28-42_wcst_200_sparsity0\n",
      "success_2023-05-10-14-28-42_wcst_20_sparsity0\n",
      "success_2023-05-10-14-28-42_wcst_21_sparsity0\n",
      "success_2023-05-10-14-28-42_wcst_23_sparsity0\n",
      "success_2023-05-10-14-28-42_wcst_26_sparsity0\n",
      "success_2023-05-10-14-28-42_wcst_42_sparsity0\n",
      "success_2023-05-10-14-28-42_wcst_43_sparsity0\n",
      "success_2023-05-10-14-28-42_wcst_44_sparsity0\n",
      "success_2023-05-10-14-28-42_wcst_50_sparsity0\n",
      "success_2023-05-10-14-28-42_wcst_57_sparsity0\n",
      "success_2023-05-10-14-28-42_wcst_58_sparsity0\n",
      "success_2023-05-10-14-28-42_wcst_5_sparsity0\n",
      "success_2023-05-10-14-28-42_wcst_60_sparsity0\n",
      "success_2023-05-10-14-28-42_wcst_63_sparsity0\n",
      "success_2023-05-10-14-28-42_wcst_6_sparsity0\n",
      "success_2023-05-10-14-28-42_wcst_7_sparsity0\n",
      "success_2023-05-10-14-28-42_wcst_82_sparsity0\n",
      "success_2023-05-10-14-28-42_wcst_86_sparsity0\n",
      "success_2023-05-10-14-28-42_wcst_87_sparsity0\n",
      "success_2023-05-10-14-28-42_wcst_93_sparsity0\n",
      "success_2023-05-10-14-28-42_wcst_98_sparsity0\n"
     ]
    },
    {
     "ename": "NameError",
     "evalue": "name 'all_data_frompfc' is not defined",
     "output_type": "error",
     "traceback": [
      "\u001b[0;31m---------------------------------------------------------------------------\u001b[0m",
      "\u001b[0;31mNameError\u001b[0m                                 Traceback (most recent call last)",
      "Cell \u001b[0;32mIn[5], line 37\u001b[0m\n\u001b[1;32m     29\u001b[0m         all_data_opto_perf\u001b[38;5;241m.\u001b[39mappend({\u001b[38;5;124m'\u001b[39m\u001b[38;5;124mhp\u001b[39m\u001b[38;5;124m'\u001b[39m: hp_test,\n\u001b[1;32m     30\u001b[0m                                  \u001b[38;5;124m'\u001b[39m\u001b[38;5;124mmean_perf_intact\u001b[39m\u001b[38;5;124m'\u001b[39m: mean_perf_intact, \n\u001b[1;32m     31\u001b[0m                                  \u001b[38;5;124m'\u001b[39m\u001b[38;5;124mmean_perf_rule_intact\u001b[39m\u001b[38;5;124m'\u001b[39m: mean_perf_rule_intact, \n\u001b[1;32m     32\u001b[0m                                  \u001b[38;5;124m'\u001b[39m\u001b[38;5;124mmean_perf_inhibit_pfcvip\u001b[39m\u001b[38;5;124m'\u001b[39m: mean_perf_inhibit_pfcvip,\n\u001b[1;32m     33\u001b[0m                                  \u001b[38;5;124m'\u001b[39m\u001b[38;5;124mmean_perf_rule_inhibit_pfcvip\u001b[39m\u001b[38;5;124m'\u001b[39m: mean_perf_rule_inhibit_pfcvip})   \n\u001b[1;32m     36\u001b[0m \u001b[38;5;28;01mwith\u001b[39;00m \u001b[38;5;28mopen\u001b[39m(\u001b[38;5;124m'\u001b[39m\u001b[38;5;124m/home/yl4317/Documents/two_module_rnn/processed_data/perf_inhibit_pfcvip.pickle\u001b[39m\u001b[38;5;124m'\u001b[39m, \u001b[38;5;124m'\u001b[39m\u001b[38;5;124mwb\u001b[39m\u001b[38;5;124m'\u001b[39m) \u001b[38;5;28;01mas\u001b[39;00m handle:\n\u001b[0;32m---> 37\u001b[0m     pickle\u001b[38;5;241m.\u001b[39mdump(\u001b[43mall_data_frompfc\u001b[49m, handle, protocol\u001b[38;5;241m=\u001b[39mpickle\u001b[38;5;241m.\u001b[39mHIGHEST_PROTOCOL)\n\u001b[1;32m     38\u001b[0m \u001b[38;5;28mprint\u001b[39m(time\u001b[38;5;241m.\u001b[39mtime()\u001b[38;5;241m-\u001b[39mstart)\n",
      "\u001b[0;31mNameError\u001b[0m: name 'all_data_frompfc' is not defined"
     ]
    }
   ],
   "source": [
    "start = time.time()\n",
    "\n",
    "all_data_opto_perf = []\n",
    "\n",
    "for model_name in sorted(os.listdir('/scratch/yl4317/two_module_rnn/saved_models/')):\n",
    "    if ('2023-05-10' in model_name) and 'wcst' in model_name and ('success' in model_name):\n",
    "        print(model_name)\n",
    "        path_to_file = '/scratch/yl4317/two_module_rnn/saved_models/' + model_name\n",
    "        \n",
    "        with HiddenPrints():\n",
    "            model, hp_test, hp_task_test, optim, saved_data = load_model_v2(path_to_file=path_to_file, model_name=model_name, simple=False, plot=False, toprint=False)\n",
    "        \n",
    "        with open('/scratch/yl4317/two_module_rnn/saved_testdata/{}_testdata_silencePFCVIP_noiseless_no_current_matrix'.format(model_name), 'rb') as f: \n",
    "            neural_data_silencePFCVIP = pickle.load(f)  \n",
    "        test_data_inhibit_pfcvip = neural_data_silencePFCVIP['test_data']\n",
    "        mean_perf_inhibit_pfcvip = np.mean([_[0] for _ in test_data_inhibit_pfcvip['perfs']])\n",
    "        mean_perf_rule_inhibit_pfcvip = np.mean([_[0] for _ in test_data_inhibit_pfcvip['perf_rules']])\n",
    "        \n",
    "        with open('/scratch/yl4317/two_module_rnn/saved_testdata/{}_testdata_noiseless_no_current_matrix'.format(model_name), 'rb') as f:\n",
    "            neural_data = pickle.load(f)\n",
    "        test_data_intact = neural_data['test_data']\n",
    "        mean_perf_intact = np.mean([_[0] for _ in test_data_intact['perfs']])\n",
    "        mean_perf_rule_intact = np.mean([_[0] for _ in test_data_intact['perf_rules']])\n",
    "        if mean_perf_intact<=0.8 or mean_perf_rule_intact<=0.8:\n",
    "            print('low perf, pass ({}/{})'.format(mean_perf_intact, mean_perf_rule_intact))\n",
    "            continue\n",
    "        \n",
    "        \n",
    "        all_data_opto_perf.append({'hp': hp_test,\n",
    "                                 'mean_perf_intact': mean_perf_intact, \n",
    "                                 'mean_perf_rule_intact': mean_perf_rule_intact, \n",
    "                                 'mean_perf_inhibit_pfcvip': mean_perf_inhibit_pfcvip,\n",
    "                                 'mean_perf_rule_inhibit_pfcvip': mean_perf_rule_inhibit_pfcvip})   \n",
    "        \n",
    "\n",
    "with open('/home/yl4317/Documents/two_module_rnn/processed_data/perf_inhibit_pfcvip.pickle', 'wb') as handle:\n",
    "    pickle.dump(all_data_opto_perf, handle, protocol=pickle.HIGHEST_PROTOCOL)\n",
    "print(time.time()-start)"
   ]
  },
  {
   "cell_type": "code",
   "execution_count": 10,
   "metadata": {},
   "outputs": [
    {
     "data": {
      "image/png": "[encoded data removed]",
      "text/plain": [
       "<Figure size 280x400 with 1 Axes>"
      ]
     },
     "metadata": {},
     "output_type": "display_data"
    },
    {
     "name": "stdout",
     "output_type": "stream",
     "text": [
      "student t test, 0.03420769635180947, p=0.48638919094743627, n=52\n"
     ]
    }
   ],
   "source": [
    "with open('/home/yl4317/Documents/two_module_rnn/processed_data/perf_inhibit_pfcvip.pickle', 'rb') as handle:\n",
    "    all_data_opto_perf = pickle.load(handle)\n",
    "    \n",
    "data_suppfig5f_inhibitpfcvip = {'intact': [], 'inhibit_pfcvip': []}\n",
    "\n",
    "perf_intact = [data['mean_perf_intact'] for data in all_data_opto_perf]\n",
    "perf_inhibit_pfcvip = [data['mean_perf_inhibit_pfcvip'] for data in all_data_opto_perf]\n",
    "\n",
    "fig, ax = plt.subplots(1, 1, figsize=[3.5, 5])\n",
    "plt.style.use('classic')\n",
    "fig.patch.set_facecolor('white')\n",
    "ax.plot([perf_intact, perf_inhibit_pfcvip], color='k', alpha=0.5, marker='o')\n",
    "ax.set_xticks([0, 1])\n",
    "ctype='PFC VIP'\n",
    "ax.set_xticklabels(['Intact', 'Opto {}'.format(ctype)], rotation=20)\n",
    "ax.set_xlim([-0.5, 1.5])\n",
    "ax.set_ylim([0, 1])\n",
    "ax.axhline(y=1/3, linestyle='dashed', color='k')\n",
    "ax.set_ylabel('Performance', fontsize=20)\n",
    "make_pretty_axes(ax)\n",
    "fig.tight_layout()\n",
    "plt.show()\n",
    "# fig.savefig('/home/yl4317/Documents/two_module_rnn/figs/perf_inhibit_pfcvip.pdf')\n",
    "\n",
    "# statistical test\n",
    "ttest = stats.ttest_ind(perf_intact, perf_inhibit_pfcvip, alternative='greater')\n",
    "print('student t test, {}, p={}, n={}'.format(ttest[0], ttest[1], len(perf_intact)))\n",
    "\n",
    "# source data\n",
    "data_suppfig5f_inhibitpfcvip['intact'] = perf_intact\n",
    "data_suppfig5f_inhibitpfcvip['inhibit_pfcvip'] = perf_inhibit_pfcvip\n",
    "# pd.DataFrame.from_dict(data=data_suppfig5f_inhibitpfcvip, orient='index').to_csv('/home/yl4317/Documents/two_module_rnn/source_data/suppfig5f_perf_inhibitPFCVIP.csv', header=False)\n",
    "    "
   ]
  },
  {
   "cell_type": "code",
   "execution_count": null,
   "metadata": {},
   "outputs": [],
   "source": []
  }
 ],
 "metadata": {
  "kernelspec": {
   "display_name": "my_env",
   "language": "python",
   "name": "my_env"
  },
  "language_info": {
   "codemirror_mode": {
    "name": "ipython",
    "version": 3
   },
   "file_extension": ".py",
   "mimetype": "text/x-python",
   "name": "python",
   "nbconvert_exporter": "python",
   "pygments_lexer": "ipython3",
   "version": "3.10.8"
  }
 },
 "nbformat": 4,
 "nbformat_minor": 4
}
