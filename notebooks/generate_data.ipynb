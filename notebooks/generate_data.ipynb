{
 "cells": [
  {
   "cell_type": "code",
   "execution_count": null,
   "metadata": {
    "scrolled": true
   },
   "outputs": [],
   "source": [
    "%load_ext autoreload\n",
    "%autoreload 2\n",
    "\n",
    "import numpy as np; np.set_printoptions(precision=2, threshold=100); np.random.seed(0)\n",
    "import torch; torch.set_printoptions(precision=2, threshold=100)\n",
    "seed = 1 \n",
    "\n",
    "import matplotlib.pyplot as plt; plt.rc('font', size=12)\n",
    "import matplotlib \n",
    "from matplotlib.font_manager import FontProperties\n",
    "from mpl_toolkits import mplot3d\n",
    "import matplotlib.pylab as plt\n",
    "\n",
    "import time\n",
    "import itertools\n",
    "import random; random.seed(0)\n",
    "import datetime\n",
    "import pickle\n",
    "import copy\n",
    "import scipy\n",
    "import os\n",
    "import sys\n",
    "\n",
    "from task import *\n",
    "from functions import *\n",
    "from train import *\n",
    "from model import *\n",
    "\n",
    "print(torch.__version__)\n",
    "print(sys.version)\n",
    "                \n",
    "%matplotlib inline"
   ]
  },
  {
   "cell_type": "markdown",
   "metadata": {},
   "source": [
    "# Run the model on a sequence of trials and save the results"
   ]
  },
  {
   "cell_type": "code",
   "execution_count": null,
   "metadata": {
    "scrolled": true
   },
   "outputs": [],
   "source": [
    "import pickle\n",
    "\n",
    "start = time.time()\n",
    "\n",
    "plt.rc('font', size=12)\n",
    "\n",
    "filename = '_testdata_noiseless'\n",
    "\n",
    "for model_name in sorted(os.listdir('/where/models/are/stored/')):\n",
    "    if ('2023-05-10' in model_name) and 'success' in model_name:    # you can subselect models here\n",
    "        print('\\n'+model_name)\n",
    "    \n",
    "        if model_name+filename in os.listdir('/where/data/for/test/run/will/be/stored/'):    # where the data for the test run will be stored\n",
    "            print('already saved test data, pass')\n",
    "            continue\n",
    "            \n",
    "        path_to_file = '/where/models/are/stored/' + model_name    # where model is stored\n",
    "        path_to_pickle_file = '/where/data/for/test/run/will/be/stored/' + model_name + filename    # where the data for the test run will be stored\n",
    "        \n",
    "        with HiddenPrints():\n",
    "            model, hp_test, hp_task_test, optim, saved_data = load_model_v2(path_to_file=path_to_file, model_name=model_name, simple=False, plot=False, toprint=False)\n",
    "        \n",
    "        # make noiseless\n",
    "        model.rnn.network_noise = 0\n",
    "        hp_test['input_noise_perceptual'] = 0\n",
    "        hp_test['input_noise_rule'] = 0\n",
    "         \n",
    "        test_data = generate_neural_data_test(model=model, n_trials_test=100, switch_every_test=10, batch_size=1, to_plot=False, hp_test=hp_test, hp_task_test=hp_task_test, \n",
    "                                              compute_current=False, random_switch=False, n_switches=10, concat_activity=False)\n",
    "        with open(path_to_pickle_file, 'wb') as f:  \n",
    "            pickle.dump(test_data, f)\n",
    "            \n",
    "print(time.time()-start)"
   ]
  },
  {
   "cell_type": "markdown",
   "metadata": {},
   "source": [
    "# Optogenetic silencing of SST neurons in the sensorimotor module"
   ]
  },
  {
   "cell_type": "code",
   "execution_count": null,
   "metadata": {
    "scrolled": true
   },
   "outputs": [],
   "source": [
    "import pickle\n",
    "\n",
    "start = time.time()\n",
    "\n",
    "plt.rc('font', size=12)\n",
    "    \n",
    "for model_name in sorted(os.listdir('/scratch/yl4317/two_module_rnn/saved_models/')):\n",
    "    if ('2023-05-10' in model_name) and ('success' in model_name): \n",
    "        print('\\n'+model_name)\n",
    "        if model_name+'_testdata_silenceSRSST_noiseless' in os.listdir('/where/data/for/test/run/will/be/stored/'):\n",
    "            print('already saved test data, pass')\n",
    "            continue\n",
    "        path_to_file = '/where/models/are/stored/' + model_name\n",
    "        path_to_pickle_file = '/where/data/for/test/run/will/be/stored/' + model_name + '_testdata_silenceSRSST_noiseless'\n",
    "        with HiddenPrints():\n",
    "            model, hp_test, hp_task_test, optim, saved_data = load_model_v2(path_to_file=path_to_file, model_name=model_name, simple=False, plot=False, toprint=False)\n",
    "        \n",
    "        \n",
    "        # make noiseless\n",
    "        model.rnn.network_noise = 0\n",
    "        hp_test['input_noise_perceptual'] = 0\n",
    "        hp_test['input_noise_rule'] = 0\n",
    "        \n",
    "        # opto params\n",
    "        opto_params_sst = {'t': np.arange(hp_task_test['trial_start']//hp_test['dt'], hp_task_test['trial_end']//hp_test['dt']), \n",
    "                           'neuron_idx': model.rnn.cg_idx['sr_sst'],\n",
    "                           'value': torch.tensor(0).to(torch.float32)}\n",
    "        \n",
    "        # change ITI\n",
    "        iti = 1000\n",
    "        hp_task_change_iti = copy.deepcopy(hp_task_test)\n",
    "        for key in ['center_card_on', 'center_card_off', 'test_cards_on', 'test_cards_off', 'resp_start', 'resp_end', 'trial_end']:\n",
    "            hp_task_change_iti[key] += iti - (hp_task_test['center_card_on'] - hp_task_test['trial_history_end'])    # adjust the ITI \n",
    "        hp_task_test = hp_task_change_iti\n",
    "        \n",
    "        \n",
    "        test_data_silencing_sst = generate_neural_data_test(model=model, n_trials_test=100, switch_every_test=10, batch_size=1, to_plot=False, hp_test=hp_test, hp_task_test=hp_task_test, \n",
    "                                                              compute_current=False, random_switch=True, n_switches=10, concat_activity=False, opto=opto_params_sst)\n",
    "        with open(path_to_pickle_file, 'wb') as f:\n",
    "            pickle.dump(test_data_silencing_sst, f)\n",
    "            \n",
    "print(time.time()-start)"
   ]
  },
  {
   "cell_type": "markdown",
   "metadata": {},
   "source": [
    "# Optogenetic silencing of VIP neurons in the sensorimotor module"
   ]
  },
  {
   "cell_type": "code",
   "execution_count": null,
   "metadata": {
    "scrolled": true
   },
   "outputs": [],
   "source": [
    "import pickle\n",
    "\n",
    "start = time.time()\n",
    "\n",
    "plt.rc('font', size=12)\n",
    "    \n",
    "for model_name in sorted(os.listdir('/scratch/yl4317/two_module_rnn/saved_models/')):\n",
    "    if ('2023-05-10' in model_name) and ('success' in model_name): \n",
    "        print('\\n'+model_name)\n",
    "        if model_name+'_testdata_silenceSRVIP_noiseless' in os.listdir('/where/data/for/test/run/will/be/stored/'):\n",
    "            print('already saved test data, pass')\n",
    "            continue\n",
    "        path_to_file = '/where/models/are/stored/' + model_name\n",
    "        path_to_pickle_file = '/where/data/for/test/run/will/be/stored/' + model_name + '_testdata_silenceSRVIP_noiseless'\n",
    "        with HiddenPrints():\n",
    "            model, hp_test, hp_task_test, optim, saved_data = load_model_v2(path_to_file=path_to_file, model_name=model_name, simple=False, plot=False, toprint=False)\n",
    "        \n",
    "        \n",
    "        # make noiseless\n",
    "        model.rnn.network_noise = 0\n",
    "        hp_test['input_noise_perceptual'] = 0\n",
    "        hp_test['input_noise_rule'] = 0\n",
    "        \n",
    "        # opto params\n",
    "        opto_params_vip = {'t': np.arange(hp_task_test['trial_start']//hp_test['dt'], hp_task_test['trial_end']//hp_test['dt']), \n",
    "                           'neuron_idx': model.rnn.cg_idx['sr_vip'],\n",
    "                           'value': torch.tensor(0).to(torch.float32)} \n",
    "        \n",
    "        # change ITI\n",
    "        iti = 1000\n",
    "        hp_task_change_iti = copy.deepcopy(hp_task_test)\n",
    "        for key in ['center_card_on', 'center_card_off', 'test_cards_on', 'test_cards_off', 'resp_start', 'resp_end', 'trial_end']:\n",
    "            hp_task_change_iti[key] += iti - (hp_task_test['center_card_on'] - hp_task_test['trial_history_end'])    # adjust the ITI \n",
    "        hp_task_test = hp_task_change_iti\n",
    "        \n",
    "        test_data_silencing_vip = generate_neural_data_test(model=model, n_trials_test=100, switch_every_test=10, batch_size=1, to_plot=False, hp_test=hp_test, hp_task_test=hp_task_test, \n",
    "                                                              compute_current=False, random_switch=True, n_switches=10, concat_activity=False, opto=opto_params_vip)\n",
    "        \n",
    "        with open(path_to_pickle_file, 'wb') as f:\n",
    "            pickle.dump(test_data_silencing_vip, f)\n",
    "            \n",
    "print(time.time()-start)"
   ]
  },
  {
   "cell_type": "markdown",
   "metadata": {},
   "source": [
    "# Optogenetic silencing of PV neurons in the sensorimotor module"
   ]
  },
  {
   "cell_type": "code",
   "execution_count": null,
   "metadata": {
    "scrolled": true
   },
   "outputs": [],
   "source": [
    "import pickle\n",
    "\n",
    "start = time.time()\n",
    "\n",
    "plt.rc('font', size=12)\n",
    "    \n",
    "for model_name in sorted(os.listdir('/scratch/yl4317/two_module_rnn/saved_models/')):\n",
    "    if ('2023-05-10' in model_name) and ('success' in model_name): \n",
    "        print('\\n'+model_name)\n",
    "        if model_name+'_testdata_silenceSRPV_noiseless' in os.listdir('/where/data/for/test/run/will/be/stored/'):\n",
    "            print('already saved test data, pass')\n",
    "            continue\n",
    "        path_to_file = '/where/models/are/stored/' + model_name\n",
    "        path_to_pickle_file = '/where/data/for/test/run/will/be/stored/' + model_name + '_testdata_silenceSRPV_noiseless'\n",
    "        with HiddenPrints():\n",
    "            model, hp_test, hp_task_test, optim, saved_data = load_model_v2(path_to_file=path_to_file, model_name=model_name, simple=False, plot=False, toprint=False)\n",
    "        \n",
    "        \n",
    "        # make noiseless\n",
    "        model.rnn.network_noise = 0\n",
    "        hp_test['input_noise_perceptual'] = 0\n",
    "        hp_test['input_noise_rule'] = 0\n",
    "        \n",
    "        # opto params\n",
    "        opto_params_vip = {'t': np.arange(hp_task_test['trial_start']//hp_test['dt'], hp_task_test['trial_end']//hp_test['dt']), \n",
    "                           'neuron_idx': model.rnn.cg_idx['sr_pv'],\n",
    "                           'value': torch.tensor(0).to(torch.float32)} \n",
    "        \n",
    "        # change ITI\n",
    "        iti = 1000\n",
    "        hp_task_change_iti = copy.deepcopy(hp_task_test)\n",
    "        for key in ['center_card_on', 'center_card_off', 'test_cards_on', 'test_cards_off', 'resp_start', 'resp_end', 'trial_end']:\n",
    "            hp_task_change_iti[key] += iti - (hp_task_test['center_card_on'] - hp_task_test['trial_history_end'])    # adjust the ITI \n",
    "        hp_task_test = hp_task_change_iti\n",
    "        \n",
    "        test_data_silencing_pv = generate_neural_data_test(model=model, n_trials_test=100, switch_every_test=10, batch_size=10, to_plot=False, hp_test=hp_test, hp_task_test=hp_task_test, \n",
    "                                                              compute_current=False, random_switch=True, n_switches=10, concat_activity=False, opto=opto_params_vip)\n",
    "        \n",
    "        with open(path_to_pickle_file, 'wb') as f:\n",
    "            pickle.dump(test_data_silencing_pv, f)\n",
    "            \n",
    "print(time.time()-start)"
   ]
  }
 ],
 "metadata": {
  "kernelspec": {
   "display_name": "my_env",
   "language": "python",
   "name": "my_env"
  },
  "language_info": {
   "codemirror_mode": {
    "name": "ipython",
    "version": 3
   },
   "file_extension": ".py",
   "mimetype": "text/x-python",
   "name": "python",
   "nbconvert_exporter": "python",
   "pygments_lexer": "ipython3",
   "version": "3.10.8"
  }
 },
 "nbformat": 4,
 "nbformat_minor": 4
}
