{
 "cells": [
  {
   "cell_type": "code",
   "execution_count": 19,
   "metadata": {},
   "outputs": [
    {
     "name": "stdout",
     "output_type": "stream",
     "text": [
      "The autoreload extension is already loaded. To reload it, use:\n",
      "  %reload_ext autoreload\n",
      "1.13.1+cu116\n",
      "3.10.8 (main, Nov 24 2022, 14:13:03) [GCC 11.2.0]\n"
     ]
    }
   ],
   "source": [
    "%load_ext autoreload\n",
    "%autoreload 2\n",
    "import numpy as np; np.set_printoptions(precision=4); np.random.seed(0)\n",
    "import torch; torch.set_printoptions(precision=4)\n",
    "seed = 1\n",
    "\n",
    "torch.manual_seed(seed)\n",
    "import torch.nn as nn\n",
    "import matplotlib.pyplot as plt; plt.rc('font', size=12); \n",
    "import matplotlib \n",
    "from matplotlib.font_manager import FontProperties\n",
    "from mpl_toolkits import mplot3d\n",
    "import matplotlib.pylab as pl\n",
    "import seaborn as sns\n",
    "import time\n",
    "import sys\n",
    "import itertools\n",
    "import random; random.seed(0)\n",
    "import scipy\n",
    "import os\n",
    "import warnings\n",
    "\n",
    "from textwrap import wrap\n",
    "from scipy.stats import wilcoxon\n",
    "from sklearn.metrics.pairwise import cosine_similarity\n",
    "\n",
    "sys.path.append(\"../two_module_rnn/code\")\n",
    "os.chdir('/home/yl4317/Documents/two_module_rnn/code')\n",
    "from model_working import *\n",
    "from functions import *\n",
    "os.chdir('/home/yl4317/Documents/two_module_rnn/')\n",
    "\n",
    "print(torch.__version__)\n",
    "print(sys.version)\n",
    "                \n",
    "%matplotlib inline\n",
    "\n",
    "torch.backends.cudnn.benchmark = False\n",
    "torch.use_deterministic_algorithms(True) \n",
    "torch.backends.cudnn.deterministic = True    "
   ]
  },
  {
   "cell_type": "markdown",
   "metadata": {},
   "source": [
    "# Generate data for dendritic branch coding"
   ]
  },
  {
   "cell_type": "code",
   "execution_count": 21,
   "metadata": {
    "scrolled": true
   },
   "outputs": [
    {
     "name": "stdout",
     "output_type": "stream",
     "text": [
      "success_2023-05-01-09-44-09_wcst_100_final_maybe\n"
     ]
    },
    {
     "name": "stderr",
     "output_type": "stream",
     "text": [
      "/home/yl4317/Documents/two_module_rnn/code/functions.py:2584: RuntimeWarning: invalid value encountered in divide\n",
      "  act_rule1_time = np.mean(rnn_activity[rule1_trs_stable, :, 0, n], axis=0)\n",
      "/home/yl4317/Documents/two_module_rnn/code/functions.py:2594: RuntimeWarning: invalid value encountered in scalar divide\n",
      "  act_rule1_fdbk = np.mean(rnn_activity[rule1_trs_stable, :, 0, n][:, fdbk_ts])\n",
      "/home/yl4317/Documents/two_module_rnn/code/functions.py:2598: RuntimeWarning: invalid value encountered in scalar divide\n",
      "  act_rule1_iti = np.mean(rnn_activity[rule1_trs_stable, :, 0, n][:, iti_ts])\n",
      "/home/yl4317/Documents/two_module_rnn/code/functions.py:2602: RuntimeWarning: invalid value encountered in scalar divide\n",
      "  act_rule1_ref_card = np.mean(rnn_activity[rule1_trs_stable, :, 0, n][:, ref_card_ts])\n",
      "/home/yl4317/Documents/two_module_rnn/code/functions.py:2606: RuntimeWarning: invalid value encountered in scalar divide\n",
      "  act_rule1_test_card = np.mean(rnn_activity[rule1_trs_stable, :, 0, n][:, test_card_ts])\n"
     ]
    },
    {
     "name": "stdout",
     "output_type": "stream",
     "text": [
      "success_2023-05-01-09-44-09_wcst_107_final_maybe\n",
      "NaN in rnn_activity, pass\n",
      "\n",
      "success_2023-05-01-09-44-09_wcst_116_final_maybe\n"
     ]
    },
    {
     "name": "stderr",
     "output_type": "stream",
     "text": [
      "/home/yl4317/Documents/two_module_rnn/code/functions.py:2584: RuntimeWarning: invalid value encountered in divide\n",
      "  act_rule1_time = np.mean(rnn_activity[rule1_trs_stable, :, 0, n], axis=0)\n",
      "/home/yl4317/Documents/two_module_rnn/code/functions.py:2594: RuntimeWarning: invalid value encountered in scalar divide\n",
      "  act_rule1_fdbk = np.mean(rnn_activity[rule1_trs_stable, :, 0, n][:, fdbk_ts])\n",
      "/home/yl4317/Documents/two_module_rnn/code/functions.py:2598: RuntimeWarning: invalid value encountered in scalar divide\n",
      "  act_rule1_iti = np.mean(rnn_activity[rule1_trs_stable, :, 0, n][:, iti_ts])\n",
      "/home/yl4317/Documents/two_module_rnn/code/functions.py:2602: RuntimeWarning: invalid value encountered in scalar divide\n",
      "  act_rule1_ref_card = np.mean(rnn_activity[rule1_trs_stable, :, 0, n][:, ref_card_ts])\n",
      "/home/yl4317/Documents/two_module_rnn/code/functions.py:2606: RuntimeWarning: invalid value encountered in scalar divide\n",
      "  act_rule1_test_card = np.mean(rnn_activity[rule1_trs_stable, :, 0, n][:, test_card_ts])\n"
     ]
    },
    {
     "name": "stdout",
     "output_type": "stream",
     "text": [
      "success_2023-05-01-09-44-09_wcst_125_final_maybe\n",
      "This model performance is low!! 0.3112500011920929/0.3125\n",
      "\n",
      "success_2023-05-01-09-44-09_wcst_128_final_maybe\n",
      "This model performance is low!! 0.3449999988079071/0.5874999761581421\n",
      "\n",
      "success_2023-05-01-09-44-09_wcst_130_final_maybe\n"
     ]
    },
    {
     "name": "stderr",
     "output_type": "stream",
     "text": [
      "/home/yl4317/Documents/two_module_rnn/code/functions.py:2584: RuntimeWarning: invalid value encountered in divide\n",
      "  act_rule1_time = np.mean(rnn_activity[rule1_trs_stable, :, 0, n], axis=0)\n",
      "/home/yl4317/Documents/two_module_rnn/code/functions.py:2594: RuntimeWarning: invalid value encountered in scalar divide\n",
      "  act_rule1_fdbk = np.mean(rnn_activity[rule1_trs_stable, :, 0, n][:, fdbk_ts])\n",
      "/home/yl4317/Documents/two_module_rnn/code/functions.py:2598: RuntimeWarning: invalid value encountered in scalar divide\n",
      "  act_rule1_iti = np.mean(rnn_activity[rule1_trs_stable, :, 0, n][:, iti_ts])\n",
      "/home/yl4317/Documents/two_module_rnn/code/functions.py:2602: RuntimeWarning: invalid value encountered in scalar divide\n",
      "  act_rule1_ref_card = np.mean(rnn_activity[rule1_trs_stable, :, 0, n][:, ref_card_ts])\n",
      "/home/yl4317/Documents/two_module_rnn/code/functions.py:2606: RuntimeWarning: invalid value encountered in scalar divide\n",
      "  act_rule1_test_card = np.mean(rnn_activity[rule1_trs_stable, :, 0, n][:, test_card_ts])\n"
     ]
    },
    {
     "name": "stdout",
     "output_type": "stream",
     "text": [
      "success_2023-05-01-09-44-09_wcst_131_final_maybe\n"
     ]
    },
    {
     "name": "stderr",
     "output_type": "stream",
     "text": [
      "/home/yl4317/Documents/two_module_rnn/code/functions.py:2584: RuntimeWarning: invalid value encountered in divide\n",
      "  act_rule1_time = np.mean(rnn_activity[rule1_trs_stable, :, 0, n], axis=0)\n",
      "/home/yl4317/Documents/two_module_rnn/code/functions.py:2594: RuntimeWarning: invalid value encountered in scalar divide\n",
      "  act_rule1_fdbk = np.mean(rnn_activity[rule1_trs_stable, :, 0, n][:, fdbk_ts])\n",
      "/home/yl4317/Documents/two_module_rnn/code/functions.py:2598: RuntimeWarning: invalid value encountered in scalar divide\n",
      "  act_rule1_iti = np.mean(rnn_activity[rule1_trs_stable, :, 0, n][:, iti_ts])\n",
      "/home/yl4317/Documents/two_module_rnn/code/functions.py:2602: RuntimeWarning: invalid value encountered in scalar divide\n",
      "  act_rule1_ref_card = np.mean(rnn_activity[rule1_trs_stable, :, 0, n][:, ref_card_ts])\n",
      "/home/yl4317/Documents/two_module_rnn/code/functions.py:2606: RuntimeWarning: invalid value encountered in scalar divide\n",
      "  act_rule1_test_card = np.mean(rnn_activity[rule1_trs_stable, :, 0, n][:, test_card_ts])\n"
     ]
    },
    {
     "name": "stdout",
     "output_type": "stream",
     "text": [
      "success_2023-05-01-09-44-09_wcst_133_final_maybe\n"
     ]
    },
    {
     "name": "stderr",
     "output_type": "stream",
     "text": [
      "/home/yl4317/Documents/two_module_rnn/code/functions.py:2584: RuntimeWarning: invalid value encountered in divide\n",
      "  act_rule1_time = np.mean(rnn_activity[rule1_trs_stable, :, 0, n], axis=0)\n",
      "/home/yl4317/Documents/two_module_rnn/code/functions.py:2594: RuntimeWarning: invalid value encountered in scalar divide\n",
      "  act_rule1_fdbk = np.mean(rnn_activity[rule1_trs_stable, :, 0, n][:, fdbk_ts])\n",
      "/home/yl4317/Documents/two_module_rnn/code/functions.py:2598: RuntimeWarning: invalid value encountered in scalar divide\n",
      "  act_rule1_iti = np.mean(rnn_activity[rule1_trs_stable, :, 0, n][:, iti_ts])\n",
      "/home/yl4317/Documents/two_module_rnn/code/functions.py:2602: RuntimeWarning: invalid value encountered in scalar divide\n",
      "  act_rule1_ref_card = np.mean(rnn_activity[rule1_trs_stable, :, 0, n][:, ref_card_ts])\n",
      "/home/yl4317/Documents/two_module_rnn/code/functions.py:2606: RuntimeWarning: invalid value encountered in scalar divide\n",
      "  act_rule1_test_card = np.mean(rnn_activity[rule1_trs_stable, :, 0, n][:, test_card_ts])\n"
     ]
    },
    {
     "name": "stdout",
     "output_type": "stream",
     "text": [
      "success_2023-05-01-09-44-09_wcst_135_final_maybe\n"
     ]
    },
    {
     "name": "stderr",
     "output_type": "stream",
     "text": [
      "/home/yl4317/Documents/two_module_rnn/code/functions.py:2584: RuntimeWarning: invalid value encountered in divide\n",
      "  act_rule1_time = np.mean(rnn_activity[rule1_trs_stable, :, 0, n], axis=0)\n",
      "/home/yl4317/Documents/two_module_rnn/code/functions.py:2594: RuntimeWarning: invalid value encountered in scalar divide\n",
      "  act_rule1_fdbk = np.mean(rnn_activity[rule1_trs_stable, :, 0, n][:, fdbk_ts])\n",
      "/home/yl4317/Documents/two_module_rnn/code/functions.py:2598: RuntimeWarning: invalid value encountered in scalar divide\n",
      "  act_rule1_iti = np.mean(rnn_activity[rule1_trs_stable, :, 0, n][:, iti_ts])\n",
      "/home/yl4317/Documents/two_module_rnn/code/functions.py:2602: RuntimeWarning: invalid value encountered in scalar divide\n",
      "  act_rule1_ref_card = np.mean(rnn_activity[rule1_trs_stable, :, 0, n][:, ref_card_ts])\n",
      "/home/yl4317/Documents/two_module_rnn/code/functions.py:2606: RuntimeWarning: invalid value encountered in scalar divide\n",
      "  act_rule1_test_card = np.mean(rnn_activity[rule1_trs_stable, :, 0, n][:, test_card_ts])\n"
     ]
    },
    {
     "name": "stdout",
     "output_type": "stream",
     "text": [
      "success_2023-05-01-09-44-09_wcst_136_final_maybe\n"
     ]
    },
    {
     "name": "stderr",
     "output_type": "stream",
     "text": [
      "/home/yl4317/Documents/two_module_rnn/code/functions.py:2584: RuntimeWarning: invalid value encountered in divide\n",
      "  act_rule1_time = np.mean(rnn_activity[rule1_trs_stable, :, 0, n], axis=0)\n",
      "/home/yl4317/Documents/two_module_rnn/code/functions.py:2594: RuntimeWarning: invalid value encountered in scalar divide\n",
      "  act_rule1_fdbk = np.mean(rnn_activity[rule1_trs_stable, :, 0, n][:, fdbk_ts])\n",
      "/home/yl4317/Documents/two_module_rnn/code/functions.py:2598: RuntimeWarning: invalid value encountered in scalar divide\n",
      "  act_rule1_iti = np.mean(rnn_activity[rule1_trs_stable, :, 0, n][:, iti_ts])\n",
      "/home/yl4317/Documents/two_module_rnn/code/functions.py:2602: RuntimeWarning: invalid value encountered in scalar divide\n",
      "  act_rule1_ref_card = np.mean(rnn_activity[rule1_trs_stable, :, 0, n][:, ref_card_ts])\n",
      "/home/yl4317/Documents/two_module_rnn/code/functions.py:2606: RuntimeWarning: invalid value encountered in scalar divide\n",
      "  act_rule1_test_card = np.mean(rnn_activity[rule1_trs_stable, :, 0, n][:, test_card_ts])\n"
     ]
    },
    {
     "name": "stdout",
     "output_type": "stream",
     "text": [
      "success_2023-05-01-09-44-09_wcst_137_final_maybe\n"
     ]
    },
    {
     "name": "stderr",
     "output_type": "stream",
     "text": [
      "/home/yl4317/Documents/two_module_rnn/code/functions.py:2584: RuntimeWarning: invalid value encountered in divide\n",
      "  act_rule1_time = np.mean(rnn_activity[rule1_trs_stable, :, 0, n], axis=0)\n",
      "/home/yl4317/Documents/two_module_rnn/code/functions.py:2594: RuntimeWarning: invalid value encountered in scalar divide\n",
      "  act_rule1_fdbk = np.mean(rnn_activity[rule1_trs_stable, :, 0, n][:, fdbk_ts])\n",
      "/home/yl4317/Documents/two_module_rnn/code/functions.py:2598: RuntimeWarning: invalid value encountered in scalar divide\n",
      "  act_rule1_iti = np.mean(rnn_activity[rule1_trs_stable, :, 0, n][:, iti_ts])\n",
      "/home/yl4317/Documents/two_module_rnn/code/functions.py:2602: RuntimeWarning: invalid value encountered in scalar divide\n",
      "  act_rule1_ref_card = np.mean(rnn_activity[rule1_trs_stable, :, 0, n][:, ref_card_ts])\n",
      "/home/yl4317/Documents/two_module_rnn/code/functions.py:2606: RuntimeWarning: invalid value encountered in scalar divide\n",
      "  act_rule1_test_card = np.mean(rnn_activity[rule1_trs_stable, :, 0, n][:, test_card_ts])\n"
     ]
    },
    {
     "name": "stdout",
     "output_type": "stream",
     "text": [
      "success_2023-05-01-09-44-09_wcst_139_final_maybe\n"
     ]
    },
    {
     "name": "stderr",
     "output_type": "stream",
     "text": [
      "/home/yl4317/Documents/two_module_rnn/code/functions.py:2584: RuntimeWarning: invalid value encountered in divide\n",
      "  act_rule1_time = np.mean(rnn_activity[rule1_trs_stable, :, 0, n], axis=0)\n",
      "/home/yl4317/Documents/two_module_rnn/code/functions.py:2594: RuntimeWarning: invalid value encountered in scalar divide\n",
      "  act_rule1_fdbk = np.mean(rnn_activity[rule1_trs_stable, :, 0, n][:, fdbk_ts])\n",
      "/home/yl4317/Documents/two_module_rnn/code/functions.py:2598: RuntimeWarning: invalid value encountered in scalar divide\n",
      "  act_rule1_iti = np.mean(rnn_activity[rule1_trs_stable, :, 0, n][:, iti_ts])\n",
      "/home/yl4317/Documents/two_module_rnn/code/functions.py:2602: RuntimeWarning: invalid value encountered in scalar divide\n",
      "  act_rule1_ref_card = np.mean(rnn_activity[rule1_trs_stable, :, 0, n][:, ref_card_ts])\n",
      "/home/yl4317/Documents/two_module_rnn/code/functions.py:2606: RuntimeWarning: invalid value encountered in scalar divide\n",
      "  act_rule1_test_card = np.mean(rnn_activity[rule1_trs_stable, :, 0, n][:, test_card_ts])\n"
     ]
    },
    {
     "name": "stdout",
     "output_type": "stream",
     "text": [
      "success_2023-05-01-09-44-09_wcst_141_final_maybe\n"
     ]
    },
    {
     "name": "stderr",
     "output_type": "stream",
     "text": [
      "/home/yl4317/Documents/two_module_rnn/code/functions.py:2584: RuntimeWarning: invalid value encountered in divide\n",
      "  act_rule1_time = np.mean(rnn_activity[rule1_trs_stable, :, 0, n], axis=0)\n",
      "/home/yl4317/Documents/two_module_rnn/code/functions.py:2594: RuntimeWarning: invalid value encountered in scalar divide\n",
      "  act_rule1_fdbk = np.mean(rnn_activity[rule1_trs_stable, :, 0, n][:, fdbk_ts])\n",
      "/home/yl4317/Documents/two_module_rnn/code/functions.py:2598: RuntimeWarning: invalid value encountered in scalar divide\n",
      "  act_rule1_iti = np.mean(rnn_activity[rule1_trs_stable, :, 0, n][:, iti_ts])\n",
      "/home/yl4317/Documents/two_module_rnn/code/functions.py:2602: RuntimeWarning: invalid value encountered in scalar divide\n",
      "  act_rule1_ref_card = np.mean(rnn_activity[rule1_trs_stable, :, 0, n][:, ref_card_ts])\n",
      "/home/yl4317/Documents/two_module_rnn/code/functions.py:2606: RuntimeWarning: invalid value encountered in scalar divide\n",
      "  act_rule1_test_card = np.mean(rnn_activity[rule1_trs_stable, :, 0, n][:, test_card_ts])\n"
     ]
    },
    {
     "name": "stdout",
     "output_type": "stream",
     "text": [
      "success_2023-05-01-09-44-09_wcst_142_final_maybe\n"
     ]
    },
    {
     "name": "stderr",
     "output_type": "stream",
     "text": [
      "/home/yl4317/Documents/two_module_rnn/code/functions.py:2584: RuntimeWarning: invalid value encountered in divide\n",
      "  act_rule1_time = np.mean(rnn_activity[rule1_trs_stable, :, 0, n], axis=0)\n",
      "/home/yl4317/Documents/two_module_rnn/code/functions.py:2594: RuntimeWarning: invalid value encountered in scalar divide\n",
      "  act_rule1_fdbk = np.mean(rnn_activity[rule1_trs_stable, :, 0, n][:, fdbk_ts])\n",
      "/home/yl4317/Documents/two_module_rnn/code/functions.py:2598: RuntimeWarning: invalid value encountered in scalar divide\n",
      "  act_rule1_iti = np.mean(rnn_activity[rule1_trs_stable, :, 0, n][:, iti_ts])\n",
      "/home/yl4317/Documents/two_module_rnn/code/functions.py:2602: RuntimeWarning: invalid value encountered in scalar divide\n",
      "  act_rule1_ref_card = np.mean(rnn_activity[rule1_trs_stable, :, 0, n][:, ref_card_ts])\n",
      "/home/yl4317/Documents/two_module_rnn/code/functions.py:2606: RuntimeWarning: invalid value encountered in scalar divide\n",
      "  act_rule1_test_card = np.mean(rnn_activity[rule1_trs_stable, :, 0, n][:, test_card_ts])\n"
     ]
    },
    {
     "name": "stdout",
     "output_type": "stream",
     "text": [
      "success_2023-05-01-09-44-09_wcst_145_final_maybe\n"
     ]
    },
    {
     "name": "stderr",
     "output_type": "stream",
     "text": [
      "/home/yl4317/Documents/two_module_rnn/code/functions.py:2584: RuntimeWarning: invalid value encountered in divide\n",
      "  act_rule1_time = np.mean(rnn_activity[rule1_trs_stable, :, 0, n], axis=0)\n",
      "/home/yl4317/Documents/two_module_rnn/code/functions.py:2594: RuntimeWarning: invalid value encountered in scalar divide\n",
      "  act_rule1_fdbk = np.mean(rnn_activity[rule1_trs_stable, :, 0, n][:, fdbk_ts])\n",
      "/home/yl4317/Documents/two_module_rnn/code/functions.py:2598: RuntimeWarning: invalid value encountered in scalar divide\n",
      "  act_rule1_iti = np.mean(rnn_activity[rule1_trs_stable, :, 0, n][:, iti_ts])\n",
      "/home/yl4317/Documents/two_module_rnn/code/functions.py:2602: RuntimeWarning: invalid value encountered in scalar divide\n",
      "  act_rule1_ref_card = np.mean(rnn_activity[rule1_trs_stable, :, 0, n][:, ref_card_ts])\n",
      "/home/yl4317/Documents/two_module_rnn/code/functions.py:2606: RuntimeWarning: invalid value encountered in scalar divide\n",
      "  act_rule1_test_card = np.mean(rnn_activity[rule1_trs_stable, :, 0, n][:, test_card_ts])\n"
     ]
    },
    {
     "name": "stdout",
     "output_type": "stream",
     "text": [
      "success_2023-05-01-09-44-09_wcst_150_final_maybe\n"
     ]
    },
    {
     "name": "stderr",
     "output_type": "stream",
     "text": [
      "/home/yl4317/Documents/two_module_rnn/code/functions.py:2584: RuntimeWarning: invalid value encountered in divide\n",
      "  act_rule1_time = np.mean(rnn_activity[rule1_trs_stable, :, 0, n], axis=0)\n",
      "/home/yl4317/Documents/two_module_rnn/code/functions.py:2594: RuntimeWarning: invalid value encountered in scalar divide\n",
      "  act_rule1_fdbk = np.mean(rnn_activity[rule1_trs_stable, :, 0, n][:, fdbk_ts])\n",
      "/home/yl4317/Documents/two_module_rnn/code/functions.py:2598: RuntimeWarning: invalid value encountered in scalar divide\n",
      "  act_rule1_iti = np.mean(rnn_activity[rule1_trs_stable, :, 0, n][:, iti_ts])\n",
      "/home/yl4317/Documents/two_module_rnn/code/functions.py:2602: RuntimeWarning: invalid value encountered in scalar divide\n",
      "  act_rule1_ref_card = np.mean(rnn_activity[rule1_trs_stable, :, 0, n][:, ref_card_ts])\n",
      "/home/yl4317/Documents/two_module_rnn/code/functions.py:2606: RuntimeWarning: invalid value encountered in scalar divide\n",
      "  act_rule1_test_card = np.mean(rnn_activity[rule1_trs_stable, :, 0, n][:, test_card_ts])\n"
     ]
    },
    {
     "name": "stdout",
     "output_type": "stream",
     "text": [
      "success_2023-05-01-09-44-09_wcst_153_final_maybe\n"
     ]
    },
    {
     "name": "stderr",
     "output_type": "stream",
     "text": [
      "/home/yl4317/Documents/two_module_rnn/code/functions.py:2584: RuntimeWarning: invalid value encountered in divide\n",
      "  act_rule1_time = np.mean(rnn_activity[rule1_trs_stable, :, 0, n], axis=0)\n",
      "/home/yl4317/Documents/two_module_rnn/code/functions.py:2594: RuntimeWarning: invalid value encountered in scalar divide\n",
      "  act_rule1_fdbk = np.mean(rnn_activity[rule1_trs_stable, :, 0, n][:, fdbk_ts])\n",
      "/home/yl4317/Documents/two_module_rnn/code/functions.py:2598: RuntimeWarning: invalid value encountered in scalar divide\n",
      "  act_rule1_iti = np.mean(rnn_activity[rule1_trs_stable, :, 0, n][:, iti_ts])\n",
      "/home/yl4317/Documents/two_module_rnn/code/functions.py:2602: RuntimeWarning: invalid value encountered in scalar divide\n",
      "  act_rule1_ref_card = np.mean(rnn_activity[rule1_trs_stable, :, 0, n][:, ref_card_ts])\n",
      "/home/yl4317/Documents/two_module_rnn/code/functions.py:2606: RuntimeWarning: invalid value encountered in scalar divide\n",
      "  act_rule1_test_card = np.mean(rnn_activity[rule1_trs_stable, :, 0, n][:, test_card_ts])\n"
     ]
    },
    {
     "name": "stdout",
     "output_type": "stream",
     "text": [
      "success_2023-05-01-09-44-09_wcst_161_final_maybe\n"
     ]
    },
    {
     "name": "stderr",
     "output_type": "stream",
     "text": [
      "/home/yl4317/Documents/two_module_rnn/code/functions.py:2584: RuntimeWarning: invalid value encountered in divide\n",
      "  act_rule1_time = np.mean(rnn_activity[rule1_trs_stable, :, 0, n], axis=0)\n",
      "/home/yl4317/Documents/two_module_rnn/code/functions.py:2594: RuntimeWarning: invalid value encountered in scalar divide\n",
      "  act_rule1_fdbk = np.mean(rnn_activity[rule1_trs_stable, :, 0, n][:, fdbk_ts])\n",
      "/home/yl4317/Documents/two_module_rnn/code/functions.py:2598: RuntimeWarning: invalid value encountered in scalar divide\n",
      "  act_rule1_iti = np.mean(rnn_activity[rule1_trs_stable, :, 0, n][:, iti_ts])\n",
      "/home/yl4317/Documents/two_module_rnn/code/functions.py:2602: RuntimeWarning: invalid value encountered in scalar divide\n",
      "  act_rule1_ref_card = np.mean(rnn_activity[rule1_trs_stable, :, 0, n][:, ref_card_ts])\n",
      "/home/yl4317/Documents/two_module_rnn/code/functions.py:2606: RuntimeWarning: invalid value encountered in scalar divide\n",
      "  act_rule1_test_card = np.mean(rnn_activity[rule1_trs_stable, :, 0, n][:, test_card_ts])\n"
     ]
    },
    {
     "name": "stdout",
     "output_type": "stream",
     "text": [
      "success_2023-05-01-09-44-09_wcst_166_final_maybe\n"
     ]
    },
    {
     "name": "stderr",
     "output_type": "stream",
     "text": [
      "/home/yl4317/Documents/two_module_rnn/code/functions.py:2584: RuntimeWarning: invalid value encountered in divide\n",
      "  act_rule1_time = np.mean(rnn_activity[rule1_trs_stable, :, 0, n], axis=0)\n",
      "/home/yl4317/Documents/two_module_rnn/code/functions.py:2594: RuntimeWarning: invalid value encountered in scalar divide\n",
      "  act_rule1_fdbk = np.mean(rnn_activity[rule1_trs_stable, :, 0, n][:, fdbk_ts])\n",
      "/home/yl4317/Documents/two_module_rnn/code/functions.py:2598: RuntimeWarning: invalid value encountered in scalar divide\n",
      "  act_rule1_iti = np.mean(rnn_activity[rule1_trs_stable, :, 0, n][:, iti_ts])\n",
      "/home/yl4317/Documents/two_module_rnn/code/functions.py:2602: RuntimeWarning: invalid value encountered in scalar divide\n",
      "  act_rule1_ref_card = np.mean(rnn_activity[rule1_trs_stable, :, 0, n][:, ref_card_ts])\n",
      "/home/yl4317/Documents/two_module_rnn/code/functions.py:2606: RuntimeWarning: invalid value encountered in scalar divide\n",
      "  act_rule1_test_card = np.mean(rnn_activity[rule1_trs_stable, :, 0, n][:, test_card_ts])\n"
     ]
    },
    {
     "name": "stdout",
     "output_type": "stream",
     "text": [
      "success_2023-05-01-09-44-09_wcst_176_final_maybe\n"
     ]
    },
    {
     "name": "stderr",
     "output_type": "stream",
     "text": [
      "/home/yl4317/Documents/two_module_rnn/code/functions.py:2584: RuntimeWarning: invalid value encountered in divide\n",
      "  act_rule1_time = np.mean(rnn_activity[rule1_trs_stable, :, 0, n], axis=0)\n",
      "/home/yl4317/Documents/two_module_rnn/code/functions.py:2594: RuntimeWarning: invalid value encountered in scalar divide\n",
      "  act_rule1_fdbk = np.mean(rnn_activity[rule1_trs_stable, :, 0, n][:, fdbk_ts])\n",
      "/home/yl4317/Documents/two_module_rnn/code/functions.py:2598: RuntimeWarning: invalid value encountered in scalar divide\n",
      "  act_rule1_iti = np.mean(rnn_activity[rule1_trs_stable, :, 0, n][:, iti_ts])\n",
      "/home/yl4317/Documents/two_module_rnn/code/functions.py:2602: RuntimeWarning: invalid value encountered in scalar divide\n",
      "  act_rule1_ref_card = np.mean(rnn_activity[rule1_trs_stable, :, 0, n][:, ref_card_ts])\n",
      "/home/yl4317/Documents/two_module_rnn/code/functions.py:2606: RuntimeWarning: invalid value encountered in scalar divide\n",
      "  act_rule1_test_card = np.mean(rnn_activity[rule1_trs_stable, :, 0, n][:, test_card_ts])\n"
     ]
    },
    {
     "name": "stdout",
     "output_type": "stream",
     "text": [
      "success_2023-05-01-09-44-09_wcst_179_final_maybe\n"
     ]
    },
    {
     "name": "stderr",
     "output_type": "stream",
     "text": [
      "/home/yl4317/Documents/two_module_rnn/code/functions.py:2584: RuntimeWarning: invalid value encountered in divide\n",
      "  act_rule1_time = np.mean(rnn_activity[rule1_trs_stable, :, 0, n], axis=0)\n",
      "/home/yl4317/Documents/two_module_rnn/code/functions.py:2594: RuntimeWarning: invalid value encountered in scalar divide\n",
      "  act_rule1_fdbk = np.mean(rnn_activity[rule1_trs_stable, :, 0, n][:, fdbk_ts])\n",
      "/home/yl4317/Documents/two_module_rnn/code/functions.py:2598: RuntimeWarning: invalid value encountered in scalar divide\n",
      "  act_rule1_iti = np.mean(rnn_activity[rule1_trs_stable, :, 0, n][:, iti_ts])\n",
      "/home/yl4317/Documents/two_module_rnn/code/functions.py:2602: RuntimeWarning: invalid value encountered in scalar divide\n",
      "  act_rule1_ref_card = np.mean(rnn_activity[rule1_trs_stable, :, 0, n][:, ref_card_ts])\n",
      "/home/yl4317/Documents/two_module_rnn/code/functions.py:2606: RuntimeWarning: invalid value encountered in scalar divide\n",
      "  act_rule1_test_card = np.mean(rnn_activity[rule1_trs_stable, :, 0, n][:, test_card_ts])\n"
     ]
    },
    {
     "name": "stdout",
     "output_type": "stream",
     "text": [
      "success_2023-05-01-09-44-09_wcst_17_final_maybe\n"
     ]
    },
    {
     "name": "stderr",
     "output_type": "stream",
     "text": [
      "/home/yl4317/Documents/two_module_rnn/code/functions.py:2584: RuntimeWarning: invalid value encountered in divide\n",
      "  act_rule1_time = np.mean(rnn_activity[rule1_trs_stable, :, 0, n], axis=0)\n",
      "/home/yl4317/Documents/two_module_rnn/code/functions.py:2594: RuntimeWarning: invalid value encountered in scalar divide\n",
      "  act_rule1_fdbk = np.mean(rnn_activity[rule1_trs_stable, :, 0, n][:, fdbk_ts])\n",
      "/home/yl4317/Documents/two_module_rnn/code/functions.py:2598: RuntimeWarning: invalid value encountered in scalar divide\n",
      "  act_rule1_iti = np.mean(rnn_activity[rule1_trs_stable, :, 0, n][:, iti_ts])\n",
      "/home/yl4317/Documents/two_module_rnn/code/functions.py:2602: RuntimeWarning: invalid value encountered in scalar divide\n",
      "  act_rule1_ref_card = np.mean(rnn_activity[rule1_trs_stable, :, 0, n][:, ref_card_ts])\n",
      "/home/yl4317/Documents/two_module_rnn/code/functions.py:2606: RuntimeWarning: invalid value encountered in scalar divide\n",
      "  act_rule1_test_card = np.mean(rnn_activity[rule1_trs_stable, :, 0, n][:, test_card_ts])\n"
     ]
    },
    {
     "name": "stdout",
     "output_type": "stream",
     "text": [
      "success_2023-05-01-09-44-09_wcst_181_final_maybe\n"
     ]
    },
    {
     "name": "stderr",
     "output_type": "stream",
     "text": [
      "/home/yl4317/Documents/two_module_rnn/code/functions.py:2584: RuntimeWarning: invalid value encountered in divide\n",
      "  act_rule1_time = np.mean(rnn_activity[rule1_trs_stable, :, 0, n], axis=0)\n",
      "/home/yl4317/Documents/two_module_rnn/code/functions.py:2594: RuntimeWarning: invalid value encountered in scalar divide\n",
      "  act_rule1_fdbk = np.mean(rnn_activity[rule1_trs_stable, :, 0, n][:, fdbk_ts])\n",
      "/home/yl4317/Documents/two_module_rnn/code/functions.py:2598: RuntimeWarning: invalid value encountered in scalar divide\n",
      "  act_rule1_iti = np.mean(rnn_activity[rule1_trs_stable, :, 0, n][:, iti_ts])\n",
      "/home/yl4317/Documents/two_module_rnn/code/functions.py:2602: RuntimeWarning: invalid value encountered in scalar divide\n",
      "  act_rule1_ref_card = np.mean(rnn_activity[rule1_trs_stable, :, 0, n][:, ref_card_ts])\n",
      "/home/yl4317/Documents/two_module_rnn/code/functions.py:2606: RuntimeWarning: invalid value encountered in scalar divide\n",
      "  act_rule1_test_card = np.mean(rnn_activity[rule1_trs_stable, :, 0, n][:, test_card_ts])\n"
     ]
    },
    {
     "name": "stdout",
     "output_type": "stream",
     "text": [
      "success_2023-05-01-09-44-09_wcst_182_final_maybe\n"
     ]
    },
    {
     "name": "stderr",
     "output_type": "stream",
     "text": [
      "/home/yl4317/Documents/two_module_rnn/code/functions.py:2584: RuntimeWarning: invalid value encountered in divide\n",
      "  act_rule1_time = np.mean(rnn_activity[rule1_trs_stable, :, 0, n], axis=0)\n",
      "/home/yl4317/Documents/two_module_rnn/code/functions.py:2594: RuntimeWarning: invalid value encountered in scalar divide\n",
      "  act_rule1_fdbk = np.mean(rnn_activity[rule1_trs_stable, :, 0, n][:, fdbk_ts])\n",
      "/home/yl4317/Documents/two_module_rnn/code/functions.py:2598: RuntimeWarning: invalid value encountered in scalar divide\n",
      "  act_rule1_iti = np.mean(rnn_activity[rule1_trs_stable, :, 0, n][:, iti_ts])\n",
      "/home/yl4317/Documents/two_module_rnn/code/functions.py:2602: RuntimeWarning: invalid value encountered in scalar divide\n",
      "  act_rule1_ref_card = np.mean(rnn_activity[rule1_trs_stable, :, 0, n][:, ref_card_ts])\n",
      "/home/yl4317/Documents/two_module_rnn/code/functions.py:2606: RuntimeWarning: invalid value encountered in scalar divide\n",
      "  act_rule1_test_card = np.mean(rnn_activity[rule1_trs_stable, :, 0, n][:, test_card_ts])\n"
     ]
    },
    {
     "name": "stdout",
     "output_type": "stream",
     "text": [
      "success_2023-05-01-09-44-09_wcst_184_final_maybe\n"
     ]
    },
    {
     "name": "stderr",
     "output_type": "stream",
     "text": [
      "/home/yl4317/Documents/two_module_rnn/code/functions.py:2584: RuntimeWarning: invalid value encountered in divide\n",
      "  act_rule1_time = np.mean(rnn_activity[rule1_trs_stable, :, 0, n], axis=0)\n",
      "/home/yl4317/Documents/two_module_rnn/code/functions.py:2594: RuntimeWarning: invalid value encountered in scalar divide\n",
      "  act_rule1_fdbk = np.mean(rnn_activity[rule1_trs_stable, :, 0, n][:, fdbk_ts])\n",
      "/home/yl4317/Documents/two_module_rnn/code/functions.py:2598: RuntimeWarning: invalid value encountered in scalar divide\n",
      "  act_rule1_iti = np.mean(rnn_activity[rule1_trs_stable, :, 0, n][:, iti_ts])\n",
      "/home/yl4317/Documents/two_module_rnn/code/functions.py:2602: RuntimeWarning: invalid value encountered in scalar divide\n",
      "  act_rule1_ref_card = np.mean(rnn_activity[rule1_trs_stable, :, 0, n][:, ref_card_ts])\n",
      "/home/yl4317/Documents/two_module_rnn/code/functions.py:2606: RuntimeWarning: invalid value encountered in scalar divide\n",
      "  act_rule1_test_card = np.mean(rnn_activity[rule1_trs_stable, :, 0, n][:, test_card_ts])\n"
     ]
    },
    {
     "name": "stdout",
     "output_type": "stream",
     "text": [
      "success_2023-05-01-09-44-09_wcst_18_final_maybe\n"
     ]
    },
    {
     "name": "stderr",
     "output_type": "stream",
     "text": [
      "/home/yl4317/Documents/two_module_rnn/code/functions.py:2584: RuntimeWarning: invalid value encountered in divide\n",
      "  act_rule1_time = np.mean(rnn_activity[rule1_trs_stable, :, 0, n], axis=0)\n",
      "/home/yl4317/Documents/two_module_rnn/code/functions.py:2594: RuntimeWarning: invalid value encountered in scalar divide\n",
      "  act_rule1_fdbk = np.mean(rnn_activity[rule1_trs_stable, :, 0, n][:, fdbk_ts])\n",
      "/home/yl4317/Documents/two_module_rnn/code/functions.py:2598: RuntimeWarning: invalid value encountered in scalar divide\n",
      "  act_rule1_iti = np.mean(rnn_activity[rule1_trs_stable, :, 0, n][:, iti_ts])\n",
      "/home/yl4317/Documents/two_module_rnn/code/functions.py:2602: RuntimeWarning: invalid value encountered in scalar divide\n",
      "  act_rule1_ref_card = np.mean(rnn_activity[rule1_trs_stable, :, 0, n][:, ref_card_ts])\n",
      "/home/yl4317/Documents/two_module_rnn/code/functions.py:2606: RuntimeWarning: invalid value encountered in scalar divide\n",
      "  act_rule1_test_card = np.mean(rnn_activity[rule1_trs_stable, :, 0, n][:, test_card_ts])\n"
     ]
    },
    {
     "name": "stdout",
     "output_type": "stream",
     "text": [
      "success_2023-05-01-09-44-09_wcst_190_final_maybe\n"
     ]
    },
    {
     "name": "stderr",
     "output_type": "stream",
     "text": [
      "/home/yl4317/Documents/two_module_rnn/code/functions.py:2584: RuntimeWarning: invalid value encountered in divide\n",
      "  act_rule1_time = np.mean(rnn_activity[rule1_trs_stable, :, 0, n], axis=0)\n",
      "/home/yl4317/Documents/two_module_rnn/code/functions.py:2594: RuntimeWarning: invalid value encountered in scalar divide\n",
      "  act_rule1_fdbk = np.mean(rnn_activity[rule1_trs_stable, :, 0, n][:, fdbk_ts])\n",
      "/home/yl4317/Documents/two_module_rnn/code/functions.py:2598: RuntimeWarning: invalid value encountered in scalar divide\n",
      "  act_rule1_iti = np.mean(rnn_activity[rule1_trs_stable, :, 0, n][:, iti_ts])\n",
      "/home/yl4317/Documents/two_module_rnn/code/functions.py:2602: RuntimeWarning: invalid value encountered in scalar divide\n",
      "  act_rule1_ref_card = np.mean(rnn_activity[rule1_trs_stable, :, 0, n][:, ref_card_ts])\n",
      "/home/yl4317/Documents/two_module_rnn/code/functions.py:2606: RuntimeWarning: invalid value encountered in scalar divide\n",
      "  act_rule1_test_card = np.mean(rnn_activity[rule1_trs_stable, :, 0, n][:, test_card_ts])\n"
     ]
    },
    {
     "name": "stdout",
     "output_type": "stream",
     "text": [
      "success_2023-05-01-09-44-09_wcst_199_final_maybe\n"
     ]
    },
    {
     "name": "stderr",
     "output_type": "stream",
     "text": [
      "/home/yl4317/Documents/two_module_rnn/code/functions.py:2584: RuntimeWarning: invalid value encountered in divide\n",
      "  act_rule1_time = np.mean(rnn_activity[rule1_trs_stable, :, 0, n], axis=0)\n",
      "/home/yl4317/Documents/two_module_rnn/code/functions.py:2594: RuntimeWarning: invalid value encountered in scalar divide\n",
      "  act_rule1_fdbk = np.mean(rnn_activity[rule1_trs_stable, :, 0, n][:, fdbk_ts])\n",
      "/home/yl4317/Documents/two_module_rnn/code/functions.py:2598: RuntimeWarning: invalid value encountered in scalar divide\n",
      "  act_rule1_iti = np.mean(rnn_activity[rule1_trs_stable, :, 0, n][:, iti_ts])\n",
      "/home/yl4317/Documents/two_module_rnn/code/functions.py:2602: RuntimeWarning: invalid value encountered in scalar divide\n",
      "  act_rule1_ref_card = np.mean(rnn_activity[rule1_trs_stable, :, 0, n][:, ref_card_ts])\n",
      "/home/yl4317/Documents/two_module_rnn/code/functions.py:2606: RuntimeWarning: invalid value encountered in scalar divide\n",
      "  act_rule1_test_card = np.mean(rnn_activity[rule1_trs_stable, :, 0, n][:, test_card_ts])\n"
     ]
    },
    {
     "name": "stdout",
     "output_type": "stream",
     "text": [
      "success_2023-05-01-09-44-09_wcst_23_final_maybe\n"
     ]
    },
    {
     "name": "stderr",
     "output_type": "stream",
     "text": [
      "/home/yl4317/Documents/two_module_rnn/code/functions.py:2584: RuntimeWarning: invalid value encountered in divide\n",
      "  act_rule1_time = np.mean(rnn_activity[rule1_trs_stable, :, 0, n], axis=0)\n",
      "/home/yl4317/Documents/two_module_rnn/code/functions.py:2594: RuntimeWarning: invalid value encountered in scalar divide\n",
      "  act_rule1_fdbk = np.mean(rnn_activity[rule1_trs_stable, :, 0, n][:, fdbk_ts])\n",
      "/home/yl4317/Documents/two_module_rnn/code/functions.py:2598: RuntimeWarning: invalid value encountered in scalar divide\n",
      "  act_rule1_iti = np.mean(rnn_activity[rule1_trs_stable, :, 0, n][:, iti_ts])\n",
      "/home/yl4317/Documents/two_module_rnn/code/functions.py:2602: RuntimeWarning: invalid value encountered in scalar divide\n",
      "  act_rule1_ref_card = np.mean(rnn_activity[rule1_trs_stable, :, 0, n][:, ref_card_ts])\n",
      "/home/yl4317/Documents/two_module_rnn/code/functions.py:2606: RuntimeWarning: invalid value encountered in scalar divide\n",
      "  act_rule1_test_card = np.mean(rnn_activity[rule1_trs_stable, :, 0, n][:, test_card_ts])\n"
     ]
    },
    {
     "name": "stdout",
     "output_type": "stream",
     "text": [
      "success_2023-05-01-09-44-09_wcst_29_final_maybe\n"
     ]
    },
    {
     "name": "stderr",
     "output_type": "stream",
     "text": [
      "/home/yl4317/Documents/two_module_rnn/code/functions.py:2584: RuntimeWarning: invalid value encountered in divide\n",
      "  act_rule1_time = np.mean(rnn_activity[rule1_trs_stable, :, 0, n], axis=0)\n",
      "/home/yl4317/Documents/two_module_rnn/code/functions.py:2594: RuntimeWarning: invalid value encountered in scalar divide\n",
      "  act_rule1_fdbk = np.mean(rnn_activity[rule1_trs_stable, :, 0, n][:, fdbk_ts])\n",
      "/home/yl4317/Documents/two_module_rnn/code/functions.py:2598: RuntimeWarning: invalid value encountered in scalar divide\n",
      "  act_rule1_iti = np.mean(rnn_activity[rule1_trs_stable, :, 0, n][:, iti_ts])\n",
      "/home/yl4317/Documents/two_module_rnn/code/functions.py:2602: RuntimeWarning: invalid value encountered in scalar divide\n",
      "  act_rule1_ref_card = np.mean(rnn_activity[rule1_trs_stable, :, 0, n][:, ref_card_ts])\n",
      "/home/yl4317/Documents/two_module_rnn/code/functions.py:2606: RuntimeWarning: invalid value encountered in scalar divide\n",
      "  act_rule1_test_card = np.mean(rnn_activity[rule1_trs_stable, :, 0, n][:, test_card_ts])\n"
     ]
    },
    {
     "name": "stdout",
     "output_type": "stream",
     "text": [
      "success_2023-05-01-09-44-09_wcst_38_final_maybe\n"
     ]
    },
    {
     "name": "stderr",
     "output_type": "stream",
     "text": [
      "/home/yl4317/Documents/two_module_rnn/code/functions.py:2584: RuntimeWarning: invalid value encountered in divide\n",
      "  act_rule1_time = np.mean(rnn_activity[rule1_trs_stable, :, 0, n], axis=0)\n",
      "/home/yl4317/Documents/two_module_rnn/code/functions.py:2594: RuntimeWarning: invalid value encountered in scalar divide\n",
      "  act_rule1_fdbk = np.mean(rnn_activity[rule1_trs_stable, :, 0, n][:, fdbk_ts])\n",
      "/home/yl4317/Documents/two_module_rnn/code/functions.py:2598: RuntimeWarning: invalid value encountered in scalar divide\n",
      "  act_rule1_iti = np.mean(rnn_activity[rule1_trs_stable, :, 0, n][:, iti_ts])\n",
      "/home/yl4317/Documents/two_module_rnn/code/functions.py:2602: RuntimeWarning: invalid value encountered in scalar divide\n",
      "  act_rule1_ref_card = np.mean(rnn_activity[rule1_trs_stable, :, 0, n][:, ref_card_ts])\n",
      "/home/yl4317/Documents/two_module_rnn/code/functions.py:2606: RuntimeWarning: invalid value encountered in scalar divide\n",
      "  act_rule1_test_card = np.mean(rnn_activity[rule1_trs_stable, :, 0, n][:, test_card_ts])\n"
     ]
    },
    {
     "name": "stdout",
     "output_type": "stream",
     "text": [
      "success_2023-05-01-09-44-09_wcst_39_final_maybe\n"
     ]
    },
    {
     "name": "stderr",
     "output_type": "stream",
     "text": [
      "/home/yl4317/Documents/two_module_rnn/code/functions.py:2584: RuntimeWarning: invalid value encountered in divide\n",
      "  act_rule1_time = np.mean(rnn_activity[rule1_trs_stable, :, 0, n], axis=0)\n",
      "/home/yl4317/Documents/two_module_rnn/code/functions.py:2594: RuntimeWarning: invalid value encountered in scalar divide\n",
      "  act_rule1_fdbk = np.mean(rnn_activity[rule1_trs_stable, :, 0, n][:, fdbk_ts])\n",
      "/home/yl4317/Documents/two_module_rnn/code/functions.py:2598: RuntimeWarning: invalid value encountered in scalar divide\n",
      "  act_rule1_iti = np.mean(rnn_activity[rule1_trs_stable, :, 0, n][:, iti_ts])\n",
      "/home/yl4317/Documents/two_module_rnn/code/functions.py:2602: RuntimeWarning: invalid value encountered in scalar divide\n",
      "  act_rule1_ref_card = np.mean(rnn_activity[rule1_trs_stable, :, 0, n][:, ref_card_ts])\n",
      "/home/yl4317/Documents/two_module_rnn/code/functions.py:2606: RuntimeWarning: invalid value encountered in scalar divide\n",
      "  act_rule1_test_card = np.mean(rnn_activity[rule1_trs_stable, :, 0, n][:, test_card_ts])\n"
     ]
    },
    {
     "name": "stdout",
     "output_type": "stream",
     "text": [
      "success_2023-05-01-09-44-09_wcst_40_final_maybe\n"
     ]
    },
    {
     "name": "stderr",
     "output_type": "stream",
     "text": [
      "/home/yl4317/Documents/two_module_rnn/code/functions.py:2584: RuntimeWarning: invalid value encountered in divide\n",
      "  act_rule1_time = np.mean(rnn_activity[rule1_trs_stable, :, 0, n], axis=0)\n",
      "/home/yl4317/Documents/two_module_rnn/code/functions.py:2594: RuntimeWarning: invalid value encountered in scalar divide\n",
      "  act_rule1_fdbk = np.mean(rnn_activity[rule1_trs_stable, :, 0, n][:, fdbk_ts])\n",
      "/home/yl4317/Documents/two_module_rnn/code/functions.py:2598: RuntimeWarning: invalid value encountered in scalar divide\n",
      "  act_rule1_iti = np.mean(rnn_activity[rule1_trs_stable, :, 0, n][:, iti_ts])\n",
      "/home/yl4317/Documents/two_module_rnn/code/functions.py:2602: RuntimeWarning: invalid value encountered in scalar divide\n",
      "  act_rule1_ref_card = np.mean(rnn_activity[rule1_trs_stable, :, 0, n][:, ref_card_ts])\n",
      "/home/yl4317/Documents/two_module_rnn/code/functions.py:2606: RuntimeWarning: invalid value encountered in scalar divide\n",
      "  act_rule1_test_card = np.mean(rnn_activity[rule1_trs_stable, :, 0, n][:, test_card_ts])\n"
     ]
    },
    {
     "name": "stdout",
     "output_type": "stream",
     "text": [
      "success_2023-05-01-09-44-09_wcst_41_final_maybe\n"
     ]
    },
    {
     "name": "stderr",
     "output_type": "stream",
     "text": [
      "/home/yl4317/Documents/two_module_rnn/code/functions.py:2584: RuntimeWarning: invalid value encountered in divide\n",
      "  act_rule1_time = np.mean(rnn_activity[rule1_trs_stable, :, 0, n], axis=0)\n",
      "/home/yl4317/Documents/two_module_rnn/code/functions.py:2594: RuntimeWarning: invalid value encountered in scalar divide\n",
      "  act_rule1_fdbk = np.mean(rnn_activity[rule1_trs_stable, :, 0, n][:, fdbk_ts])\n",
      "/home/yl4317/Documents/two_module_rnn/code/functions.py:2598: RuntimeWarning: invalid value encountered in scalar divide\n",
      "  act_rule1_iti = np.mean(rnn_activity[rule1_trs_stable, :, 0, n][:, iti_ts])\n",
      "/home/yl4317/Documents/two_module_rnn/code/functions.py:2602: RuntimeWarning: invalid value encountered in scalar divide\n",
      "  act_rule1_ref_card = np.mean(rnn_activity[rule1_trs_stable, :, 0, n][:, ref_card_ts])\n",
      "/home/yl4317/Documents/two_module_rnn/code/functions.py:2606: RuntimeWarning: invalid value encountered in scalar divide\n",
      "  act_rule1_test_card = np.mean(rnn_activity[rule1_trs_stable, :, 0, n][:, test_card_ts])\n"
     ]
    },
    {
     "name": "stdout",
     "output_type": "stream",
     "text": [
      "success_2023-05-01-09-44-09_wcst_43_final_maybe\n"
     ]
    },
    {
     "name": "stderr",
     "output_type": "stream",
     "text": [
      "/home/yl4317/Documents/two_module_rnn/code/functions.py:2584: RuntimeWarning: invalid value encountered in divide\n",
      "  act_rule1_time = np.mean(rnn_activity[rule1_trs_stable, :, 0, n], axis=0)\n",
      "/home/yl4317/Documents/two_module_rnn/code/functions.py:2594: RuntimeWarning: invalid value encountered in scalar divide\n",
      "  act_rule1_fdbk = np.mean(rnn_activity[rule1_trs_stable, :, 0, n][:, fdbk_ts])\n",
      "/home/yl4317/Documents/two_module_rnn/code/functions.py:2598: RuntimeWarning: invalid value encountered in scalar divide\n",
      "  act_rule1_iti = np.mean(rnn_activity[rule1_trs_stable, :, 0, n][:, iti_ts])\n",
      "/home/yl4317/Documents/two_module_rnn/code/functions.py:2602: RuntimeWarning: invalid value encountered in scalar divide\n",
      "  act_rule1_ref_card = np.mean(rnn_activity[rule1_trs_stable, :, 0, n][:, ref_card_ts])\n",
      "/home/yl4317/Documents/two_module_rnn/code/functions.py:2606: RuntimeWarning: invalid value encountered in scalar divide\n",
      "  act_rule1_test_card = np.mean(rnn_activity[rule1_trs_stable, :, 0, n][:, test_card_ts])\n"
     ]
    },
    {
     "name": "stdout",
     "output_type": "stream",
     "text": [
      "success_2023-05-01-09-44-09_wcst_45_final_maybe\n"
     ]
    },
    {
     "name": "stderr",
     "output_type": "stream",
     "text": [
      "/home/yl4317/Documents/two_module_rnn/code/functions.py:2584: RuntimeWarning: invalid value encountered in divide\n",
      "  act_rule1_time = np.mean(rnn_activity[rule1_trs_stable, :, 0, n], axis=0)\n",
      "/home/yl4317/Documents/two_module_rnn/code/functions.py:2594: RuntimeWarning: invalid value encountered in scalar divide\n",
      "  act_rule1_fdbk = np.mean(rnn_activity[rule1_trs_stable, :, 0, n][:, fdbk_ts])\n",
      "/home/yl4317/Documents/two_module_rnn/code/functions.py:2598: RuntimeWarning: invalid value encountered in scalar divide\n",
      "  act_rule1_iti = np.mean(rnn_activity[rule1_trs_stable, :, 0, n][:, iti_ts])\n",
      "/home/yl4317/Documents/two_module_rnn/code/functions.py:2602: RuntimeWarning: invalid value encountered in scalar divide\n",
      "  act_rule1_ref_card = np.mean(rnn_activity[rule1_trs_stable, :, 0, n][:, ref_card_ts])\n",
      "/home/yl4317/Documents/two_module_rnn/code/functions.py:2606: RuntimeWarning: invalid value encountered in scalar divide\n",
      "  act_rule1_test_card = np.mean(rnn_activity[rule1_trs_stable, :, 0, n][:, test_card_ts])\n"
     ]
    },
    {
     "name": "stdout",
     "output_type": "stream",
     "text": [
      "success_2023-05-01-09-44-09_wcst_46_final_maybe\n"
     ]
    },
    {
     "name": "stderr",
     "output_type": "stream",
     "text": [
      "/home/yl4317/Documents/two_module_rnn/code/functions.py:2584: RuntimeWarning: invalid value encountered in divide\n",
      "  act_rule1_time = np.mean(rnn_activity[rule1_trs_stable, :, 0, n], axis=0)\n",
      "/home/yl4317/Documents/two_module_rnn/code/functions.py:2594: RuntimeWarning: invalid value encountered in scalar divide\n",
      "  act_rule1_fdbk = np.mean(rnn_activity[rule1_trs_stable, :, 0, n][:, fdbk_ts])\n",
      "/home/yl4317/Documents/two_module_rnn/code/functions.py:2598: RuntimeWarning: invalid value encountered in scalar divide\n",
      "  act_rule1_iti = np.mean(rnn_activity[rule1_trs_stable, :, 0, n][:, iti_ts])\n",
      "/home/yl4317/Documents/two_module_rnn/code/functions.py:2602: RuntimeWarning: invalid value encountered in scalar divide\n",
      "  act_rule1_ref_card = np.mean(rnn_activity[rule1_trs_stable, :, 0, n][:, ref_card_ts])\n",
      "/home/yl4317/Documents/two_module_rnn/code/functions.py:2606: RuntimeWarning: invalid value encountered in scalar divide\n",
      "  act_rule1_test_card = np.mean(rnn_activity[rule1_trs_stable, :, 0, n][:, test_card_ts])\n"
     ]
    },
    {
     "name": "stdout",
     "output_type": "stream",
     "text": [
      "success_2023-05-01-09-44-09_wcst_48_final_maybe\n"
     ]
    },
    {
     "name": "stderr",
     "output_type": "stream",
     "text": [
      "/home/yl4317/Documents/two_module_rnn/code/functions.py:2584: RuntimeWarning: invalid value encountered in divide\n",
      "  act_rule1_time = np.mean(rnn_activity[rule1_trs_stable, :, 0, n], axis=0)\n",
      "/home/yl4317/Documents/two_module_rnn/code/functions.py:2594: RuntimeWarning: invalid value encountered in scalar divide\n",
      "  act_rule1_fdbk = np.mean(rnn_activity[rule1_trs_stable, :, 0, n][:, fdbk_ts])\n",
      "/home/yl4317/Documents/two_module_rnn/code/functions.py:2598: RuntimeWarning: invalid value encountered in scalar divide\n",
      "  act_rule1_iti = np.mean(rnn_activity[rule1_trs_stable, :, 0, n][:, iti_ts])\n",
      "/home/yl4317/Documents/two_module_rnn/code/functions.py:2602: RuntimeWarning: invalid value encountered in scalar divide\n",
      "  act_rule1_ref_card = np.mean(rnn_activity[rule1_trs_stable, :, 0, n][:, ref_card_ts])\n",
      "/home/yl4317/Documents/two_module_rnn/code/functions.py:2606: RuntimeWarning: invalid value encountered in scalar divide\n",
      "  act_rule1_test_card = np.mean(rnn_activity[rule1_trs_stable, :, 0, n][:, test_card_ts])\n"
     ]
    },
    {
     "name": "stdout",
     "output_type": "stream",
     "text": [
      "success_2023-05-01-09-44-09_wcst_49_final_maybe\n"
     ]
    },
    {
     "name": "stderr",
     "output_type": "stream",
     "text": [
      "/home/yl4317/Documents/two_module_rnn/code/functions.py:2584: RuntimeWarning: invalid value encountered in divide\n",
      "  act_rule1_time = np.mean(rnn_activity[rule1_trs_stable, :, 0, n], axis=0)\n",
      "/home/yl4317/Documents/two_module_rnn/code/functions.py:2594: RuntimeWarning: invalid value encountered in scalar divide\n",
      "  act_rule1_fdbk = np.mean(rnn_activity[rule1_trs_stable, :, 0, n][:, fdbk_ts])\n",
      "/home/yl4317/Documents/two_module_rnn/code/functions.py:2598: RuntimeWarning: invalid value encountered in scalar divide\n",
      "  act_rule1_iti = np.mean(rnn_activity[rule1_trs_stable, :, 0, n][:, iti_ts])\n",
      "/home/yl4317/Documents/two_module_rnn/code/functions.py:2602: RuntimeWarning: invalid value encountered in scalar divide\n",
      "  act_rule1_ref_card = np.mean(rnn_activity[rule1_trs_stable, :, 0, n][:, ref_card_ts])\n",
      "/home/yl4317/Documents/two_module_rnn/code/functions.py:2606: RuntimeWarning: invalid value encountered in scalar divide\n",
      "  act_rule1_test_card = np.mean(rnn_activity[rule1_trs_stable, :, 0, n][:, test_card_ts])\n"
     ]
    },
    {
     "name": "stdout",
     "output_type": "stream",
     "text": [
      "success_2023-05-01-09-44-09_wcst_55_final_maybe\n"
     ]
    },
    {
     "name": "stderr",
     "output_type": "stream",
     "text": [
      "/home/yl4317/Documents/two_module_rnn/code/functions.py:2584: RuntimeWarning: invalid value encountered in divide\n",
      "  act_rule1_time = np.mean(rnn_activity[rule1_trs_stable, :, 0, n], axis=0)\n",
      "/home/yl4317/Documents/two_module_rnn/code/functions.py:2594: RuntimeWarning: invalid value encountered in scalar divide\n",
      "  act_rule1_fdbk = np.mean(rnn_activity[rule1_trs_stable, :, 0, n][:, fdbk_ts])\n",
      "/home/yl4317/Documents/two_module_rnn/code/functions.py:2598: RuntimeWarning: invalid value encountered in scalar divide\n",
      "  act_rule1_iti = np.mean(rnn_activity[rule1_trs_stable, :, 0, n][:, iti_ts])\n",
      "/home/yl4317/Documents/two_module_rnn/code/functions.py:2602: RuntimeWarning: invalid value encountered in scalar divide\n",
      "  act_rule1_ref_card = np.mean(rnn_activity[rule1_trs_stable, :, 0, n][:, ref_card_ts])\n",
      "/home/yl4317/Documents/two_module_rnn/code/functions.py:2606: RuntimeWarning: invalid value encountered in scalar divide\n",
      "  act_rule1_test_card = np.mean(rnn_activity[rule1_trs_stable, :, 0, n][:, test_card_ts])\n"
     ]
    },
    {
     "name": "stdout",
     "output_type": "stream",
     "text": [
      "success_2023-05-01-09-44-09_wcst_63_final_maybe\n"
     ]
    },
    {
     "name": "stderr",
     "output_type": "stream",
     "text": [
      "/home/yl4317/Documents/two_module_rnn/code/functions.py:2584: RuntimeWarning: invalid value encountered in divide\n",
      "  act_rule1_time = np.mean(rnn_activity[rule1_trs_stable, :, 0, n], axis=0)\n",
      "/home/yl4317/Documents/two_module_rnn/code/functions.py:2594: RuntimeWarning: invalid value encountered in scalar divide\n",
      "  act_rule1_fdbk = np.mean(rnn_activity[rule1_trs_stable, :, 0, n][:, fdbk_ts])\n",
      "/home/yl4317/Documents/two_module_rnn/code/functions.py:2598: RuntimeWarning: invalid value encountered in scalar divide\n",
      "  act_rule1_iti = np.mean(rnn_activity[rule1_trs_stable, :, 0, n][:, iti_ts])\n",
      "/home/yl4317/Documents/two_module_rnn/code/functions.py:2602: RuntimeWarning: invalid value encountered in scalar divide\n",
      "  act_rule1_ref_card = np.mean(rnn_activity[rule1_trs_stable, :, 0, n][:, ref_card_ts])\n",
      "/home/yl4317/Documents/two_module_rnn/code/functions.py:2606: RuntimeWarning: invalid value encountered in scalar divide\n",
      "  act_rule1_test_card = np.mean(rnn_activity[rule1_trs_stable, :, 0, n][:, test_card_ts])\n"
     ]
    },
    {
     "name": "stdout",
     "output_type": "stream",
     "text": [
      "success_2023-05-01-09-44-09_wcst_66_final_maybe\n"
     ]
    },
    {
     "name": "stderr",
     "output_type": "stream",
     "text": [
      "/home/yl4317/Documents/two_module_rnn/code/functions.py:2584: RuntimeWarning: invalid value encountered in divide\n",
      "  act_rule1_time = np.mean(rnn_activity[rule1_trs_stable, :, 0, n], axis=0)\n",
      "/home/yl4317/Documents/two_module_rnn/code/functions.py:2594: RuntimeWarning: invalid value encountered in scalar divide\n",
      "  act_rule1_fdbk = np.mean(rnn_activity[rule1_trs_stable, :, 0, n][:, fdbk_ts])\n",
      "/home/yl4317/Documents/two_module_rnn/code/functions.py:2598: RuntimeWarning: invalid value encountered in scalar divide\n",
      "  act_rule1_iti = np.mean(rnn_activity[rule1_trs_stable, :, 0, n][:, iti_ts])\n",
      "/home/yl4317/Documents/two_module_rnn/code/functions.py:2602: RuntimeWarning: invalid value encountered in scalar divide\n",
      "  act_rule1_ref_card = np.mean(rnn_activity[rule1_trs_stable, :, 0, n][:, ref_card_ts])\n",
      "/home/yl4317/Documents/two_module_rnn/code/functions.py:2606: RuntimeWarning: invalid value encountered in scalar divide\n",
      "  act_rule1_test_card = np.mean(rnn_activity[rule1_trs_stable, :, 0, n][:, test_card_ts])\n"
     ]
    },
    {
     "name": "stdout",
     "output_type": "stream",
     "text": [
      "success_2023-05-01-09-44-09_wcst_68_final_maybe\n"
     ]
    },
    {
     "name": "stderr",
     "output_type": "stream",
     "text": [
      "/home/yl4317/Documents/two_module_rnn/code/functions.py:2584: RuntimeWarning: invalid value encountered in divide\n",
      "  act_rule1_time = np.mean(rnn_activity[rule1_trs_stable, :, 0, n], axis=0)\n",
      "/home/yl4317/Documents/two_module_rnn/code/functions.py:2594: RuntimeWarning: invalid value encountered in scalar divide\n",
      "  act_rule1_fdbk = np.mean(rnn_activity[rule1_trs_stable, :, 0, n][:, fdbk_ts])\n",
      "/home/yl4317/Documents/two_module_rnn/code/functions.py:2598: RuntimeWarning: invalid value encountered in scalar divide\n",
      "  act_rule1_iti = np.mean(rnn_activity[rule1_trs_stable, :, 0, n][:, iti_ts])\n",
      "/home/yl4317/Documents/two_module_rnn/code/functions.py:2602: RuntimeWarning: invalid value encountered in scalar divide\n",
      "  act_rule1_ref_card = np.mean(rnn_activity[rule1_trs_stable, :, 0, n][:, ref_card_ts])\n",
      "/home/yl4317/Documents/two_module_rnn/code/functions.py:2606: RuntimeWarning: invalid value encountered in scalar divide\n",
      "  act_rule1_test_card = np.mean(rnn_activity[rule1_trs_stable, :, 0, n][:, test_card_ts])\n"
     ]
    },
    {
     "name": "stdout",
     "output_type": "stream",
     "text": [
      "success_2023-05-01-09-44-09_wcst_69_final_maybe\n"
     ]
    },
    {
     "name": "stderr",
     "output_type": "stream",
     "text": [
      "/home/yl4317/Documents/two_module_rnn/code/functions.py:2584: RuntimeWarning: invalid value encountered in divide\n",
      "  act_rule1_time = np.mean(rnn_activity[rule1_trs_stable, :, 0, n], axis=0)\n",
      "/home/yl4317/Documents/two_module_rnn/code/functions.py:2594: RuntimeWarning: invalid value encountered in scalar divide\n",
      "  act_rule1_fdbk = np.mean(rnn_activity[rule1_trs_stable, :, 0, n][:, fdbk_ts])\n",
      "/home/yl4317/Documents/two_module_rnn/code/functions.py:2598: RuntimeWarning: invalid value encountered in scalar divide\n",
      "  act_rule1_iti = np.mean(rnn_activity[rule1_trs_stable, :, 0, n][:, iti_ts])\n",
      "/home/yl4317/Documents/two_module_rnn/code/functions.py:2602: RuntimeWarning: invalid value encountered in scalar divide\n",
      "  act_rule1_ref_card = np.mean(rnn_activity[rule1_trs_stable, :, 0, n][:, ref_card_ts])\n",
      "/home/yl4317/Documents/two_module_rnn/code/functions.py:2606: RuntimeWarning: invalid value encountered in scalar divide\n",
      "  act_rule1_test_card = np.mean(rnn_activity[rule1_trs_stable, :, 0, n][:, test_card_ts])\n"
     ]
    },
    {
     "name": "stdout",
     "output_type": "stream",
     "text": [
      "success_2023-05-01-09-44-09_wcst_77_final_maybe\n"
     ]
    },
    {
     "name": "stderr",
     "output_type": "stream",
     "text": [
      "/home/yl4317/Documents/two_module_rnn/code/functions.py:2584: RuntimeWarning: invalid value encountered in divide\n",
      "  act_rule1_time = np.mean(rnn_activity[rule1_trs_stable, :, 0, n], axis=0)\n",
      "/home/yl4317/Documents/two_module_rnn/code/functions.py:2594: RuntimeWarning: invalid value encountered in scalar divide\n",
      "  act_rule1_fdbk = np.mean(rnn_activity[rule1_trs_stable, :, 0, n][:, fdbk_ts])\n",
      "/home/yl4317/Documents/two_module_rnn/code/functions.py:2598: RuntimeWarning: invalid value encountered in scalar divide\n",
      "  act_rule1_iti = np.mean(rnn_activity[rule1_trs_stable, :, 0, n][:, iti_ts])\n",
      "/home/yl4317/Documents/two_module_rnn/code/functions.py:2602: RuntimeWarning: invalid value encountered in scalar divide\n",
      "  act_rule1_ref_card = np.mean(rnn_activity[rule1_trs_stable, :, 0, n][:, ref_card_ts])\n",
      "/home/yl4317/Documents/two_module_rnn/code/functions.py:2606: RuntimeWarning: invalid value encountered in scalar divide\n",
      "  act_rule1_test_card = np.mean(rnn_activity[rule1_trs_stable, :, 0, n][:, test_card_ts])\n"
     ]
    },
    {
     "name": "stdout",
     "output_type": "stream",
     "text": [
      "success_2023-05-01-09-44-09_wcst_78_final_maybe\n"
     ]
    },
    {
     "name": "stderr",
     "output_type": "stream",
     "text": [
      "/home/yl4317/Documents/two_module_rnn/code/functions.py:2584: RuntimeWarning: invalid value encountered in divide\n",
      "  act_rule1_time = np.mean(rnn_activity[rule1_trs_stable, :, 0, n], axis=0)\n",
      "/home/yl4317/Documents/two_module_rnn/code/functions.py:2594: RuntimeWarning: invalid value encountered in scalar divide\n",
      "  act_rule1_fdbk = np.mean(rnn_activity[rule1_trs_stable, :, 0, n][:, fdbk_ts])\n",
      "/home/yl4317/Documents/two_module_rnn/code/functions.py:2598: RuntimeWarning: invalid value encountered in scalar divide\n",
      "  act_rule1_iti = np.mean(rnn_activity[rule1_trs_stable, :, 0, n][:, iti_ts])\n",
      "/home/yl4317/Documents/two_module_rnn/code/functions.py:2602: RuntimeWarning: invalid value encountered in scalar divide\n",
      "  act_rule1_ref_card = np.mean(rnn_activity[rule1_trs_stable, :, 0, n][:, ref_card_ts])\n",
      "/home/yl4317/Documents/two_module_rnn/code/functions.py:2606: RuntimeWarning: invalid value encountered in scalar divide\n",
      "  act_rule1_test_card = np.mean(rnn_activity[rule1_trs_stable, :, 0, n][:, test_card_ts])\n"
     ]
    },
    {
     "name": "stdout",
     "output_type": "stream",
     "text": [
      "success_2023-05-01-09-44-09_wcst_79_final_maybe\n"
     ]
    },
    {
     "name": "stderr",
     "output_type": "stream",
     "text": [
      "/home/yl4317/Documents/two_module_rnn/code/functions.py:2584: RuntimeWarning: invalid value encountered in divide\n",
      "  act_rule1_time = np.mean(rnn_activity[rule1_trs_stable, :, 0, n], axis=0)\n",
      "/home/yl4317/Documents/two_module_rnn/code/functions.py:2594: RuntimeWarning: invalid value encountered in scalar divide\n",
      "  act_rule1_fdbk = np.mean(rnn_activity[rule1_trs_stable, :, 0, n][:, fdbk_ts])\n",
      "/home/yl4317/Documents/two_module_rnn/code/functions.py:2598: RuntimeWarning: invalid value encountered in scalar divide\n",
      "  act_rule1_iti = np.mean(rnn_activity[rule1_trs_stable, :, 0, n][:, iti_ts])\n",
      "/home/yl4317/Documents/two_module_rnn/code/functions.py:2602: RuntimeWarning: invalid value encountered in scalar divide\n",
      "  act_rule1_ref_card = np.mean(rnn_activity[rule1_trs_stable, :, 0, n][:, ref_card_ts])\n",
      "/home/yl4317/Documents/two_module_rnn/code/functions.py:2606: RuntimeWarning: invalid value encountered in scalar divide\n",
      "  act_rule1_test_card = np.mean(rnn_activity[rule1_trs_stable, :, 0, n][:, test_card_ts])\n"
     ]
    },
    {
     "name": "stdout",
     "output_type": "stream",
     "text": [
      "success_2023-05-01-09-44-09_wcst_80_final_maybe\n"
     ]
    },
    {
     "name": "stderr",
     "output_type": "stream",
     "text": [
      "/home/yl4317/Documents/two_module_rnn/code/functions.py:2584: RuntimeWarning: invalid value encountered in divide\n",
      "  act_rule1_time = np.mean(rnn_activity[rule1_trs_stable, :, 0, n], axis=0)\n",
      "/home/yl4317/Documents/two_module_rnn/code/functions.py:2594: RuntimeWarning: invalid value encountered in scalar divide\n",
      "  act_rule1_fdbk = np.mean(rnn_activity[rule1_trs_stable, :, 0, n][:, fdbk_ts])\n",
      "/home/yl4317/Documents/two_module_rnn/code/functions.py:2598: RuntimeWarning: invalid value encountered in scalar divide\n",
      "  act_rule1_iti = np.mean(rnn_activity[rule1_trs_stable, :, 0, n][:, iti_ts])\n",
      "/home/yl4317/Documents/two_module_rnn/code/functions.py:2602: RuntimeWarning: invalid value encountered in scalar divide\n",
      "  act_rule1_ref_card = np.mean(rnn_activity[rule1_trs_stable, :, 0, n][:, ref_card_ts])\n",
      "/home/yl4317/Documents/two_module_rnn/code/functions.py:2606: RuntimeWarning: invalid value encountered in scalar divide\n",
      "  act_rule1_test_card = np.mean(rnn_activity[rule1_trs_stable, :, 0, n][:, test_card_ts])\n"
     ]
    },
    {
     "name": "stdout",
     "output_type": "stream",
     "text": [
      "success_2023-05-01-09-44-09_wcst_81_final_maybe\n"
     ]
    },
    {
     "name": "stderr",
     "output_type": "stream",
     "text": [
      "/home/yl4317/Documents/two_module_rnn/code/functions.py:2584: RuntimeWarning: invalid value encountered in divide\n",
      "  act_rule1_time = np.mean(rnn_activity[rule1_trs_stable, :, 0, n], axis=0)\n",
      "/home/yl4317/Documents/two_module_rnn/code/functions.py:2594: RuntimeWarning: invalid value encountered in scalar divide\n",
      "  act_rule1_fdbk = np.mean(rnn_activity[rule1_trs_stable, :, 0, n][:, fdbk_ts])\n",
      "/home/yl4317/Documents/two_module_rnn/code/functions.py:2598: RuntimeWarning: invalid value encountered in scalar divide\n",
      "  act_rule1_iti = np.mean(rnn_activity[rule1_trs_stable, :, 0, n][:, iti_ts])\n",
      "/home/yl4317/Documents/two_module_rnn/code/functions.py:2602: RuntimeWarning: invalid value encountered in scalar divide\n",
      "  act_rule1_ref_card = np.mean(rnn_activity[rule1_trs_stable, :, 0, n][:, ref_card_ts])\n",
      "/home/yl4317/Documents/two_module_rnn/code/functions.py:2606: RuntimeWarning: invalid value encountered in scalar divide\n",
      "  act_rule1_test_card = np.mean(rnn_activity[rule1_trs_stable, :, 0, n][:, test_card_ts])\n"
     ]
    },
    {
     "name": "stdout",
     "output_type": "stream",
     "text": [
      "success_2023-05-01-09-44-09_wcst_83_final_maybe\n"
     ]
    },
    {
     "name": "stderr",
     "output_type": "stream",
     "text": [
      "/home/yl4317/Documents/two_module_rnn/code/functions.py:2584: RuntimeWarning: invalid value encountered in divide\n",
      "  act_rule1_time = np.mean(rnn_activity[rule1_trs_stable, :, 0, n], axis=0)\n",
      "/home/yl4317/Documents/two_module_rnn/code/functions.py:2594: RuntimeWarning: invalid value encountered in scalar divide\n",
      "  act_rule1_fdbk = np.mean(rnn_activity[rule1_trs_stable, :, 0, n][:, fdbk_ts])\n",
      "/home/yl4317/Documents/two_module_rnn/code/functions.py:2598: RuntimeWarning: invalid value encountered in scalar divide\n",
      "  act_rule1_iti = np.mean(rnn_activity[rule1_trs_stable, :, 0, n][:, iti_ts])\n",
      "/home/yl4317/Documents/two_module_rnn/code/functions.py:2602: RuntimeWarning: invalid value encountered in scalar divide\n",
      "  act_rule1_ref_card = np.mean(rnn_activity[rule1_trs_stable, :, 0, n][:, ref_card_ts])\n",
      "/home/yl4317/Documents/two_module_rnn/code/functions.py:2606: RuntimeWarning: invalid value encountered in scalar divide\n",
      "  act_rule1_test_card = np.mean(rnn_activity[rule1_trs_stable, :, 0, n][:, test_card_ts])\n"
     ]
    },
    {
     "name": "stdout",
     "output_type": "stream",
     "text": [
      "success_2023-05-01-09-44-09_wcst_85_final_maybe\n"
     ]
    },
    {
     "name": "stderr",
     "output_type": "stream",
     "text": [
      "/home/yl4317/Documents/two_module_rnn/code/functions.py:2584: RuntimeWarning: invalid value encountered in divide\n",
      "  act_rule1_time = np.mean(rnn_activity[rule1_trs_stable, :, 0, n], axis=0)\n",
      "/home/yl4317/Documents/two_module_rnn/code/functions.py:2594: RuntimeWarning: invalid value encountered in scalar divide\n",
      "  act_rule1_fdbk = np.mean(rnn_activity[rule1_trs_stable, :, 0, n][:, fdbk_ts])\n",
      "/home/yl4317/Documents/two_module_rnn/code/functions.py:2598: RuntimeWarning: invalid value encountered in scalar divide\n",
      "  act_rule1_iti = np.mean(rnn_activity[rule1_trs_stable, :, 0, n][:, iti_ts])\n",
      "/home/yl4317/Documents/two_module_rnn/code/functions.py:2602: RuntimeWarning: invalid value encountered in scalar divide\n",
      "  act_rule1_ref_card = np.mean(rnn_activity[rule1_trs_stable, :, 0, n][:, ref_card_ts])\n",
      "/home/yl4317/Documents/two_module_rnn/code/functions.py:2606: RuntimeWarning: invalid value encountered in scalar divide\n",
      "  act_rule1_test_card = np.mean(rnn_activity[rule1_trs_stable, :, 0, n][:, test_card_ts])\n"
     ]
    },
    {
     "name": "stdout",
     "output_type": "stream",
     "text": [
      "success_2023-05-01-09-44-09_wcst_86_final_maybe\n"
     ]
    },
    {
     "name": "stderr",
     "output_type": "stream",
     "text": [
      "/home/yl4317/Documents/two_module_rnn/code/functions.py:2584: RuntimeWarning: invalid value encountered in divide\n",
      "  act_rule1_time = np.mean(rnn_activity[rule1_trs_stable, :, 0, n], axis=0)\n",
      "/home/yl4317/Documents/two_module_rnn/code/functions.py:2594: RuntimeWarning: invalid value encountered in scalar divide\n",
      "  act_rule1_fdbk = np.mean(rnn_activity[rule1_trs_stable, :, 0, n][:, fdbk_ts])\n",
      "/home/yl4317/Documents/two_module_rnn/code/functions.py:2598: RuntimeWarning: invalid value encountered in scalar divide\n",
      "  act_rule1_iti = np.mean(rnn_activity[rule1_trs_stable, :, 0, n][:, iti_ts])\n",
      "/home/yl4317/Documents/two_module_rnn/code/functions.py:2602: RuntimeWarning: invalid value encountered in scalar divide\n",
      "  act_rule1_ref_card = np.mean(rnn_activity[rule1_trs_stable, :, 0, n][:, ref_card_ts])\n",
      "/home/yl4317/Documents/two_module_rnn/code/functions.py:2606: RuntimeWarning: invalid value encountered in scalar divide\n",
      "  act_rule1_test_card = np.mean(rnn_activity[rule1_trs_stable, :, 0, n][:, test_card_ts])\n"
     ]
    },
    {
     "name": "stdout",
     "output_type": "stream",
     "text": [
      "success_2023-05-01-09-44-09_wcst_87_final_maybe\n"
     ]
    },
    {
     "name": "stderr",
     "output_type": "stream",
     "text": [
      "/home/yl4317/Documents/two_module_rnn/code/functions.py:2584: RuntimeWarning: invalid value encountered in divide\n",
      "  act_rule1_time = np.mean(rnn_activity[rule1_trs_stable, :, 0, n], axis=0)\n",
      "/home/yl4317/Documents/two_module_rnn/code/functions.py:2594: RuntimeWarning: invalid value encountered in scalar divide\n",
      "  act_rule1_fdbk = np.mean(rnn_activity[rule1_trs_stable, :, 0, n][:, fdbk_ts])\n",
      "/home/yl4317/Documents/two_module_rnn/code/functions.py:2598: RuntimeWarning: invalid value encountered in scalar divide\n",
      "  act_rule1_iti = np.mean(rnn_activity[rule1_trs_stable, :, 0, n][:, iti_ts])\n",
      "/home/yl4317/Documents/two_module_rnn/code/functions.py:2602: RuntimeWarning: invalid value encountered in scalar divide\n",
      "  act_rule1_ref_card = np.mean(rnn_activity[rule1_trs_stable, :, 0, n][:, ref_card_ts])\n",
      "/home/yl4317/Documents/two_module_rnn/code/functions.py:2606: RuntimeWarning: invalid value encountered in scalar divide\n",
      "  act_rule1_test_card = np.mean(rnn_activity[rule1_trs_stable, :, 0, n][:, test_card_ts])\n"
     ]
    },
    {
     "name": "stdout",
     "output_type": "stream",
     "text": [
      "success_2023-05-01-09-44-09_wcst_88_final_maybe\n"
     ]
    },
    {
     "name": "stderr",
     "output_type": "stream",
     "text": [
      "/home/yl4317/Documents/two_module_rnn/code/functions.py:2584: RuntimeWarning: invalid value encountered in divide\n",
      "  act_rule1_time = np.mean(rnn_activity[rule1_trs_stable, :, 0, n], axis=0)\n",
      "/home/yl4317/Documents/two_module_rnn/code/functions.py:2594: RuntimeWarning: invalid value encountered in scalar divide\n",
      "  act_rule1_fdbk = np.mean(rnn_activity[rule1_trs_stable, :, 0, n][:, fdbk_ts])\n",
      "/home/yl4317/Documents/two_module_rnn/code/functions.py:2598: RuntimeWarning: invalid value encountered in scalar divide\n",
      "  act_rule1_iti = np.mean(rnn_activity[rule1_trs_stable, :, 0, n][:, iti_ts])\n",
      "/home/yl4317/Documents/two_module_rnn/code/functions.py:2602: RuntimeWarning: invalid value encountered in scalar divide\n",
      "  act_rule1_ref_card = np.mean(rnn_activity[rule1_trs_stable, :, 0, n][:, ref_card_ts])\n",
      "/home/yl4317/Documents/two_module_rnn/code/functions.py:2606: RuntimeWarning: invalid value encountered in scalar divide\n",
      "  act_rule1_test_card = np.mean(rnn_activity[rule1_trs_stable, :, 0, n][:, test_card_ts])\n"
     ]
    },
    {
     "name": "stdout",
     "output_type": "stream",
     "text": [
      "success_2023-05-01-09-44-09_wcst_89_final_maybe\n"
     ]
    },
    {
     "name": "stderr",
     "output_type": "stream",
     "text": [
      "/home/yl4317/Documents/two_module_rnn/code/functions.py:2584: RuntimeWarning: invalid value encountered in divide\n",
      "  act_rule1_time = np.mean(rnn_activity[rule1_trs_stable, :, 0, n], axis=0)\n",
      "/home/yl4317/Documents/two_module_rnn/code/functions.py:2594: RuntimeWarning: invalid value encountered in scalar divide\n",
      "  act_rule1_fdbk = np.mean(rnn_activity[rule1_trs_stable, :, 0, n][:, fdbk_ts])\n",
      "/home/yl4317/Documents/two_module_rnn/code/functions.py:2598: RuntimeWarning: invalid value encountered in scalar divide\n",
      "  act_rule1_iti = np.mean(rnn_activity[rule1_trs_stable, :, 0, n][:, iti_ts])\n",
      "/home/yl4317/Documents/two_module_rnn/code/functions.py:2602: RuntimeWarning: invalid value encountered in scalar divide\n",
      "  act_rule1_ref_card = np.mean(rnn_activity[rule1_trs_stable, :, 0, n][:, ref_card_ts])\n",
      "/home/yl4317/Documents/two_module_rnn/code/functions.py:2606: RuntimeWarning: invalid value encountered in scalar divide\n",
      "  act_rule1_test_card = np.mean(rnn_activity[rule1_trs_stable, :, 0, n][:, test_card_ts])\n"
     ]
    },
    {
     "name": "stdout",
     "output_type": "stream",
     "text": [
      "success_2023-05-01-09-44-09_wcst_90_final_maybe\n"
     ]
    },
    {
     "name": "stderr",
     "output_type": "stream",
     "text": [
      "/home/yl4317/Documents/two_module_rnn/code/functions.py:2584: RuntimeWarning: invalid value encountered in divide\n",
      "  act_rule1_time = np.mean(rnn_activity[rule1_trs_stable, :, 0, n], axis=0)\n",
      "/home/yl4317/Documents/two_module_rnn/code/functions.py:2594: RuntimeWarning: invalid value encountered in scalar divide\n",
      "  act_rule1_fdbk = np.mean(rnn_activity[rule1_trs_stable, :, 0, n][:, fdbk_ts])\n",
      "/home/yl4317/Documents/two_module_rnn/code/functions.py:2598: RuntimeWarning: invalid value encountered in scalar divide\n",
      "  act_rule1_iti = np.mean(rnn_activity[rule1_trs_stable, :, 0, n][:, iti_ts])\n",
      "/home/yl4317/Documents/two_module_rnn/code/functions.py:2602: RuntimeWarning: invalid value encountered in scalar divide\n",
      "  act_rule1_ref_card = np.mean(rnn_activity[rule1_trs_stable, :, 0, n][:, ref_card_ts])\n",
      "/home/yl4317/Documents/two_module_rnn/code/functions.py:2606: RuntimeWarning: invalid value encountered in scalar divide\n",
      "  act_rule1_test_card = np.mean(rnn_activity[rule1_trs_stable, :, 0, n][:, test_card_ts])\n"
     ]
    },
    {
     "name": "stdout",
     "output_type": "stream",
     "text": [
      "success_2023-05-01-09-44-09_wcst_91_final_maybe\n"
     ]
    },
    {
     "name": "stderr",
     "output_type": "stream",
     "text": [
      "/home/yl4317/Documents/two_module_rnn/code/functions.py:2584: RuntimeWarning: invalid value encountered in divide\n",
      "  act_rule1_time = np.mean(rnn_activity[rule1_trs_stable, :, 0, n], axis=0)\n",
      "/home/yl4317/Documents/two_module_rnn/code/functions.py:2594: RuntimeWarning: invalid value encountered in scalar divide\n",
      "  act_rule1_fdbk = np.mean(rnn_activity[rule1_trs_stable, :, 0, n][:, fdbk_ts])\n",
      "/home/yl4317/Documents/two_module_rnn/code/functions.py:2598: RuntimeWarning: invalid value encountered in scalar divide\n",
      "  act_rule1_iti = np.mean(rnn_activity[rule1_trs_stable, :, 0, n][:, iti_ts])\n",
      "/home/yl4317/Documents/two_module_rnn/code/functions.py:2602: RuntimeWarning: invalid value encountered in scalar divide\n",
      "  act_rule1_ref_card = np.mean(rnn_activity[rule1_trs_stable, :, 0, n][:, ref_card_ts])\n",
      "/home/yl4317/Documents/two_module_rnn/code/functions.py:2606: RuntimeWarning: invalid value encountered in scalar divide\n",
      "  act_rule1_test_card = np.mean(rnn_activity[rule1_trs_stable, :, 0, n][:, test_card_ts])\n"
     ]
    },
    {
     "name": "stdout",
     "output_type": "stream",
     "text": [
      "success_2023-05-01-09-44-09_wcst_93_final_maybe\n"
     ]
    },
    {
     "name": "stderr",
     "output_type": "stream",
     "text": [
      "/home/yl4317/Documents/two_module_rnn/code/functions.py:2584: RuntimeWarning: invalid value encountered in divide\n",
      "  act_rule1_time = np.mean(rnn_activity[rule1_trs_stable, :, 0, n], axis=0)\n",
      "/home/yl4317/Documents/two_module_rnn/code/functions.py:2594: RuntimeWarning: invalid value encountered in scalar divide\n",
      "  act_rule1_fdbk = np.mean(rnn_activity[rule1_trs_stable, :, 0, n][:, fdbk_ts])\n",
      "/home/yl4317/Documents/two_module_rnn/code/functions.py:2598: RuntimeWarning: invalid value encountered in scalar divide\n",
      "  act_rule1_iti = np.mean(rnn_activity[rule1_trs_stable, :, 0, n][:, iti_ts])\n",
      "/home/yl4317/Documents/two_module_rnn/code/functions.py:2602: RuntimeWarning: invalid value encountered in scalar divide\n",
      "  act_rule1_ref_card = np.mean(rnn_activity[rule1_trs_stable, :, 0, n][:, ref_card_ts])\n",
      "/home/yl4317/Documents/two_module_rnn/code/functions.py:2606: RuntimeWarning: invalid value encountered in scalar divide\n",
      "  act_rule1_test_card = np.mean(rnn_activity[rule1_trs_stable, :, 0, n][:, test_card_ts])\n"
     ]
    },
    {
     "name": "stdout",
     "output_type": "stream",
     "text": [
      "success_2023-05-01-09-44-09_wcst_95_final_maybe\n"
     ]
    },
    {
     "name": "stderr",
     "output_type": "stream",
     "text": [
      "/home/yl4317/Documents/two_module_rnn/code/functions.py:2584: RuntimeWarning: invalid value encountered in divide\n",
      "  act_rule1_time = np.mean(rnn_activity[rule1_trs_stable, :, 0, n], axis=0)\n",
      "/home/yl4317/Documents/two_module_rnn/code/functions.py:2594: RuntimeWarning: invalid value encountered in scalar divide\n",
      "  act_rule1_fdbk = np.mean(rnn_activity[rule1_trs_stable, :, 0, n][:, fdbk_ts])\n",
      "/home/yl4317/Documents/two_module_rnn/code/functions.py:2598: RuntimeWarning: invalid value encountered in scalar divide\n",
      "  act_rule1_iti = np.mean(rnn_activity[rule1_trs_stable, :, 0, n][:, iti_ts])\n",
      "/home/yl4317/Documents/two_module_rnn/code/functions.py:2602: RuntimeWarning: invalid value encountered in scalar divide\n",
      "  act_rule1_ref_card = np.mean(rnn_activity[rule1_trs_stable, :, 0, n][:, ref_card_ts])\n",
      "/home/yl4317/Documents/two_module_rnn/code/functions.py:2606: RuntimeWarning: invalid value encountered in scalar divide\n",
      "  act_rule1_test_card = np.mean(rnn_activity[rule1_trs_stable, :, 0, n][:, test_card_ts])\n"
     ]
    },
    {
     "name": "stdout",
     "output_type": "stream",
     "text": [
      "success_2023-05-01-09-44-09_wcst_96_final_maybe\n"
     ]
    },
    {
     "name": "stderr",
     "output_type": "stream",
     "text": [
      "/home/yl4317/Documents/two_module_rnn/code/functions.py:2584: RuntimeWarning: invalid value encountered in divide\n",
      "  act_rule1_time = np.mean(rnn_activity[rule1_trs_stable, :, 0, n], axis=0)\n",
      "/home/yl4317/Documents/two_module_rnn/code/functions.py:2594: RuntimeWarning: invalid value encountered in scalar divide\n",
      "  act_rule1_fdbk = np.mean(rnn_activity[rule1_trs_stable, :, 0, n][:, fdbk_ts])\n",
      "/home/yl4317/Documents/two_module_rnn/code/functions.py:2598: RuntimeWarning: invalid value encountered in scalar divide\n",
      "  act_rule1_iti = np.mean(rnn_activity[rule1_trs_stable, :, 0, n][:, iti_ts])\n",
      "/home/yl4317/Documents/two_module_rnn/code/functions.py:2602: RuntimeWarning: invalid value encountered in scalar divide\n",
      "  act_rule1_ref_card = np.mean(rnn_activity[rule1_trs_stable, :, 0, n][:, ref_card_ts])\n",
      "/home/yl4317/Documents/two_module_rnn/code/functions.py:2606: RuntimeWarning: invalid value encountered in scalar divide\n",
      "  act_rule1_test_card = np.mean(rnn_activity[rule1_trs_stable, :, 0, n][:, test_card_ts])\n"
     ]
    },
    {
     "name": "stdout",
     "output_type": "stream",
     "text": [
      "success_2023-05-01-09-44-09_wcst_98_final_maybe\n"
     ]
    },
    {
     "name": "stderr",
     "output_type": "stream",
     "text": [
      "/home/yl4317/Documents/two_module_rnn/code/functions.py:2584: RuntimeWarning: invalid value encountered in divide\n",
      "  act_rule1_time = np.mean(rnn_activity[rule1_trs_stable, :, 0, n], axis=0)\n",
      "/home/yl4317/Documents/two_module_rnn/code/functions.py:2594: RuntimeWarning: invalid value encountered in scalar divide\n",
      "  act_rule1_fdbk = np.mean(rnn_activity[rule1_trs_stable, :, 0, n][:, fdbk_ts])\n",
      "/home/yl4317/Documents/two_module_rnn/code/functions.py:2598: RuntimeWarning: invalid value encountered in scalar divide\n",
      "  act_rule1_iti = np.mean(rnn_activity[rule1_trs_stable, :, 0, n][:, iti_ts])\n",
      "/home/yl4317/Documents/two_module_rnn/code/functions.py:2602: RuntimeWarning: invalid value encountered in scalar divide\n",
      "  act_rule1_ref_card = np.mean(rnn_activity[rule1_trs_stable, :, 0, n][:, ref_card_ts])\n",
      "/home/yl4317/Documents/two_module_rnn/code/functions.py:2606: RuntimeWarning: invalid value encountered in scalar divide\n",
      "  act_rule1_test_card = np.mean(rnn_activity[rule1_trs_stable, :, 0, n][:, test_card_ts])\n"
     ]
    },
    {
     "name": "stdout",
     "output_type": "stream",
     "text": [
      "success_2023-05-10-14-28-42_wcst_105_sparsity0\n"
     ]
    },
    {
     "name": "stderr",
     "output_type": "stream",
     "text": [
      "/home/yl4317/Documents/two_module_rnn/code/functions.py:2584: RuntimeWarning: invalid value encountered in divide\n",
      "  act_rule1_time = np.mean(rnn_activity[rule1_trs_stable, :, 0, n], axis=0)\n",
      "/home/yl4317/Documents/two_module_rnn/code/functions.py:2594: RuntimeWarning: invalid value encountered in scalar divide\n",
      "  act_rule1_fdbk = np.mean(rnn_activity[rule1_trs_stable, :, 0, n][:, fdbk_ts])\n",
      "/home/yl4317/Documents/two_module_rnn/code/functions.py:2598: RuntimeWarning: invalid value encountered in scalar divide\n",
      "  act_rule1_iti = np.mean(rnn_activity[rule1_trs_stable, :, 0, n][:, iti_ts])\n",
      "/home/yl4317/Documents/two_module_rnn/code/functions.py:2602: RuntimeWarning: invalid value encountered in scalar divide\n",
      "  act_rule1_ref_card = np.mean(rnn_activity[rule1_trs_stable, :, 0, n][:, ref_card_ts])\n",
      "/home/yl4317/Documents/two_module_rnn/code/functions.py:2606: RuntimeWarning: invalid value encountered in scalar divide\n",
      "  act_rule1_test_card = np.mean(rnn_activity[rule1_trs_stable, :, 0, n][:, test_card_ts])\n"
     ]
    },
    {
     "name": "stdout",
     "output_type": "stream",
     "text": [
      "success_2023-05-10-14-28-42_wcst_106_sparsity0\n"
     ]
    },
    {
     "name": "stderr",
     "output_type": "stream",
     "text": [
      "/home/yl4317/Documents/two_module_rnn/code/functions.py:2584: RuntimeWarning: invalid value encountered in divide\n",
      "  act_rule1_time = np.mean(rnn_activity[rule1_trs_stable, :, 0, n], axis=0)\n",
      "/home/yl4317/Documents/two_module_rnn/code/functions.py:2594: RuntimeWarning: invalid value encountered in scalar divide\n",
      "  act_rule1_fdbk = np.mean(rnn_activity[rule1_trs_stable, :, 0, n][:, fdbk_ts])\n",
      "/home/yl4317/Documents/two_module_rnn/code/functions.py:2598: RuntimeWarning: invalid value encountered in scalar divide\n",
      "  act_rule1_iti = np.mean(rnn_activity[rule1_trs_stable, :, 0, n][:, iti_ts])\n",
      "/home/yl4317/Documents/two_module_rnn/code/functions.py:2602: RuntimeWarning: invalid value encountered in scalar divide\n",
      "  act_rule1_ref_card = np.mean(rnn_activity[rule1_trs_stable, :, 0, n][:, ref_card_ts])\n",
      "/home/yl4317/Documents/two_module_rnn/code/functions.py:2606: RuntimeWarning: invalid value encountered in scalar divide\n",
      "  act_rule1_test_card = np.mean(rnn_activity[rule1_trs_stable, :, 0, n][:, test_card_ts])\n"
     ]
    },
    {
     "name": "stdout",
     "output_type": "stream",
     "text": [
      "success_2023-05-10-14-28-42_wcst_10_sparsity0\n"
     ]
    },
    {
     "name": "stderr",
     "output_type": "stream",
     "text": [
      "/home/yl4317/Documents/two_module_rnn/code/functions.py:2584: RuntimeWarning: invalid value encountered in divide\n",
      "  act_rule1_time = np.mean(rnn_activity[rule1_trs_stable, :, 0, n], axis=0)\n",
      "/home/yl4317/Documents/two_module_rnn/code/functions.py:2594: RuntimeWarning: invalid value encountered in scalar divide\n",
      "  act_rule1_fdbk = np.mean(rnn_activity[rule1_trs_stable, :, 0, n][:, fdbk_ts])\n",
      "/home/yl4317/Documents/two_module_rnn/code/functions.py:2598: RuntimeWarning: invalid value encountered in scalar divide\n",
      "  act_rule1_iti = np.mean(rnn_activity[rule1_trs_stable, :, 0, n][:, iti_ts])\n",
      "/home/yl4317/Documents/two_module_rnn/code/functions.py:2602: RuntimeWarning: invalid value encountered in scalar divide\n",
      "  act_rule1_ref_card = np.mean(rnn_activity[rule1_trs_stable, :, 0, n][:, ref_card_ts])\n",
      "/home/yl4317/Documents/two_module_rnn/code/functions.py:2606: RuntimeWarning: invalid value encountered in scalar divide\n",
      "  act_rule1_test_card = np.mean(rnn_activity[rule1_trs_stable, :, 0, n][:, test_card_ts])\n"
     ]
    },
    {
     "name": "stdout",
     "output_type": "stream",
     "text": [
      "success_2023-05-10-14-28-42_wcst_112_sparsity0\n",
      "NaN in rnn_activity, pass\n",
      "\n",
      "success_2023-05-10-14-28-42_wcst_115_sparsity0\n",
      "NaN in rnn_activity, pass\n",
      "\n",
      "success_2023-05-10-14-28-42_wcst_116_sparsity0\n"
     ]
    },
    {
     "name": "stderr",
     "output_type": "stream",
     "text": [
      "/home/yl4317/Documents/two_module_rnn/code/functions.py:2584: RuntimeWarning: invalid value encountered in divide\n",
      "  act_rule1_time = np.mean(rnn_activity[rule1_trs_stable, :, 0, n], axis=0)\n",
      "/home/yl4317/Documents/two_module_rnn/code/functions.py:2594: RuntimeWarning: invalid value encountered in scalar divide\n",
      "  act_rule1_fdbk = np.mean(rnn_activity[rule1_trs_stable, :, 0, n][:, fdbk_ts])\n",
      "/home/yl4317/Documents/two_module_rnn/code/functions.py:2598: RuntimeWarning: invalid value encountered in scalar divide\n",
      "  act_rule1_iti = np.mean(rnn_activity[rule1_trs_stable, :, 0, n][:, iti_ts])\n",
      "/home/yl4317/Documents/two_module_rnn/code/functions.py:2602: RuntimeWarning: invalid value encountered in scalar divide\n",
      "  act_rule1_ref_card = np.mean(rnn_activity[rule1_trs_stable, :, 0, n][:, ref_card_ts])\n",
      "/home/yl4317/Documents/two_module_rnn/code/functions.py:2606: RuntimeWarning: invalid value encountered in scalar divide\n",
      "  act_rule1_test_card = np.mean(rnn_activity[rule1_trs_stable, :, 0, n][:, test_card_ts])\n"
     ]
    },
    {
     "name": "stdout",
     "output_type": "stream",
     "text": [
      "success_2023-05-10-14-28-42_wcst_118_sparsity0\n"
     ]
    },
    {
     "name": "stderr",
     "output_type": "stream",
     "text": [
      "/home/yl4317/Documents/two_module_rnn/code/functions.py:2584: RuntimeWarning: invalid value encountered in divide\n",
      "  act_rule1_time = np.mean(rnn_activity[rule1_trs_stable, :, 0, n], axis=0)\n",
      "/home/yl4317/Documents/two_module_rnn/code/functions.py:2594: RuntimeWarning: invalid value encountered in scalar divide\n",
      "  act_rule1_fdbk = np.mean(rnn_activity[rule1_trs_stable, :, 0, n][:, fdbk_ts])\n",
      "/home/yl4317/Documents/two_module_rnn/code/functions.py:2598: RuntimeWarning: invalid value encountered in scalar divide\n",
      "  act_rule1_iti = np.mean(rnn_activity[rule1_trs_stable, :, 0, n][:, iti_ts])\n",
      "/home/yl4317/Documents/two_module_rnn/code/functions.py:2602: RuntimeWarning: invalid value encountered in scalar divide\n",
      "  act_rule1_ref_card = np.mean(rnn_activity[rule1_trs_stable, :, 0, n][:, ref_card_ts])\n",
      "/home/yl4317/Documents/two_module_rnn/code/functions.py:2606: RuntimeWarning: invalid value encountered in scalar divide\n",
      "  act_rule1_test_card = np.mean(rnn_activity[rule1_trs_stable, :, 0, n][:, test_card_ts])\n"
     ]
    },
    {
     "name": "stdout",
     "output_type": "stream",
     "text": [
      "success_2023-05-10-14-28-42_wcst_121_sparsity0\n"
     ]
    },
    {
     "name": "stderr",
     "output_type": "stream",
     "text": [
      "/home/yl4317/Documents/two_module_rnn/code/functions.py:2584: RuntimeWarning: invalid value encountered in divide\n",
      "  act_rule1_time = np.mean(rnn_activity[rule1_trs_stable, :, 0, n], axis=0)\n",
      "/home/yl4317/Documents/two_module_rnn/code/functions.py:2594: RuntimeWarning: invalid value encountered in scalar divide\n",
      "  act_rule1_fdbk = np.mean(rnn_activity[rule1_trs_stable, :, 0, n][:, fdbk_ts])\n",
      "/home/yl4317/Documents/two_module_rnn/code/functions.py:2598: RuntimeWarning: invalid value encountered in scalar divide\n",
      "  act_rule1_iti = np.mean(rnn_activity[rule1_trs_stable, :, 0, n][:, iti_ts])\n",
      "/home/yl4317/Documents/two_module_rnn/code/functions.py:2602: RuntimeWarning: invalid value encountered in scalar divide\n",
      "  act_rule1_ref_card = np.mean(rnn_activity[rule1_trs_stable, :, 0, n][:, ref_card_ts])\n",
      "/home/yl4317/Documents/two_module_rnn/code/functions.py:2606: RuntimeWarning: invalid value encountered in scalar divide\n",
      "  act_rule1_test_card = np.mean(rnn_activity[rule1_trs_stable, :, 0, n][:, test_card_ts])\n"
     ]
    },
    {
     "name": "stdout",
     "output_type": "stream",
     "text": [
      "success_2023-05-10-14-28-42_wcst_122_sparsity0\n"
     ]
    },
    {
     "name": "stderr",
     "output_type": "stream",
     "text": [
      "/home/yl4317/Documents/two_module_rnn/code/functions.py:2584: RuntimeWarning: invalid value encountered in divide\n",
      "  act_rule1_time = np.mean(rnn_activity[rule1_trs_stable, :, 0, n], axis=0)\n",
      "/home/yl4317/Documents/two_module_rnn/code/functions.py:2594: RuntimeWarning: invalid value encountered in scalar divide\n",
      "  act_rule1_fdbk = np.mean(rnn_activity[rule1_trs_stable, :, 0, n][:, fdbk_ts])\n",
      "/home/yl4317/Documents/two_module_rnn/code/functions.py:2598: RuntimeWarning: invalid value encountered in scalar divide\n",
      "  act_rule1_iti = np.mean(rnn_activity[rule1_trs_stable, :, 0, n][:, iti_ts])\n",
      "/home/yl4317/Documents/two_module_rnn/code/functions.py:2602: RuntimeWarning: invalid value encountered in scalar divide\n",
      "  act_rule1_ref_card = np.mean(rnn_activity[rule1_trs_stable, :, 0, n][:, ref_card_ts])\n",
      "/home/yl4317/Documents/two_module_rnn/code/functions.py:2606: RuntimeWarning: invalid value encountered in scalar divide\n",
      "  act_rule1_test_card = np.mean(rnn_activity[rule1_trs_stable, :, 0, n][:, test_card_ts])\n"
     ]
    },
    {
     "name": "stdout",
     "output_type": "stream",
     "text": [
      "success_2023-05-10-14-28-42_wcst_124_sparsity0\n"
     ]
    },
    {
     "name": "stderr",
     "output_type": "stream",
     "text": [
      "/home/yl4317/Documents/two_module_rnn/code/functions.py:2584: RuntimeWarning: invalid value encountered in divide\n",
      "  act_rule1_time = np.mean(rnn_activity[rule1_trs_stable, :, 0, n], axis=0)\n",
      "/home/yl4317/Documents/two_module_rnn/code/functions.py:2594: RuntimeWarning: invalid value encountered in scalar divide\n",
      "  act_rule1_fdbk = np.mean(rnn_activity[rule1_trs_stable, :, 0, n][:, fdbk_ts])\n",
      "/home/yl4317/Documents/two_module_rnn/code/functions.py:2598: RuntimeWarning: invalid value encountered in scalar divide\n",
      "  act_rule1_iti = np.mean(rnn_activity[rule1_trs_stable, :, 0, n][:, iti_ts])\n",
      "/home/yl4317/Documents/two_module_rnn/code/functions.py:2602: RuntimeWarning: invalid value encountered in scalar divide\n",
      "  act_rule1_ref_card = np.mean(rnn_activity[rule1_trs_stable, :, 0, n][:, ref_card_ts])\n",
      "/home/yl4317/Documents/two_module_rnn/code/functions.py:2606: RuntimeWarning: invalid value encountered in scalar divide\n",
      "  act_rule1_test_card = np.mean(rnn_activity[rule1_trs_stable, :, 0, n][:, test_card_ts])\n"
     ]
    },
    {
     "name": "stdout",
     "output_type": "stream",
     "text": [
      "success_2023-05-10-14-28-42_wcst_126_sparsity0\n"
     ]
    },
    {
     "name": "stderr",
     "output_type": "stream",
     "text": [
      "/home/yl4317/Documents/two_module_rnn/code/functions.py:2584: RuntimeWarning: invalid value encountered in divide\n",
      "  act_rule1_time = np.mean(rnn_activity[rule1_trs_stable, :, 0, n], axis=0)\n",
      "/home/yl4317/Documents/two_module_rnn/code/functions.py:2594: RuntimeWarning: invalid value encountered in scalar divide\n",
      "  act_rule1_fdbk = np.mean(rnn_activity[rule1_trs_stable, :, 0, n][:, fdbk_ts])\n",
      "/home/yl4317/Documents/two_module_rnn/code/functions.py:2598: RuntimeWarning: invalid value encountered in scalar divide\n",
      "  act_rule1_iti = np.mean(rnn_activity[rule1_trs_stable, :, 0, n][:, iti_ts])\n",
      "/home/yl4317/Documents/two_module_rnn/code/functions.py:2602: RuntimeWarning: invalid value encountered in scalar divide\n",
      "  act_rule1_ref_card = np.mean(rnn_activity[rule1_trs_stable, :, 0, n][:, ref_card_ts])\n",
      "/home/yl4317/Documents/two_module_rnn/code/functions.py:2606: RuntimeWarning: invalid value encountered in scalar divide\n",
      "  act_rule1_test_card = np.mean(rnn_activity[rule1_trs_stable, :, 0, n][:, test_card_ts])\n"
     ]
    },
    {
     "name": "stdout",
     "output_type": "stream",
     "text": [
      "success_2023-05-10-14-28-42_wcst_131_sparsity0\n"
     ]
    },
    {
     "name": "stderr",
     "output_type": "stream",
     "text": [
      "/home/yl4317/Documents/two_module_rnn/code/functions.py:2584: RuntimeWarning: invalid value encountered in divide\n",
      "  act_rule1_time = np.mean(rnn_activity[rule1_trs_stable, :, 0, n], axis=0)\n",
      "/home/yl4317/Documents/two_module_rnn/code/functions.py:2594: RuntimeWarning: invalid value encountered in scalar divide\n",
      "  act_rule1_fdbk = np.mean(rnn_activity[rule1_trs_stable, :, 0, n][:, fdbk_ts])\n",
      "/home/yl4317/Documents/two_module_rnn/code/functions.py:2598: RuntimeWarning: invalid value encountered in scalar divide\n",
      "  act_rule1_iti = np.mean(rnn_activity[rule1_trs_stable, :, 0, n][:, iti_ts])\n",
      "/home/yl4317/Documents/two_module_rnn/code/functions.py:2602: RuntimeWarning: invalid value encountered in scalar divide\n",
      "  act_rule1_ref_card = np.mean(rnn_activity[rule1_trs_stable, :, 0, n][:, ref_card_ts])\n",
      "/home/yl4317/Documents/two_module_rnn/code/functions.py:2606: RuntimeWarning: invalid value encountered in scalar divide\n",
      "  act_rule1_test_card = np.mean(rnn_activity[rule1_trs_stable, :, 0, n][:, test_card_ts])\n"
     ]
    },
    {
     "name": "stdout",
     "output_type": "stream",
     "text": [
      "success_2023-05-10-14-28-42_wcst_134_sparsity0\n"
     ]
    },
    {
     "name": "stderr",
     "output_type": "stream",
     "text": [
      "/home/yl4317/Documents/two_module_rnn/code/functions.py:2584: RuntimeWarning: invalid value encountered in divide\n",
      "  act_rule1_time = np.mean(rnn_activity[rule1_trs_stable, :, 0, n], axis=0)\n",
      "/home/yl4317/Documents/two_module_rnn/code/functions.py:2594: RuntimeWarning: invalid value encountered in scalar divide\n",
      "  act_rule1_fdbk = np.mean(rnn_activity[rule1_trs_stable, :, 0, n][:, fdbk_ts])\n",
      "/home/yl4317/Documents/two_module_rnn/code/functions.py:2598: RuntimeWarning: invalid value encountered in scalar divide\n",
      "  act_rule1_iti = np.mean(rnn_activity[rule1_trs_stable, :, 0, n][:, iti_ts])\n",
      "/home/yl4317/Documents/two_module_rnn/code/functions.py:2602: RuntimeWarning: invalid value encountered in scalar divide\n",
      "  act_rule1_ref_card = np.mean(rnn_activity[rule1_trs_stable, :, 0, n][:, ref_card_ts])\n",
      "/home/yl4317/Documents/two_module_rnn/code/functions.py:2606: RuntimeWarning: invalid value encountered in scalar divide\n",
      "  act_rule1_test_card = np.mean(rnn_activity[rule1_trs_stable, :, 0, n][:, test_card_ts])\n"
     ]
    },
    {
     "name": "stdout",
     "output_type": "stream",
     "text": [
      "success_2023-05-10-14-28-42_wcst_136_sparsity0\n"
     ]
    },
    {
     "name": "stderr",
     "output_type": "stream",
     "text": [
      "/home/yl4317/Documents/two_module_rnn/code/functions.py:2584: RuntimeWarning: invalid value encountered in divide\n",
      "  act_rule1_time = np.mean(rnn_activity[rule1_trs_stable, :, 0, n], axis=0)\n",
      "/home/yl4317/Documents/two_module_rnn/code/functions.py:2594: RuntimeWarning: invalid value encountered in scalar divide\n",
      "  act_rule1_fdbk = np.mean(rnn_activity[rule1_trs_stable, :, 0, n][:, fdbk_ts])\n",
      "/home/yl4317/Documents/two_module_rnn/code/functions.py:2598: RuntimeWarning: invalid value encountered in scalar divide\n",
      "  act_rule1_iti = np.mean(rnn_activity[rule1_trs_stable, :, 0, n][:, iti_ts])\n",
      "/home/yl4317/Documents/two_module_rnn/code/functions.py:2602: RuntimeWarning: invalid value encountered in scalar divide\n",
      "  act_rule1_ref_card = np.mean(rnn_activity[rule1_trs_stable, :, 0, n][:, ref_card_ts])\n",
      "/home/yl4317/Documents/two_module_rnn/code/functions.py:2606: RuntimeWarning: invalid value encountered in scalar divide\n",
      "  act_rule1_test_card = np.mean(rnn_activity[rule1_trs_stable, :, 0, n][:, test_card_ts])\n"
     ]
    },
    {
     "name": "stdout",
     "output_type": "stream",
     "text": [
      "success_2023-05-10-14-28-42_wcst_139_sparsity0\n"
     ]
    },
    {
     "name": "stderr",
     "output_type": "stream",
     "text": [
      "/home/yl4317/Documents/two_module_rnn/code/functions.py:2584: RuntimeWarning: invalid value encountered in divide\n",
      "  act_rule1_time = np.mean(rnn_activity[rule1_trs_stable, :, 0, n], axis=0)\n",
      "/home/yl4317/Documents/two_module_rnn/code/functions.py:2594: RuntimeWarning: invalid value encountered in scalar divide\n",
      "  act_rule1_fdbk = np.mean(rnn_activity[rule1_trs_stable, :, 0, n][:, fdbk_ts])\n",
      "/home/yl4317/Documents/two_module_rnn/code/functions.py:2598: RuntimeWarning: invalid value encountered in scalar divide\n",
      "  act_rule1_iti = np.mean(rnn_activity[rule1_trs_stable, :, 0, n][:, iti_ts])\n",
      "/home/yl4317/Documents/two_module_rnn/code/functions.py:2602: RuntimeWarning: invalid value encountered in scalar divide\n",
      "  act_rule1_ref_card = np.mean(rnn_activity[rule1_trs_stable, :, 0, n][:, ref_card_ts])\n",
      "/home/yl4317/Documents/two_module_rnn/code/functions.py:2606: RuntimeWarning: invalid value encountered in scalar divide\n",
      "  act_rule1_test_card = np.mean(rnn_activity[rule1_trs_stable, :, 0, n][:, test_card_ts])\n"
     ]
    },
    {
     "name": "stdout",
     "output_type": "stream",
     "text": [
      "success_2023-05-10-14-28-42_wcst_142_sparsity0\n"
     ]
    },
    {
     "name": "stderr",
     "output_type": "stream",
     "text": [
      "/home/yl4317/Documents/two_module_rnn/code/functions.py:2584: RuntimeWarning: invalid value encountered in divide\n",
      "  act_rule1_time = np.mean(rnn_activity[rule1_trs_stable, :, 0, n], axis=0)\n",
      "/home/yl4317/Documents/two_module_rnn/code/functions.py:2594: RuntimeWarning: invalid value encountered in scalar divide\n",
      "  act_rule1_fdbk = np.mean(rnn_activity[rule1_trs_stable, :, 0, n][:, fdbk_ts])\n",
      "/home/yl4317/Documents/two_module_rnn/code/functions.py:2598: RuntimeWarning: invalid value encountered in scalar divide\n",
      "  act_rule1_iti = np.mean(rnn_activity[rule1_trs_stable, :, 0, n][:, iti_ts])\n",
      "/home/yl4317/Documents/two_module_rnn/code/functions.py:2602: RuntimeWarning: invalid value encountered in scalar divide\n",
      "  act_rule1_ref_card = np.mean(rnn_activity[rule1_trs_stable, :, 0, n][:, ref_card_ts])\n",
      "/home/yl4317/Documents/two_module_rnn/code/functions.py:2606: RuntimeWarning: invalid value encountered in scalar divide\n",
      "  act_rule1_test_card = np.mean(rnn_activity[rule1_trs_stable, :, 0, n][:, test_card_ts])\n"
     ]
    },
    {
     "name": "stdout",
     "output_type": "stream",
     "text": [
      "success_2023-05-10-14-28-42_wcst_143_sparsity0\n"
     ]
    },
    {
     "name": "stderr",
     "output_type": "stream",
     "text": [
      "/home/yl4317/Documents/two_module_rnn/code/functions.py:2584: RuntimeWarning: invalid value encountered in divide\n",
      "  act_rule1_time = np.mean(rnn_activity[rule1_trs_stable, :, 0, n], axis=0)\n",
      "/home/yl4317/Documents/two_module_rnn/code/functions.py:2594: RuntimeWarning: invalid value encountered in scalar divide\n",
      "  act_rule1_fdbk = np.mean(rnn_activity[rule1_trs_stable, :, 0, n][:, fdbk_ts])\n",
      "/home/yl4317/Documents/two_module_rnn/code/functions.py:2598: RuntimeWarning: invalid value encountered in scalar divide\n",
      "  act_rule1_iti = np.mean(rnn_activity[rule1_trs_stable, :, 0, n][:, iti_ts])\n",
      "/home/yl4317/Documents/two_module_rnn/code/functions.py:2602: RuntimeWarning: invalid value encountered in scalar divide\n",
      "  act_rule1_ref_card = np.mean(rnn_activity[rule1_trs_stable, :, 0, n][:, ref_card_ts])\n",
      "/home/yl4317/Documents/two_module_rnn/code/functions.py:2606: RuntimeWarning: invalid value encountered in scalar divide\n",
      "  act_rule1_test_card = np.mean(rnn_activity[rule1_trs_stable, :, 0, n][:, test_card_ts])\n"
     ]
    },
    {
     "name": "stdout",
     "output_type": "stream",
     "text": [
      "success_2023-05-10-14-28-42_wcst_144_sparsity0\n"
     ]
    },
    {
     "name": "stderr",
     "output_type": "stream",
     "text": [
      "/home/yl4317/Documents/two_module_rnn/code/functions.py:2584: RuntimeWarning: invalid value encountered in divide\n",
      "  act_rule1_time = np.mean(rnn_activity[rule1_trs_stable, :, 0, n], axis=0)\n",
      "/home/yl4317/Documents/two_module_rnn/code/functions.py:2594: RuntimeWarning: invalid value encountered in scalar divide\n",
      "  act_rule1_fdbk = np.mean(rnn_activity[rule1_trs_stable, :, 0, n][:, fdbk_ts])\n",
      "/home/yl4317/Documents/two_module_rnn/code/functions.py:2598: RuntimeWarning: invalid value encountered in scalar divide\n",
      "  act_rule1_iti = np.mean(rnn_activity[rule1_trs_stable, :, 0, n][:, iti_ts])\n",
      "/home/yl4317/Documents/two_module_rnn/code/functions.py:2602: RuntimeWarning: invalid value encountered in scalar divide\n",
      "  act_rule1_ref_card = np.mean(rnn_activity[rule1_trs_stable, :, 0, n][:, ref_card_ts])\n",
      "/home/yl4317/Documents/two_module_rnn/code/functions.py:2606: RuntimeWarning: invalid value encountered in scalar divide\n",
      "  act_rule1_test_card = np.mean(rnn_activity[rule1_trs_stable, :, 0, n][:, test_card_ts])\n"
     ]
    },
    {
     "name": "stdout",
     "output_type": "stream",
     "text": [
      "success_2023-05-10-14-28-42_wcst_149_sparsity0\n"
     ]
    },
    {
     "name": "stderr",
     "output_type": "stream",
     "text": [
      "/home/yl4317/Documents/two_module_rnn/code/functions.py:2584: RuntimeWarning: invalid value encountered in divide\n",
      "  act_rule1_time = np.mean(rnn_activity[rule1_trs_stable, :, 0, n], axis=0)\n",
      "/home/yl4317/Documents/two_module_rnn/code/functions.py:2594: RuntimeWarning: invalid value encountered in scalar divide\n",
      "  act_rule1_fdbk = np.mean(rnn_activity[rule1_trs_stable, :, 0, n][:, fdbk_ts])\n",
      "/home/yl4317/Documents/two_module_rnn/code/functions.py:2598: RuntimeWarning: invalid value encountered in scalar divide\n",
      "  act_rule1_iti = np.mean(rnn_activity[rule1_trs_stable, :, 0, n][:, iti_ts])\n",
      "/home/yl4317/Documents/two_module_rnn/code/functions.py:2602: RuntimeWarning: invalid value encountered in scalar divide\n",
      "  act_rule1_ref_card = np.mean(rnn_activity[rule1_trs_stable, :, 0, n][:, ref_card_ts])\n",
      "/home/yl4317/Documents/two_module_rnn/code/functions.py:2606: RuntimeWarning: invalid value encountered in scalar divide\n",
      "  act_rule1_test_card = np.mean(rnn_activity[rule1_trs_stable, :, 0, n][:, test_card_ts])\n"
     ]
    },
    {
     "name": "stdout",
     "output_type": "stream",
     "text": [
      "success_2023-05-10-14-28-42_wcst_150_sparsity0\n",
      "NaN in rnn_activity, pass\n",
      "\n",
      "success_2023-05-10-14-28-42_wcst_151_sparsity0\n"
     ]
    },
    {
     "name": "stderr",
     "output_type": "stream",
     "text": [
      "/home/yl4317/Documents/two_module_rnn/code/functions.py:2584: RuntimeWarning: invalid value encountered in divide\n",
      "  act_rule1_time = np.mean(rnn_activity[rule1_trs_stable, :, 0, n], axis=0)\n",
      "/home/yl4317/Documents/two_module_rnn/code/functions.py:2594: RuntimeWarning: invalid value encountered in scalar divide\n",
      "  act_rule1_fdbk = np.mean(rnn_activity[rule1_trs_stable, :, 0, n][:, fdbk_ts])\n",
      "/home/yl4317/Documents/two_module_rnn/code/functions.py:2598: RuntimeWarning: invalid value encountered in scalar divide\n",
      "  act_rule1_iti = np.mean(rnn_activity[rule1_trs_stable, :, 0, n][:, iti_ts])\n",
      "/home/yl4317/Documents/two_module_rnn/code/functions.py:2602: RuntimeWarning: invalid value encountered in scalar divide\n",
      "  act_rule1_ref_card = np.mean(rnn_activity[rule1_trs_stable, :, 0, n][:, ref_card_ts])\n",
      "/home/yl4317/Documents/two_module_rnn/code/functions.py:2606: RuntimeWarning: invalid value encountered in scalar divide\n",
      "  act_rule1_test_card = np.mean(rnn_activity[rule1_trs_stable, :, 0, n][:, test_card_ts])\n"
     ]
    },
    {
     "name": "stdout",
     "output_type": "stream",
     "text": [
      "success_2023-05-10-14-28-42_wcst_156_sparsity0\n"
     ]
    },
    {
     "name": "stderr",
     "output_type": "stream",
     "text": [
      "/home/yl4317/Documents/two_module_rnn/code/functions.py:2584: RuntimeWarning: invalid value encountered in divide\n",
      "  act_rule1_time = np.mean(rnn_activity[rule1_trs_stable, :, 0, n], axis=0)\n",
      "/home/yl4317/Documents/two_module_rnn/code/functions.py:2594: RuntimeWarning: invalid value encountered in scalar divide\n",
      "  act_rule1_fdbk = np.mean(rnn_activity[rule1_trs_stable, :, 0, n][:, fdbk_ts])\n",
      "/home/yl4317/Documents/two_module_rnn/code/functions.py:2598: RuntimeWarning: invalid value encountered in scalar divide\n",
      "  act_rule1_iti = np.mean(rnn_activity[rule1_trs_stable, :, 0, n][:, iti_ts])\n",
      "/home/yl4317/Documents/two_module_rnn/code/functions.py:2602: RuntimeWarning: invalid value encountered in scalar divide\n",
      "  act_rule1_ref_card = np.mean(rnn_activity[rule1_trs_stable, :, 0, n][:, ref_card_ts])\n",
      "/home/yl4317/Documents/two_module_rnn/code/functions.py:2606: RuntimeWarning: invalid value encountered in scalar divide\n",
      "  act_rule1_test_card = np.mean(rnn_activity[rule1_trs_stable, :, 0, n][:, test_card_ts])\n"
     ]
    },
    {
     "name": "stdout",
     "output_type": "stream",
     "text": [
      "success_2023-05-10-14-28-42_wcst_165_sparsity0\n"
     ]
    },
    {
     "name": "stderr",
     "output_type": "stream",
     "text": [
      "/home/yl4317/Documents/two_module_rnn/code/functions.py:2584: RuntimeWarning: invalid value encountered in divide\n",
      "  act_rule1_time = np.mean(rnn_activity[rule1_trs_stable, :, 0, n], axis=0)\n",
      "/home/yl4317/Documents/two_module_rnn/code/functions.py:2594: RuntimeWarning: invalid value encountered in scalar divide\n",
      "  act_rule1_fdbk = np.mean(rnn_activity[rule1_trs_stable, :, 0, n][:, fdbk_ts])\n",
      "/home/yl4317/Documents/two_module_rnn/code/functions.py:2598: RuntimeWarning: invalid value encountered in scalar divide\n",
      "  act_rule1_iti = np.mean(rnn_activity[rule1_trs_stable, :, 0, n][:, iti_ts])\n",
      "/home/yl4317/Documents/two_module_rnn/code/functions.py:2602: RuntimeWarning: invalid value encountered in scalar divide\n",
      "  act_rule1_ref_card = np.mean(rnn_activity[rule1_trs_stable, :, 0, n][:, ref_card_ts])\n",
      "/home/yl4317/Documents/two_module_rnn/code/functions.py:2606: RuntimeWarning: invalid value encountered in scalar divide\n",
      "  act_rule1_test_card = np.mean(rnn_activity[rule1_trs_stable, :, 0, n][:, test_card_ts])\n"
     ]
    },
    {
     "name": "stdout",
     "output_type": "stream",
     "text": [
      "success_2023-05-10-14-28-42_wcst_16_sparsity0\n"
     ]
    },
    {
     "name": "stderr",
     "output_type": "stream",
     "text": [
      "/home/yl4317/Documents/two_module_rnn/code/functions.py:2584: RuntimeWarning: invalid value encountered in divide\n",
      "  act_rule1_time = np.mean(rnn_activity[rule1_trs_stable, :, 0, n], axis=0)\n",
      "/home/yl4317/Documents/two_module_rnn/code/functions.py:2594: RuntimeWarning: invalid value encountered in scalar divide\n",
      "  act_rule1_fdbk = np.mean(rnn_activity[rule1_trs_stable, :, 0, n][:, fdbk_ts])\n",
      "/home/yl4317/Documents/two_module_rnn/code/functions.py:2598: RuntimeWarning: invalid value encountered in scalar divide\n",
      "  act_rule1_iti = np.mean(rnn_activity[rule1_trs_stable, :, 0, n][:, iti_ts])\n",
      "/home/yl4317/Documents/two_module_rnn/code/functions.py:2602: RuntimeWarning: invalid value encountered in scalar divide\n",
      "  act_rule1_ref_card = np.mean(rnn_activity[rule1_trs_stable, :, 0, n][:, ref_card_ts])\n",
      "/home/yl4317/Documents/two_module_rnn/code/functions.py:2606: RuntimeWarning: invalid value encountered in scalar divide\n",
      "  act_rule1_test_card = np.mean(rnn_activity[rule1_trs_stable, :, 0, n][:, test_card_ts])\n"
     ]
    },
    {
     "name": "stdout",
     "output_type": "stream",
     "text": [
      "success_2023-05-10-14-28-42_wcst_170_sparsity0\n"
     ]
    },
    {
     "name": "stderr",
     "output_type": "stream",
     "text": [
      "/home/yl4317/Documents/two_module_rnn/code/functions.py:2584: RuntimeWarning: invalid value encountered in divide\n",
      "  act_rule1_time = np.mean(rnn_activity[rule1_trs_stable, :, 0, n], axis=0)\n",
      "/home/yl4317/Documents/two_module_rnn/code/functions.py:2594: RuntimeWarning: invalid value encountered in scalar divide\n",
      "  act_rule1_fdbk = np.mean(rnn_activity[rule1_trs_stable, :, 0, n][:, fdbk_ts])\n",
      "/home/yl4317/Documents/two_module_rnn/code/functions.py:2598: RuntimeWarning: invalid value encountered in scalar divide\n",
      "  act_rule1_iti = np.mean(rnn_activity[rule1_trs_stable, :, 0, n][:, iti_ts])\n",
      "/home/yl4317/Documents/two_module_rnn/code/functions.py:2602: RuntimeWarning: invalid value encountered in scalar divide\n",
      "  act_rule1_ref_card = np.mean(rnn_activity[rule1_trs_stable, :, 0, n][:, ref_card_ts])\n",
      "/home/yl4317/Documents/two_module_rnn/code/functions.py:2606: RuntimeWarning: invalid value encountered in scalar divide\n",
      "  act_rule1_test_card = np.mean(rnn_activity[rule1_trs_stable, :, 0, n][:, test_card_ts])\n"
     ]
    },
    {
     "name": "stdout",
     "output_type": "stream",
     "text": [
      "success_2023-05-10-14-28-42_wcst_172_sparsity0\n",
      "NaN in rnn_activity, pass\n",
      "\n",
      "success_2023-05-10-14-28-42_wcst_176_sparsity0\n"
     ]
    },
    {
     "name": "stderr",
     "output_type": "stream",
     "text": [
      "/home/yl4317/Documents/two_module_rnn/code/functions.py:2584: RuntimeWarning: invalid value encountered in divide\n",
      "  act_rule1_time = np.mean(rnn_activity[rule1_trs_stable, :, 0, n], axis=0)\n",
      "/home/yl4317/Documents/two_module_rnn/code/functions.py:2594: RuntimeWarning: invalid value encountered in scalar divide\n",
      "  act_rule1_fdbk = np.mean(rnn_activity[rule1_trs_stable, :, 0, n][:, fdbk_ts])\n",
      "/home/yl4317/Documents/two_module_rnn/code/functions.py:2598: RuntimeWarning: invalid value encountered in scalar divide\n",
      "  act_rule1_iti = np.mean(rnn_activity[rule1_trs_stable, :, 0, n][:, iti_ts])\n",
      "/home/yl4317/Documents/two_module_rnn/code/functions.py:2602: RuntimeWarning: invalid value encountered in scalar divide\n",
      "  act_rule1_ref_card = np.mean(rnn_activity[rule1_trs_stable, :, 0, n][:, ref_card_ts])\n",
      "/home/yl4317/Documents/two_module_rnn/code/functions.py:2606: RuntimeWarning: invalid value encountered in scalar divide\n",
      "  act_rule1_test_card = np.mean(rnn_activity[rule1_trs_stable, :, 0, n][:, test_card_ts])\n"
     ]
    },
    {
     "name": "stdout",
     "output_type": "stream",
     "text": [
      "success_2023-05-10-14-28-42_wcst_177_sparsity0\n"
     ]
    },
    {
     "name": "stderr",
     "output_type": "stream",
     "text": [
      "/home/yl4317/Documents/two_module_rnn/code/functions.py:2584: RuntimeWarning: invalid value encountered in divide\n",
      "  act_rule1_time = np.mean(rnn_activity[rule1_trs_stable, :, 0, n], axis=0)\n",
      "/home/yl4317/Documents/two_module_rnn/code/functions.py:2594: RuntimeWarning: invalid value encountered in scalar divide\n",
      "  act_rule1_fdbk = np.mean(rnn_activity[rule1_trs_stable, :, 0, n][:, fdbk_ts])\n",
      "/home/yl4317/Documents/two_module_rnn/code/functions.py:2598: RuntimeWarning: invalid value encountered in scalar divide\n",
      "  act_rule1_iti = np.mean(rnn_activity[rule1_trs_stable, :, 0, n][:, iti_ts])\n",
      "/home/yl4317/Documents/two_module_rnn/code/functions.py:2602: RuntimeWarning: invalid value encountered in scalar divide\n",
      "  act_rule1_ref_card = np.mean(rnn_activity[rule1_trs_stable, :, 0, n][:, ref_card_ts])\n",
      "/home/yl4317/Documents/two_module_rnn/code/functions.py:2606: RuntimeWarning: invalid value encountered in scalar divide\n",
      "  act_rule1_test_card = np.mean(rnn_activity[rule1_trs_stable, :, 0, n][:, test_card_ts])\n"
     ]
    },
    {
     "name": "stdout",
     "output_type": "stream",
     "text": [
      "success_2023-05-10-14-28-42_wcst_179_sparsity0\n"
     ]
    },
    {
     "name": "stderr",
     "output_type": "stream",
     "text": [
      "/home/yl4317/Documents/two_module_rnn/code/functions.py:2584: RuntimeWarning: invalid value encountered in divide\n",
      "  act_rule1_time = np.mean(rnn_activity[rule1_trs_stable, :, 0, n], axis=0)\n",
      "/home/yl4317/Documents/two_module_rnn/code/functions.py:2594: RuntimeWarning: invalid value encountered in scalar divide\n",
      "  act_rule1_fdbk = np.mean(rnn_activity[rule1_trs_stable, :, 0, n][:, fdbk_ts])\n",
      "/home/yl4317/Documents/two_module_rnn/code/functions.py:2598: RuntimeWarning: invalid value encountered in scalar divide\n",
      "  act_rule1_iti = np.mean(rnn_activity[rule1_trs_stable, :, 0, n][:, iti_ts])\n",
      "/home/yl4317/Documents/two_module_rnn/code/functions.py:2602: RuntimeWarning: invalid value encountered in scalar divide\n",
      "  act_rule1_ref_card = np.mean(rnn_activity[rule1_trs_stable, :, 0, n][:, ref_card_ts])\n",
      "/home/yl4317/Documents/two_module_rnn/code/functions.py:2606: RuntimeWarning: invalid value encountered in scalar divide\n",
      "  act_rule1_test_card = np.mean(rnn_activity[rule1_trs_stable, :, 0, n][:, test_card_ts])\n"
     ]
    },
    {
     "name": "stdout",
     "output_type": "stream",
     "text": [
      "success_2023-05-10-14-28-42_wcst_17_sparsity0\n"
     ]
    },
    {
     "name": "stderr",
     "output_type": "stream",
     "text": [
      "/home/yl4317/Documents/two_module_rnn/code/functions.py:2584: RuntimeWarning: invalid value encountered in divide\n",
      "  act_rule1_time = np.mean(rnn_activity[rule1_trs_stable, :, 0, n], axis=0)\n",
      "/home/yl4317/Documents/two_module_rnn/code/functions.py:2594: RuntimeWarning: invalid value encountered in scalar divide\n",
      "  act_rule1_fdbk = np.mean(rnn_activity[rule1_trs_stable, :, 0, n][:, fdbk_ts])\n",
      "/home/yl4317/Documents/two_module_rnn/code/functions.py:2598: RuntimeWarning: invalid value encountered in scalar divide\n",
      "  act_rule1_iti = np.mean(rnn_activity[rule1_trs_stable, :, 0, n][:, iti_ts])\n",
      "/home/yl4317/Documents/two_module_rnn/code/functions.py:2602: RuntimeWarning: invalid value encountered in scalar divide\n",
      "  act_rule1_ref_card = np.mean(rnn_activity[rule1_trs_stable, :, 0, n][:, ref_card_ts])\n",
      "/home/yl4317/Documents/two_module_rnn/code/functions.py:2606: RuntimeWarning: invalid value encountered in scalar divide\n",
      "  act_rule1_test_card = np.mean(rnn_activity[rule1_trs_stable, :, 0, n][:, test_card_ts])\n"
     ]
    },
    {
     "name": "stdout",
     "output_type": "stream",
     "text": [
      "success_2023-05-10-14-28-42_wcst_180_sparsity0\n"
     ]
    },
    {
     "name": "stderr",
     "output_type": "stream",
     "text": [
      "/home/yl4317/Documents/two_module_rnn/code/functions.py:2584: RuntimeWarning: invalid value encountered in divide\n",
      "  act_rule1_time = np.mean(rnn_activity[rule1_trs_stable, :, 0, n], axis=0)\n",
      "/home/yl4317/Documents/two_module_rnn/code/functions.py:2594: RuntimeWarning: invalid value encountered in scalar divide\n",
      "  act_rule1_fdbk = np.mean(rnn_activity[rule1_trs_stable, :, 0, n][:, fdbk_ts])\n",
      "/home/yl4317/Documents/two_module_rnn/code/functions.py:2598: RuntimeWarning: invalid value encountered in scalar divide\n",
      "  act_rule1_iti = np.mean(rnn_activity[rule1_trs_stable, :, 0, n][:, iti_ts])\n",
      "/home/yl4317/Documents/two_module_rnn/code/functions.py:2602: RuntimeWarning: invalid value encountered in scalar divide\n",
      "  act_rule1_ref_card = np.mean(rnn_activity[rule1_trs_stable, :, 0, n][:, ref_card_ts])\n",
      "/home/yl4317/Documents/two_module_rnn/code/functions.py:2606: RuntimeWarning: invalid value encountered in scalar divide\n",
      "  act_rule1_test_card = np.mean(rnn_activity[rule1_trs_stable, :, 0, n][:, test_card_ts])\n"
     ]
    },
    {
     "name": "stdout",
     "output_type": "stream",
     "text": [
      "success_2023-05-10-14-28-42_wcst_183_sparsity0\n",
      "NaN in rnn_activity, pass\n",
      "\n",
      "success_2023-05-10-14-28-42_wcst_189_sparsity0\n"
     ]
    },
    {
     "name": "stderr",
     "output_type": "stream",
     "text": [
      "/home/yl4317/Documents/two_module_rnn/code/functions.py:2584: RuntimeWarning: invalid value encountered in divide\n",
      "  act_rule1_time = np.mean(rnn_activity[rule1_trs_stable, :, 0, n], axis=0)\n",
      "/home/yl4317/Documents/two_module_rnn/code/functions.py:2594: RuntimeWarning: invalid value encountered in scalar divide\n",
      "  act_rule1_fdbk = np.mean(rnn_activity[rule1_trs_stable, :, 0, n][:, fdbk_ts])\n",
      "/home/yl4317/Documents/two_module_rnn/code/functions.py:2598: RuntimeWarning: invalid value encountered in scalar divide\n",
      "  act_rule1_iti = np.mean(rnn_activity[rule1_trs_stable, :, 0, n][:, iti_ts])\n",
      "/home/yl4317/Documents/two_module_rnn/code/functions.py:2602: RuntimeWarning: invalid value encountered in scalar divide\n",
      "  act_rule1_ref_card = np.mean(rnn_activity[rule1_trs_stable, :, 0, n][:, ref_card_ts])\n",
      "/home/yl4317/Documents/two_module_rnn/code/functions.py:2606: RuntimeWarning: invalid value encountered in scalar divide\n",
      "  act_rule1_test_card = np.mean(rnn_activity[rule1_trs_stable, :, 0, n][:, test_card_ts])\n"
     ]
    },
    {
     "name": "stdout",
     "output_type": "stream",
     "text": [
      "success_2023-05-10-14-28-42_wcst_18_sparsity0\n"
     ]
    },
    {
     "name": "stderr",
     "output_type": "stream",
     "text": [
      "/home/yl4317/Documents/two_module_rnn/code/functions.py:2584: RuntimeWarning: invalid value encountered in divide\n",
      "  act_rule1_time = np.mean(rnn_activity[rule1_trs_stable, :, 0, n], axis=0)\n",
      "/home/yl4317/Documents/two_module_rnn/code/functions.py:2594: RuntimeWarning: invalid value encountered in scalar divide\n",
      "  act_rule1_fdbk = np.mean(rnn_activity[rule1_trs_stable, :, 0, n][:, fdbk_ts])\n",
      "/home/yl4317/Documents/two_module_rnn/code/functions.py:2598: RuntimeWarning: invalid value encountered in scalar divide\n",
      "  act_rule1_iti = np.mean(rnn_activity[rule1_trs_stable, :, 0, n][:, iti_ts])\n",
      "/home/yl4317/Documents/two_module_rnn/code/functions.py:2602: RuntimeWarning: invalid value encountered in scalar divide\n",
      "  act_rule1_ref_card = np.mean(rnn_activity[rule1_trs_stable, :, 0, n][:, ref_card_ts])\n",
      "/home/yl4317/Documents/two_module_rnn/code/functions.py:2606: RuntimeWarning: invalid value encountered in scalar divide\n",
      "  act_rule1_test_card = np.mean(rnn_activity[rule1_trs_stable, :, 0, n][:, test_card_ts])\n"
     ]
    },
    {
     "name": "stdout",
     "output_type": "stream",
     "text": [
      "success_2023-05-10-14-28-42_wcst_197_sparsity0\n"
     ]
    },
    {
     "name": "stderr",
     "output_type": "stream",
     "text": [
      "/home/yl4317/Documents/two_module_rnn/code/functions.py:2584: RuntimeWarning: invalid value encountered in divide\n",
      "  act_rule1_time = np.mean(rnn_activity[rule1_trs_stable, :, 0, n], axis=0)\n",
      "/home/yl4317/Documents/two_module_rnn/code/functions.py:2594: RuntimeWarning: invalid value encountered in scalar divide\n",
      "  act_rule1_fdbk = np.mean(rnn_activity[rule1_trs_stable, :, 0, n][:, fdbk_ts])\n",
      "/home/yl4317/Documents/two_module_rnn/code/functions.py:2598: RuntimeWarning: invalid value encountered in scalar divide\n",
      "  act_rule1_iti = np.mean(rnn_activity[rule1_trs_stable, :, 0, n][:, iti_ts])\n",
      "/home/yl4317/Documents/two_module_rnn/code/functions.py:2602: RuntimeWarning: invalid value encountered in scalar divide\n",
      "  act_rule1_ref_card = np.mean(rnn_activity[rule1_trs_stable, :, 0, n][:, ref_card_ts])\n",
      "/home/yl4317/Documents/two_module_rnn/code/functions.py:2606: RuntimeWarning: invalid value encountered in scalar divide\n",
      "  act_rule1_test_card = np.mean(rnn_activity[rule1_trs_stable, :, 0, n][:, test_card_ts])\n"
     ]
    },
    {
     "name": "stdout",
     "output_type": "stream",
     "text": [
      "success_2023-05-10-14-28-42_wcst_19_sparsity0\n"
     ]
    },
    {
     "name": "stderr",
     "output_type": "stream",
     "text": [
      "/home/yl4317/Documents/two_module_rnn/code/functions.py:2584: RuntimeWarning: invalid value encountered in divide\n",
      "  act_rule1_time = np.mean(rnn_activity[rule1_trs_stable, :, 0, n], axis=0)\n",
      "/home/yl4317/Documents/two_module_rnn/code/functions.py:2594: RuntimeWarning: invalid value encountered in scalar divide\n",
      "  act_rule1_fdbk = np.mean(rnn_activity[rule1_trs_stable, :, 0, n][:, fdbk_ts])\n",
      "/home/yl4317/Documents/two_module_rnn/code/functions.py:2598: RuntimeWarning: invalid value encountered in scalar divide\n",
      "  act_rule1_iti = np.mean(rnn_activity[rule1_trs_stable, :, 0, n][:, iti_ts])\n",
      "/home/yl4317/Documents/two_module_rnn/code/functions.py:2602: RuntimeWarning: invalid value encountered in scalar divide\n",
      "  act_rule1_ref_card = np.mean(rnn_activity[rule1_trs_stable, :, 0, n][:, ref_card_ts])\n",
      "/home/yl4317/Documents/two_module_rnn/code/functions.py:2606: RuntimeWarning: invalid value encountered in scalar divide\n",
      "  act_rule1_test_card = np.mean(rnn_activity[rule1_trs_stable, :, 0, n][:, test_card_ts])\n"
     ]
    },
    {
     "name": "stdout",
     "output_type": "stream",
     "text": [
      "success_2023-05-10-14-28-42_wcst_200_sparsity0\n"
     ]
    },
    {
     "name": "stderr",
     "output_type": "stream",
     "text": [
      "/home/yl4317/Documents/two_module_rnn/code/functions.py:2584: RuntimeWarning: invalid value encountered in divide\n",
      "  act_rule1_time = np.mean(rnn_activity[rule1_trs_stable, :, 0, n], axis=0)\n",
      "/home/yl4317/Documents/two_module_rnn/code/functions.py:2594: RuntimeWarning: invalid value encountered in scalar divide\n",
      "  act_rule1_fdbk = np.mean(rnn_activity[rule1_trs_stable, :, 0, n][:, fdbk_ts])\n",
      "/home/yl4317/Documents/two_module_rnn/code/functions.py:2598: RuntimeWarning: invalid value encountered in scalar divide\n",
      "  act_rule1_iti = np.mean(rnn_activity[rule1_trs_stable, :, 0, n][:, iti_ts])\n",
      "/home/yl4317/Documents/two_module_rnn/code/functions.py:2602: RuntimeWarning: invalid value encountered in scalar divide\n",
      "  act_rule1_ref_card = np.mean(rnn_activity[rule1_trs_stable, :, 0, n][:, ref_card_ts])\n",
      "/home/yl4317/Documents/two_module_rnn/code/functions.py:2606: RuntimeWarning: invalid value encountered in scalar divide\n",
      "  act_rule1_test_card = np.mean(rnn_activity[rule1_trs_stable, :, 0, n][:, test_card_ts])\n"
     ]
    },
    {
     "name": "stdout",
     "output_type": "stream",
     "text": [
      "success_2023-05-10-14-28-42_wcst_20_sparsity0\n"
     ]
    },
    {
     "name": "stderr",
     "output_type": "stream",
     "text": [
      "/home/yl4317/Documents/two_module_rnn/code/functions.py:2584: RuntimeWarning: invalid value encountered in divide\n",
      "  act_rule1_time = np.mean(rnn_activity[rule1_trs_stable, :, 0, n], axis=0)\n",
      "/home/yl4317/Documents/two_module_rnn/code/functions.py:2594: RuntimeWarning: invalid value encountered in scalar divide\n",
      "  act_rule1_fdbk = np.mean(rnn_activity[rule1_trs_stable, :, 0, n][:, fdbk_ts])\n",
      "/home/yl4317/Documents/two_module_rnn/code/functions.py:2598: RuntimeWarning: invalid value encountered in scalar divide\n",
      "  act_rule1_iti = np.mean(rnn_activity[rule1_trs_stable, :, 0, n][:, iti_ts])\n",
      "/home/yl4317/Documents/two_module_rnn/code/functions.py:2602: RuntimeWarning: invalid value encountered in scalar divide\n",
      "  act_rule1_ref_card = np.mean(rnn_activity[rule1_trs_stable, :, 0, n][:, ref_card_ts])\n",
      "/home/yl4317/Documents/two_module_rnn/code/functions.py:2606: RuntimeWarning: invalid value encountered in scalar divide\n",
      "  act_rule1_test_card = np.mean(rnn_activity[rule1_trs_stable, :, 0, n][:, test_card_ts])\n"
     ]
    },
    {
     "name": "stdout",
     "output_type": "stream",
     "text": [
      "success_2023-05-10-14-28-42_wcst_21_sparsity0\n"
     ]
    },
    {
     "name": "stderr",
     "output_type": "stream",
     "text": [
      "/home/yl4317/Documents/two_module_rnn/code/functions.py:2584: RuntimeWarning: invalid value encountered in divide\n",
      "  act_rule1_time = np.mean(rnn_activity[rule1_trs_stable, :, 0, n], axis=0)\n",
      "/home/yl4317/Documents/two_module_rnn/code/functions.py:2594: RuntimeWarning: invalid value encountered in scalar divide\n",
      "  act_rule1_fdbk = np.mean(rnn_activity[rule1_trs_stable, :, 0, n][:, fdbk_ts])\n",
      "/home/yl4317/Documents/two_module_rnn/code/functions.py:2598: RuntimeWarning: invalid value encountered in scalar divide\n",
      "  act_rule1_iti = np.mean(rnn_activity[rule1_trs_stable, :, 0, n][:, iti_ts])\n",
      "/home/yl4317/Documents/two_module_rnn/code/functions.py:2602: RuntimeWarning: invalid value encountered in scalar divide\n",
      "  act_rule1_ref_card = np.mean(rnn_activity[rule1_trs_stable, :, 0, n][:, ref_card_ts])\n",
      "/home/yl4317/Documents/two_module_rnn/code/functions.py:2606: RuntimeWarning: invalid value encountered in scalar divide\n",
      "  act_rule1_test_card = np.mean(rnn_activity[rule1_trs_stable, :, 0, n][:, test_card_ts])\n"
     ]
    },
    {
     "name": "stdout",
     "output_type": "stream",
     "text": [
      "success_2023-05-10-14-28-42_wcst_23_sparsity0\n"
     ]
    },
    {
     "name": "stderr",
     "output_type": "stream",
     "text": [
      "/home/yl4317/Documents/two_module_rnn/code/functions.py:2584: RuntimeWarning: invalid value encountered in divide\n",
      "  act_rule1_time = np.mean(rnn_activity[rule1_trs_stable, :, 0, n], axis=0)\n",
      "/home/yl4317/Documents/two_module_rnn/code/functions.py:2594: RuntimeWarning: invalid value encountered in scalar divide\n",
      "  act_rule1_fdbk = np.mean(rnn_activity[rule1_trs_stable, :, 0, n][:, fdbk_ts])\n",
      "/home/yl4317/Documents/two_module_rnn/code/functions.py:2598: RuntimeWarning: invalid value encountered in scalar divide\n",
      "  act_rule1_iti = np.mean(rnn_activity[rule1_trs_stable, :, 0, n][:, iti_ts])\n",
      "/home/yl4317/Documents/two_module_rnn/code/functions.py:2602: RuntimeWarning: invalid value encountered in scalar divide\n",
      "  act_rule1_ref_card = np.mean(rnn_activity[rule1_trs_stable, :, 0, n][:, ref_card_ts])\n",
      "/home/yl4317/Documents/two_module_rnn/code/functions.py:2606: RuntimeWarning: invalid value encountered in scalar divide\n",
      "  act_rule1_test_card = np.mean(rnn_activity[rule1_trs_stable, :, 0, n][:, test_card_ts])\n"
     ]
    },
    {
     "name": "stdout",
     "output_type": "stream",
     "text": [
      "success_2023-05-10-14-28-42_wcst_26_sparsity0\n"
     ]
    },
    {
     "name": "stderr",
     "output_type": "stream",
     "text": [
      "/home/yl4317/Documents/two_module_rnn/code/functions.py:2584: RuntimeWarning: invalid value encountered in divide\n",
      "  act_rule1_time = np.mean(rnn_activity[rule1_trs_stable, :, 0, n], axis=0)\n",
      "/home/yl4317/Documents/two_module_rnn/code/functions.py:2594: RuntimeWarning: invalid value encountered in scalar divide\n",
      "  act_rule1_fdbk = np.mean(rnn_activity[rule1_trs_stable, :, 0, n][:, fdbk_ts])\n",
      "/home/yl4317/Documents/two_module_rnn/code/functions.py:2598: RuntimeWarning: invalid value encountered in scalar divide\n",
      "  act_rule1_iti = np.mean(rnn_activity[rule1_trs_stable, :, 0, n][:, iti_ts])\n",
      "/home/yl4317/Documents/two_module_rnn/code/functions.py:2602: RuntimeWarning: invalid value encountered in scalar divide\n",
      "  act_rule1_ref_card = np.mean(rnn_activity[rule1_trs_stable, :, 0, n][:, ref_card_ts])\n",
      "/home/yl4317/Documents/two_module_rnn/code/functions.py:2606: RuntimeWarning: invalid value encountered in scalar divide\n",
      "  act_rule1_test_card = np.mean(rnn_activity[rule1_trs_stable, :, 0, n][:, test_card_ts])\n"
     ]
    },
    {
     "name": "stdout",
     "output_type": "stream",
     "text": [
      "success_2023-05-10-14-28-42_wcst_42_sparsity0\n"
     ]
    },
    {
     "name": "stderr",
     "output_type": "stream",
     "text": [
      "/home/yl4317/Documents/two_module_rnn/code/functions.py:2584: RuntimeWarning: invalid value encountered in divide\n",
      "  act_rule1_time = np.mean(rnn_activity[rule1_trs_stable, :, 0, n], axis=0)\n",
      "/home/yl4317/Documents/two_module_rnn/code/functions.py:2594: RuntimeWarning: invalid value encountered in scalar divide\n",
      "  act_rule1_fdbk = np.mean(rnn_activity[rule1_trs_stable, :, 0, n][:, fdbk_ts])\n",
      "/home/yl4317/Documents/two_module_rnn/code/functions.py:2598: RuntimeWarning: invalid value encountered in scalar divide\n",
      "  act_rule1_iti = np.mean(rnn_activity[rule1_trs_stable, :, 0, n][:, iti_ts])\n",
      "/home/yl4317/Documents/two_module_rnn/code/functions.py:2602: RuntimeWarning: invalid value encountered in scalar divide\n",
      "  act_rule1_ref_card = np.mean(rnn_activity[rule1_trs_stable, :, 0, n][:, ref_card_ts])\n",
      "/home/yl4317/Documents/two_module_rnn/code/functions.py:2606: RuntimeWarning: invalid value encountered in scalar divide\n",
      "  act_rule1_test_card = np.mean(rnn_activity[rule1_trs_stable, :, 0, n][:, test_card_ts])\n"
     ]
    },
    {
     "name": "stdout",
     "output_type": "stream",
     "text": [
      "success_2023-05-10-14-28-42_wcst_43_sparsity0\n"
     ]
    },
    {
     "name": "stderr",
     "output_type": "stream",
     "text": [
      "/home/yl4317/Documents/two_module_rnn/code/functions.py:2584: RuntimeWarning: invalid value encountered in divide\n",
      "  act_rule1_time = np.mean(rnn_activity[rule1_trs_stable, :, 0, n], axis=0)\n",
      "/home/yl4317/Documents/two_module_rnn/code/functions.py:2594: RuntimeWarning: invalid value encountered in scalar divide\n",
      "  act_rule1_fdbk = np.mean(rnn_activity[rule1_trs_stable, :, 0, n][:, fdbk_ts])\n",
      "/home/yl4317/Documents/two_module_rnn/code/functions.py:2598: RuntimeWarning: invalid value encountered in scalar divide\n",
      "  act_rule1_iti = np.mean(rnn_activity[rule1_trs_stable, :, 0, n][:, iti_ts])\n",
      "/home/yl4317/Documents/two_module_rnn/code/functions.py:2602: RuntimeWarning: invalid value encountered in scalar divide\n",
      "  act_rule1_ref_card = np.mean(rnn_activity[rule1_trs_stable, :, 0, n][:, ref_card_ts])\n",
      "/home/yl4317/Documents/two_module_rnn/code/functions.py:2606: RuntimeWarning: invalid value encountered in scalar divide\n",
      "  act_rule1_test_card = np.mean(rnn_activity[rule1_trs_stable, :, 0, n][:, test_card_ts])\n"
     ]
    },
    {
     "name": "stdout",
     "output_type": "stream",
     "text": [
      "success_2023-05-10-14-28-42_wcst_44_sparsity0\n"
     ]
    },
    {
     "name": "stderr",
     "output_type": "stream",
     "text": [
      "/home/yl4317/Documents/two_module_rnn/code/functions.py:2584: RuntimeWarning: invalid value encountered in divide\n",
      "  act_rule1_time = np.mean(rnn_activity[rule1_trs_stable, :, 0, n], axis=0)\n",
      "/home/yl4317/Documents/two_module_rnn/code/functions.py:2594: RuntimeWarning: invalid value encountered in scalar divide\n",
      "  act_rule1_fdbk = np.mean(rnn_activity[rule1_trs_stable, :, 0, n][:, fdbk_ts])\n",
      "/home/yl4317/Documents/two_module_rnn/code/functions.py:2598: RuntimeWarning: invalid value encountered in scalar divide\n",
      "  act_rule1_iti = np.mean(rnn_activity[rule1_trs_stable, :, 0, n][:, iti_ts])\n",
      "/home/yl4317/Documents/two_module_rnn/code/functions.py:2602: RuntimeWarning: invalid value encountered in scalar divide\n",
      "  act_rule1_ref_card = np.mean(rnn_activity[rule1_trs_stable, :, 0, n][:, ref_card_ts])\n",
      "/home/yl4317/Documents/two_module_rnn/code/functions.py:2606: RuntimeWarning: invalid value encountered in scalar divide\n",
      "  act_rule1_test_card = np.mean(rnn_activity[rule1_trs_stable, :, 0, n][:, test_card_ts])\n"
     ]
    },
    {
     "name": "stdout",
     "output_type": "stream",
     "text": [
      "success_2023-05-10-14-28-42_wcst_50_sparsity0\n"
     ]
    },
    {
     "name": "stderr",
     "output_type": "stream",
     "text": [
      "/home/yl4317/Documents/two_module_rnn/code/functions.py:2584: RuntimeWarning: invalid value encountered in divide\n",
      "  act_rule1_time = np.mean(rnn_activity[rule1_trs_stable, :, 0, n], axis=0)\n",
      "/home/yl4317/Documents/two_module_rnn/code/functions.py:2594: RuntimeWarning: invalid value encountered in scalar divide\n",
      "  act_rule1_fdbk = np.mean(rnn_activity[rule1_trs_stable, :, 0, n][:, fdbk_ts])\n",
      "/home/yl4317/Documents/two_module_rnn/code/functions.py:2598: RuntimeWarning: invalid value encountered in scalar divide\n",
      "  act_rule1_iti = np.mean(rnn_activity[rule1_trs_stable, :, 0, n][:, iti_ts])\n",
      "/home/yl4317/Documents/two_module_rnn/code/functions.py:2602: RuntimeWarning: invalid value encountered in scalar divide\n",
      "  act_rule1_ref_card = np.mean(rnn_activity[rule1_trs_stable, :, 0, n][:, ref_card_ts])\n",
      "/home/yl4317/Documents/two_module_rnn/code/functions.py:2606: RuntimeWarning: invalid value encountered in scalar divide\n",
      "  act_rule1_test_card = np.mean(rnn_activity[rule1_trs_stable, :, 0, n][:, test_card_ts])\n"
     ]
    },
    {
     "name": "stdout",
     "output_type": "stream",
     "text": [
      "success_2023-05-10-14-28-42_wcst_57_sparsity0\n"
     ]
    },
    {
     "name": "stderr",
     "output_type": "stream",
     "text": [
      "/home/yl4317/Documents/two_module_rnn/code/functions.py:2584: RuntimeWarning: invalid value encountered in divide\n",
      "  act_rule1_time = np.mean(rnn_activity[rule1_trs_stable, :, 0, n], axis=0)\n",
      "/home/yl4317/Documents/two_module_rnn/code/functions.py:2594: RuntimeWarning: invalid value encountered in scalar divide\n",
      "  act_rule1_fdbk = np.mean(rnn_activity[rule1_trs_stable, :, 0, n][:, fdbk_ts])\n",
      "/home/yl4317/Documents/two_module_rnn/code/functions.py:2598: RuntimeWarning: invalid value encountered in scalar divide\n",
      "  act_rule1_iti = np.mean(rnn_activity[rule1_trs_stable, :, 0, n][:, iti_ts])\n",
      "/home/yl4317/Documents/two_module_rnn/code/functions.py:2602: RuntimeWarning: invalid value encountered in scalar divide\n",
      "  act_rule1_ref_card = np.mean(rnn_activity[rule1_trs_stable, :, 0, n][:, ref_card_ts])\n",
      "/home/yl4317/Documents/two_module_rnn/code/functions.py:2606: RuntimeWarning: invalid value encountered in scalar divide\n",
      "  act_rule1_test_card = np.mean(rnn_activity[rule1_trs_stable, :, 0, n][:, test_card_ts])\n"
     ]
    },
    {
     "name": "stdout",
     "output_type": "stream",
     "text": [
      "success_2023-05-10-14-28-42_wcst_58_sparsity0\n"
     ]
    },
    {
     "name": "stderr",
     "output_type": "stream",
     "text": [
      "/home/yl4317/Documents/two_module_rnn/code/functions.py:2584: RuntimeWarning: invalid value encountered in divide\n",
      "  act_rule1_time = np.mean(rnn_activity[rule1_trs_stable, :, 0, n], axis=0)\n",
      "/home/yl4317/Documents/two_module_rnn/code/functions.py:2594: RuntimeWarning: invalid value encountered in scalar divide\n",
      "  act_rule1_fdbk = np.mean(rnn_activity[rule1_trs_stable, :, 0, n][:, fdbk_ts])\n",
      "/home/yl4317/Documents/two_module_rnn/code/functions.py:2598: RuntimeWarning: invalid value encountered in scalar divide\n",
      "  act_rule1_iti = np.mean(rnn_activity[rule1_trs_stable, :, 0, n][:, iti_ts])\n",
      "/home/yl4317/Documents/two_module_rnn/code/functions.py:2602: RuntimeWarning: invalid value encountered in scalar divide\n",
      "  act_rule1_ref_card = np.mean(rnn_activity[rule1_trs_stable, :, 0, n][:, ref_card_ts])\n",
      "/home/yl4317/Documents/two_module_rnn/code/functions.py:2606: RuntimeWarning: invalid value encountered in scalar divide\n",
      "  act_rule1_test_card = np.mean(rnn_activity[rule1_trs_stable, :, 0, n][:, test_card_ts])\n"
     ]
    },
    {
     "name": "stdout",
     "output_type": "stream",
     "text": [
      "success_2023-05-10-14-28-42_wcst_5_sparsity0\n"
     ]
    },
    {
     "name": "stderr",
     "output_type": "stream",
     "text": [
      "/home/yl4317/Documents/two_module_rnn/code/functions.py:2584: RuntimeWarning: invalid value encountered in divide\n",
      "  act_rule1_time = np.mean(rnn_activity[rule1_trs_stable, :, 0, n], axis=0)\n",
      "/home/yl4317/Documents/two_module_rnn/code/functions.py:2594: RuntimeWarning: invalid value encountered in scalar divide\n",
      "  act_rule1_fdbk = np.mean(rnn_activity[rule1_trs_stable, :, 0, n][:, fdbk_ts])\n",
      "/home/yl4317/Documents/two_module_rnn/code/functions.py:2598: RuntimeWarning: invalid value encountered in scalar divide\n",
      "  act_rule1_iti = np.mean(rnn_activity[rule1_trs_stable, :, 0, n][:, iti_ts])\n",
      "/home/yl4317/Documents/two_module_rnn/code/functions.py:2602: RuntimeWarning: invalid value encountered in scalar divide\n",
      "  act_rule1_ref_card = np.mean(rnn_activity[rule1_trs_stable, :, 0, n][:, ref_card_ts])\n",
      "/home/yl4317/Documents/two_module_rnn/code/functions.py:2606: RuntimeWarning: invalid value encountered in scalar divide\n",
      "  act_rule1_test_card = np.mean(rnn_activity[rule1_trs_stable, :, 0, n][:, test_card_ts])\n"
     ]
    },
    {
     "name": "stdout",
     "output_type": "stream",
     "text": [
      "success_2023-05-10-14-28-42_wcst_60_sparsity0\n"
     ]
    },
    {
     "name": "stderr",
     "output_type": "stream",
     "text": [
      "/home/yl4317/Documents/two_module_rnn/code/functions.py:2584: RuntimeWarning: invalid value encountered in divide\n",
      "  act_rule1_time = np.mean(rnn_activity[rule1_trs_stable, :, 0, n], axis=0)\n",
      "/home/yl4317/Documents/two_module_rnn/code/functions.py:2594: RuntimeWarning: invalid value encountered in scalar divide\n",
      "  act_rule1_fdbk = np.mean(rnn_activity[rule1_trs_stable, :, 0, n][:, fdbk_ts])\n",
      "/home/yl4317/Documents/two_module_rnn/code/functions.py:2598: RuntimeWarning: invalid value encountered in scalar divide\n",
      "  act_rule1_iti = np.mean(rnn_activity[rule1_trs_stable, :, 0, n][:, iti_ts])\n",
      "/home/yl4317/Documents/two_module_rnn/code/functions.py:2602: RuntimeWarning: invalid value encountered in scalar divide\n",
      "  act_rule1_ref_card = np.mean(rnn_activity[rule1_trs_stable, :, 0, n][:, ref_card_ts])\n",
      "/home/yl4317/Documents/two_module_rnn/code/functions.py:2606: RuntimeWarning: invalid value encountered in scalar divide\n",
      "  act_rule1_test_card = np.mean(rnn_activity[rule1_trs_stable, :, 0, n][:, test_card_ts])\n"
     ]
    },
    {
     "name": "stdout",
     "output_type": "stream",
     "text": [
      "success_2023-05-10-14-28-42_wcst_63_sparsity0\n"
     ]
    },
    {
     "name": "stderr",
     "output_type": "stream",
     "text": [
      "/home/yl4317/Documents/two_module_rnn/code/functions.py:2584: RuntimeWarning: invalid value encountered in divide\n",
      "  act_rule1_time = np.mean(rnn_activity[rule1_trs_stable, :, 0, n], axis=0)\n",
      "/home/yl4317/Documents/two_module_rnn/code/functions.py:2594: RuntimeWarning: invalid value encountered in scalar divide\n",
      "  act_rule1_fdbk = np.mean(rnn_activity[rule1_trs_stable, :, 0, n][:, fdbk_ts])\n",
      "/home/yl4317/Documents/two_module_rnn/code/functions.py:2598: RuntimeWarning: invalid value encountered in scalar divide\n",
      "  act_rule1_iti = np.mean(rnn_activity[rule1_trs_stable, :, 0, n][:, iti_ts])\n",
      "/home/yl4317/Documents/two_module_rnn/code/functions.py:2602: RuntimeWarning: invalid value encountered in scalar divide\n",
      "  act_rule1_ref_card = np.mean(rnn_activity[rule1_trs_stable, :, 0, n][:, ref_card_ts])\n",
      "/home/yl4317/Documents/two_module_rnn/code/functions.py:2606: RuntimeWarning: invalid value encountered in scalar divide\n",
      "  act_rule1_test_card = np.mean(rnn_activity[rule1_trs_stable, :, 0, n][:, test_card_ts])\n"
     ]
    },
    {
     "name": "stdout",
     "output_type": "stream",
     "text": [
      "success_2023-05-10-14-28-42_wcst_6_sparsity0\n"
     ]
    },
    {
     "name": "stderr",
     "output_type": "stream",
     "text": [
      "/home/yl4317/Documents/two_module_rnn/code/functions.py:2584: RuntimeWarning: invalid value encountered in divide\n",
      "  act_rule1_time = np.mean(rnn_activity[rule1_trs_stable, :, 0, n], axis=0)\n",
      "/home/yl4317/Documents/two_module_rnn/code/functions.py:2594: RuntimeWarning: invalid value encountered in scalar divide\n",
      "  act_rule1_fdbk = np.mean(rnn_activity[rule1_trs_stable, :, 0, n][:, fdbk_ts])\n",
      "/home/yl4317/Documents/two_module_rnn/code/functions.py:2598: RuntimeWarning: invalid value encountered in scalar divide\n",
      "  act_rule1_iti = np.mean(rnn_activity[rule1_trs_stable, :, 0, n][:, iti_ts])\n",
      "/home/yl4317/Documents/two_module_rnn/code/functions.py:2602: RuntimeWarning: invalid value encountered in scalar divide\n",
      "  act_rule1_ref_card = np.mean(rnn_activity[rule1_trs_stable, :, 0, n][:, ref_card_ts])\n",
      "/home/yl4317/Documents/two_module_rnn/code/functions.py:2606: RuntimeWarning: invalid value encountered in scalar divide\n",
      "  act_rule1_test_card = np.mean(rnn_activity[rule1_trs_stable, :, 0, n][:, test_card_ts])\n"
     ]
    },
    {
     "name": "stdout",
     "output_type": "stream",
     "text": [
      "success_2023-05-10-14-28-42_wcst_7_sparsity0\n"
     ]
    },
    {
     "name": "stderr",
     "output_type": "stream",
     "text": [
      "/home/yl4317/Documents/two_module_rnn/code/functions.py:2584: RuntimeWarning: invalid value encountered in divide\n",
      "  act_rule1_time = np.mean(rnn_activity[rule1_trs_stable, :, 0, n], axis=0)\n",
      "/home/yl4317/Documents/two_module_rnn/code/functions.py:2594: RuntimeWarning: invalid value encountered in scalar divide\n",
      "  act_rule1_fdbk = np.mean(rnn_activity[rule1_trs_stable, :, 0, n][:, fdbk_ts])\n",
      "/home/yl4317/Documents/two_module_rnn/code/functions.py:2598: RuntimeWarning: invalid value encountered in scalar divide\n",
      "  act_rule1_iti = np.mean(rnn_activity[rule1_trs_stable, :, 0, n][:, iti_ts])\n",
      "/home/yl4317/Documents/two_module_rnn/code/functions.py:2602: RuntimeWarning: invalid value encountered in scalar divide\n",
      "  act_rule1_ref_card = np.mean(rnn_activity[rule1_trs_stable, :, 0, n][:, ref_card_ts])\n",
      "/home/yl4317/Documents/two_module_rnn/code/functions.py:2606: RuntimeWarning: invalid value encountered in scalar divide\n",
      "  act_rule1_test_card = np.mean(rnn_activity[rule1_trs_stable, :, 0, n][:, test_card_ts])\n"
     ]
    },
    {
     "name": "stdout",
     "output_type": "stream",
     "text": [
      "success_2023-05-10-14-28-42_wcst_82_sparsity0\n"
     ]
    },
    {
     "name": "stderr",
     "output_type": "stream",
     "text": [
      "/home/yl4317/Documents/two_module_rnn/code/functions.py:2584: RuntimeWarning: invalid value encountered in divide\n",
      "  act_rule1_time = np.mean(rnn_activity[rule1_trs_stable, :, 0, n], axis=0)\n",
      "/home/yl4317/Documents/two_module_rnn/code/functions.py:2594: RuntimeWarning: invalid value encountered in scalar divide\n",
      "  act_rule1_fdbk = np.mean(rnn_activity[rule1_trs_stable, :, 0, n][:, fdbk_ts])\n",
      "/home/yl4317/Documents/two_module_rnn/code/functions.py:2598: RuntimeWarning: invalid value encountered in scalar divide\n",
      "  act_rule1_iti = np.mean(rnn_activity[rule1_trs_stable, :, 0, n][:, iti_ts])\n",
      "/home/yl4317/Documents/two_module_rnn/code/functions.py:2602: RuntimeWarning: invalid value encountered in scalar divide\n",
      "  act_rule1_ref_card = np.mean(rnn_activity[rule1_trs_stable, :, 0, n][:, ref_card_ts])\n",
      "/home/yl4317/Documents/two_module_rnn/code/functions.py:2606: RuntimeWarning: invalid value encountered in scalar divide\n",
      "  act_rule1_test_card = np.mean(rnn_activity[rule1_trs_stable, :, 0, n][:, test_card_ts])\n"
     ]
    },
    {
     "name": "stdout",
     "output_type": "stream",
     "text": [
      "success_2023-05-10-14-28-42_wcst_86_sparsity0\n"
     ]
    },
    {
     "name": "stderr",
     "output_type": "stream",
     "text": [
      "/home/yl4317/Documents/two_module_rnn/code/functions.py:2584: RuntimeWarning: invalid value encountered in divide\n",
      "  act_rule1_time = np.mean(rnn_activity[rule1_trs_stable, :, 0, n], axis=0)\n",
      "/home/yl4317/Documents/two_module_rnn/code/functions.py:2594: RuntimeWarning: invalid value encountered in scalar divide\n",
      "  act_rule1_fdbk = np.mean(rnn_activity[rule1_trs_stable, :, 0, n][:, fdbk_ts])\n",
      "/home/yl4317/Documents/two_module_rnn/code/functions.py:2598: RuntimeWarning: invalid value encountered in scalar divide\n",
      "  act_rule1_iti = np.mean(rnn_activity[rule1_trs_stable, :, 0, n][:, iti_ts])\n",
      "/home/yl4317/Documents/two_module_rnn/code/functions.py:2602: RuntimeWarning: invalid value encountered in scalar divide\n",
      "  act_rule1_ref_card = np.mean(rnn_activity[rule1_trs_stable, :, 0, n][:, ref_card_ts])\n",
      "/home/yl4317/Documents/two_module_rnn/code/functions.py:2606: RuntimeWarning: invalid value encountered in scalar divide\n",
      "  act_rule1_test_card = np.mean(rnn_activity[rule1_trs_stable, :, 0, n][:, test_card_ts])\n"
     ]
    },
    {
     "name": "stdout",
     "output_type": "stream",
     "text": [
      "success_2023-05-10-14-28-42_wcst_87_sparsity0\n"
     ]
    },
    {
     "name": "stderr",
     "output_type": "stream",
     "text": [
      "/home/yl4317/Documents/two_module_rnn/code/functions.py:2584: RuntimeWarning: invalid value encountered in divide\n",
      "  act_rule1_time = np.mean(rnn_activity[rule1_trs_stable, :, 0, n], axis=0)\n",
      "/home/yl4317/Documents/two_module_rnn/code/functions.py:2594: RuntimeWarning: invalid value encountered in scalar divide\n",
      "  act_rule1_fdbk = np.mean(rnn_activity[rule1_trs_stable, :, 0, n][:, fdbk_ts])\n",
      "/home/yl4317/Documents/two_module_rnn/code/functions.py:2598: RuntimeWarning: invalid value encountered in scalar divide\n",
      "  act_rule1_iti = np.mean(rnn_activity[rule1_trs_stable, :, 0, n][:, iti_ts])\n",
      "/home/yl4317/Documents/two_module_rnn/code/functions.py:2602: RuntimeWarning: invalid value encountered in scalar divide\n",
      "  act_rule1_ref_card = np.mean(rnn_activity[rule1_trs_stable, :, 0, n][:, ref_card_ts])\n",
      "/home/yl4317/Documents/two_module_rnn/code/functions.py:2606: RuntimeWarning: invalid value encountered in scalar divide\n",
      "  act_rule1_test_card = np.mean(rnn_activity[rule1_trs_stable, :, 0, n][:, test_card_ts])\n"
     ]
    },
    {
     "name": "stdout",
     "output_type": "stream",
     "text": [
      "success_2023-05-10-14-28-42_wcst_93_sparsity0\n"
     ]
    },
    {
     "name": "stderr",
     "output_type": "stream",
     "text": [
      "/home/yl4317/Documents/two_module_rnn/code/functions.py:2584: RuntimeWarning: invalid value encountered in divide\n",
      "  act_rule1_time = np.mean(rnn_activity[rule1_trs_stable, :, 0, n], axis=0)\n",
      "/home/yl4317/Documents/two_module_rnn/code/functions.py:2594: RuntimeWarning: invalid value encountered in scalar divide\n",
      "  act_rule1_fdbk = np.mean(rnn_activity[rule1_trs_stable, :, 0, n][:, fdbk_ts])\n",
      "/home/yl4317/Documents/two_module_rnn/code/functions.py:2598: RuntimeWarning: invalid value encountered in scalar divide\n",
      "  act_rule1_iti = np.mean(rnn_activity[rule1_trs_stable, :, 0, n][:, iti_ts])\n",
      "/home/yl4317/Documents/two_module_rnn/code/functions.py:2602: RuntimeWarning: invalid value encountered in scalar divide\n",
      "  act_rule1_ref_card = np.mean(rnn_activity[rule1_trs_stable, :, 0, n][:, ref_card_ts])\n",
      "/home/yl4317/Documents/two_module_rnn/code/functions.py:2606: RuntimeWarning: invalid value encountered in scalar divide\n",
      "  act_rule1_test_card = np.mean(rnn_activity[rule1_trs_stable, :, 0, n][:, test_card_ts])\n"
     ]
    },
    {
     "name": "stdout",
     "output_type": "stream",
     "text": [
      "success_2023-05-10-14-28-42_wcst_98_sparsity0\n"
     ]
    },
    {
     "name": "stderr",
     "output_type": "stream",
     "text": [
      "/home/yl4317/Documents/two_module_rnn/code/functions.py:2584: RuntimeWarning: invalid value encountered in divide\n",
      "  act_rule1_time = np.mean(rnn_activity[rule1_trs_stable, :, 0, n], axis=0)\n",
      "/home/yl4317/Documents/two_module_rnn/code/functions.py:2594: RuntimeWarning: invalid value encountered in scalar divide\n",
      "  act_rule1_fdbk = np.mean(rnn_activity[rule1_trs_stable, :, 0, n][:, fdbk_ts])\n",
      "/home/yl4317/Documents/two_module_rnn/code/functions.py:2598: RuntimeWarning: invalid value encountered in scalar divide\n",
      "  act_rule1_iti = np.mean(rnn_activity[rule1_trs_stable, :, 0, n][:, iti_ts])\n",
      "/home/yl4317/Documents/two_module_rnn/code/functions.py:2602: RuntimeWarning: invalid value encountered in scalar divide\n",
      "  act_rule1_ref_card = np.mean(rnn_activity[rule1_trs_stable, :, 0, n][:, ref_card_ts])\n",
      "/home/yl4317/Documents/two_module_rnn/code/functions.py:2606: RuntimeWarning: invalid value encountered in scalar divide\n",
      "  act_rule1_test_card = np.mean(rnn_activity[rule1_trs_stable, :, 0, n][:, test_card_ts])\n"
     ]
    },
    {
     "name": "stdout",
     "output_type": "stream",
     "text": [
      "505.3346197605133\n"
     ]
    }
   ],
   "source": [
    "start = time.time()\n",
    "\n",
    "all_data_branch_coding = []\n",
    "\n",
    "for model_name in sorted(os.listdir('/scratch/yl4317/two_module_rnn/saved_models/')):\n",
    "#     if '2022-09-09-12-23-36' in model_name and 'wcst' in model_name and 'success' in model_name:\n",
    "#     if ('2022-09-19' in model_name or '2022-09-20' in model_name or '2022-09-22' in model_name or '2022-10-05' in model_name or '2022-10-11' in model_name) and 'wcst' in model_name and 'success' in model_name:\n",
    "    if ('2023-05-01' in model_name or '2023-05-10' in model_name) and 'success' in model_name:\n",
    "#     if 'pfc_only_to_srvipsst_sparse_srsst_to_sredend' in model_name and 'wcst' in model_narule_sel_unnorm_1_all model_name:\n",
    "#         if '2022-09-20-17-30-17_wcst_48_' not in model_name:\n",
    "#             continue\n",
    "        print(model_name)\n",
    "        \n",
    "        # load model\n",
    "        path_to_file = '/scratch/yl4317/two_module_rnn/saved_models/'+model_name\n",
    "        with HiddenPrints():\n",
    "            model, hp_test, hp_task_test, optim, saved_data = load_model_v2(path_to_file=path_to_file,model_name=model_name, simple=False, plot=False, toprint=False)\n",
    "            # add filter here\n",
    "        if hp_test['dt']!=10:\n",
    "            continue\n",
    "#         if hp_test['sparse_srsst_to_sredend']!=0.8:\n",
    "#             continue\n",
    "#         print('sparsity of SR SST to SR Edend: {}'.format(hp_test['sparse_srsst_to_sredend']))\n",
    "#         if len(hp_test['cell_group_list'])==2:\n",
    "#             print('pass\\n')\n",
    "#             continue\n",
    "        if hp_test['dend_nonlinearity'] not in ['divisive_2', 'subtractive']:\n",
    "            print('pass')\n",
    "            continue\n",
    "                \n",
    "        \n",
    "        # make noiseless\n",
    "#         model.rnn.network_noise = 0\n",
    "#         hp_test['input_noise_perceptual'] = 0\n",
    "#         hp_test['input_noise_rule'] = 0\n",
    "        \n",
    "        # generate some neural data\n",
    "#         neural_data = generate_neural_data_test(model=model, n_trials_test=100, switch_every_test=5, to_plot=False, hp_test=hp_test, hp_task_test=hp_task_test, compute_current=False)\n",
    "        if '{}_testdata_noiseless_no_current_matrix'.format(model_name) not in os.listdir('/scratch/yl4317/two_module_rnn/saved_testdata/'):\n",
    "            print('did not find testing data, pass\\n')\n",
    "            continue\n",
    "        with open('/scratch/yl4317/two_module_rnn/saved_testdata/{}_testdata_noiseless_no_current_matrix'.format(model_name), 'rb') as f:\n",
    "            neural_data = pickle.load(f)\n",
    "        test_data = neural_data['test_data']\n",
    "        rnn_activity = neural_data['rnn_activity'].detach().cpu().numpy()\n",
    "        if np.isnan(rnn_activity).any():\n",
    "            print('NaN in rnn_activity, pass\\n')\n",
    "            continue\n",
    "#         current_matrix = neural_data['current_matrix']\n",
    "        \n",
    "        mean_perf = np.mean(np.array(test_data['perfs']))\n",
    "        mean_perf_rule = np.mean(np.array(test_data['perf_rules']))\n",
    "        if mean_perf<=0.8 or mean_perf_rule<=0.8:\n",
    "            print('This model performance is low!! {}/{}\\n'.format(mean_perf, mean_perf_rule))\n",
    "            continue\n",
    "            \n",
    "        # generate trial labels\n",
    "        trial_labels = label_trials_wcst(test_data=test_data)\n",
    "        if len(trial_labels['rule1_trs_stable'])==0 or len(trial_labels['rule2_trs_stable'])==0:\n",
    "            print('no rule 1 or 2 trials, pass\\n')\n",
    "            continue\n",
    "        resp_trs_stable = {'c1': trial_labels['c1_trs_stable'], 'c2': trial_labels['c2_trs_stable'], 'c3': trial_labels['c3_trs_stable']}\n",
    "        # compute cell selectivity\n",
    "        all_sels = compute_sel_wcst(rnn_activity=rnn_activity, hp=hp_test, hp_task=hp_task_test, rules=test_data['rules'],\n",
    "                                     rule1_trs_stable=trial_labels['rule1_trs_stable'], rule2_trs_stable=trial_labels['rule2_trs_stable'],\n",
    "                                     rule1_trs_after_error = trial_labels['rule1_trs_after_error'], rule2_trs_after_error = trial_labels['rule2_trs_after_error'],\n",
    "                                     resp_trs_stable=resp_trs_stable, trs_by_center_card=trial_labels['trs_by_center_card_stable'],\n",
    "                                     stims=test_data['stims'], error_trials=trial_labels['error_trials'], trial_labels=trial_labels)\n",
    "        rule_sel_norm = all_sels['rule_normalized_activity']\n",
    "        rule_sel_unnorm = all_sels['rule_activity']\n",
    "        \n",
    "        ## analysis 1\n",
    "        dend1_idx = np.arange(model.rnn.cg_idx['sr_edend'][0], model.rnn.cg_idx['sr_edend'][0]+len(model.rnn.cg_idx['sr_esoma']))\n",
    "        dend2_idx = [n for n in model.rnn.cg_idx['sr_edend'] if n not in dend1_idx]\n",
    "        \n",
    "        \n",
    "        rule_sel_dend1_norm = [rule_sel_norm[n] for n in dend1_idx]\n",
    "        rule_sel_dend2_norm = [rule_sel_norm[n] for n in dend2_idx]\n",
    "        rule_sel_dend1_unnorm = [rule_sel_unnorm[n] for n in dend1_idx]\n",
    "        rule_sel_dend2_unnorm = [rule_sel_unnorm[n] for n in dend2_idx]\n",
    "        \n",
    "        mean_act = np.mean(rnn_activity, axis=(0,1,2))\n",
    "        \n",
    "        ## analysis 2\n",
    "        subcg_sr_idx = define_subpop_sr_wcst(model=model, hp_task=hp_task_test, hp=hp_test, rnn_activity=rnn_activity, \n",
    "                                          rule_sel=all_sels['rule_normalized_activity'], resp_sel=all_sels['resp_normalized'], ref_card_sel=all_sels['ref_card_normalized'],\n",
    "                                          rule1_trs_stable=trial_labels['rule1_trs_stable'], \n",
    "                                          rule2_trs_stable=trial_labels['rule2_trs_stable'], \n",
    "                                          rule_threshold=0, resp_threshold=0)\n",
    "        for subcg in subcg_sr_idx.keys():\n",
    "            model.rnn.cg_idx['subcg_sr_'+subcg] = subcg_sr_idx[subcg]\n",
    "        \n",
    "        mean_rule_sel_all_sm_esoma = np.mean([all_sels['rule_normalized_activity'][n] for n in model.rnn.cg_idx['sr_esoma']])\n",
    "        sr_esoma_rule_cell_idx = np.concatenate((model.rnn.cg_idx['subcg_sr_rule1_sr_esoma'], model.rnn.cg_idx['subcg_sr_rule2_sr_esoma']))\n",
    "        mean_rule_sel_all_sm_esoma_rule_cells = np.mean([all_sels['rule_normalized_activity'][n] for n in sr_esoma_rule_cell_idx])\n",
    "        \n",
    "        ## analysis 3, cosine similarity between the mean activity vector during the two rules\n",
    "        mean_state_rule1 = rnn_activity[trial_labels['rule1_trs_stable'], :, 0, :][:, :, model.rnn.cg_idx['sr_esoma']]\n",
    "        mean_state_rule1 = np.mean(mean_state_rule1, axis=(0, 1))\n",
    "        mean_state_rule2 = rnn_activity[trial_labels['rule2_trs_stable'], :, 0, :][:, :, model.rnn.cg_idx['sr_esoma']]\n",
    "        mean_state_rule2 = np.mean(mean_state_rule2, axis=(0, 1))\n",
    "        cosine = cosine_similarity(X=mean_state_rule1.reshape(1, -1), Y=mean_state_rule2.reshape(1, -1))\n",
    "        \n",
    "        all_data_branch_coding.append({'model': model, \n",
    "                                       'model_name': model_name, \n",
    "                                       'hp': hp_test, \n",
    "                                       'rule_sel_dend1_norm': rule_sel_dend1_norm, \n",
    "                                       'rule_sel_dend2_norm': rule_sel_dend2_norm, \n",
    "                                       'rule_sel_dend1_unnorm': rule_sel_dend1_unnorm, \n",
    "                                       'rule_sel_dend2_unnorm': rule_sel_dend2_unnorm, \n",
    "#                                        'rule_sel': rule_sel_used, \n",
    "                                       'act_rule1': all_sels['act_rule1'],\n",
    "                                       'act_rule2': all_sels['act_rule2'], \n",
    "                                       'mean_act': mean_act, \n",
    "                                       'all_sels': all_sels,\n",
    "#                                        'mean_rule_sel_all_sm_esoma': mean_rule_sel_all_sm_esoma,\n",
    "#                                        'mean_rule_sel_all_sm_esoma_rule_cells': mean_rule_sel_all_sm_esoma_rule_cells,\n",
    "#                                        'cosine': cosine,\n",
    "                                       'dend1_idx': dend1_idx,\n",
    "                                       'dend2_idx': dend2_idx,\n",
    "                                       'subcg_sr_idx': subcg_sr_idx})\n",
    "        \n",
    "print(time.time()-start)\n",
    "with open('branch_coding.pickle', 'wb') as f:\n",
    "    pickle.dump(all_data_branch_coding, f)"
   ]
  },
  {
   "cell_type": "markdown",
   "metadata": {},
   "source": [
    "# Figure 7b, c: rule selectivity on different branches across different sparsity levels"
   ]
  },
  {
   "cell_type": "code",
   "execution_count": null,
   "metadata": {
    "scrolled": true
   },
   "outputs": [],
   "source": [
    "with open('/home/yl4317/Documents/two_module_rnn/processed_data/branch_coding.pickle', 'rb') as handle:\n",
    "    all_data_branch_coding = pickle.load(handle)\n",
    "    \n",
    "all_dend_nonlinears = sorted(list(set(x['hp']['dend_nonlinearity'] for x in all_data_branch_coding)))\n",
    "all_sparsitys = sorted(list(set(x['hp']['sparse_srsst_to_sredend'] for x in all_data_branch_coding)))\n",
    "\n",
    "data_fig7b = {'x': [], 'y': []}    # rule selectivity of two branches, for fully-connected SST -> exc \n",
    "data_fig7c = {'x': [], 'y': []}    # rule selectivity of two branches, for 20% connected SST -> exc \n",
    "\n",
    "for dend_nonlinear in all_dend_nonlinears:\n",
    "    for sparsity in all_sparsitys:\n",
    "        if not ((dend_nonlinear == 'subtractive' and sparsity == 0) or (dend_nonlinear == 'subtractive' and sparsity == 0.8)):\n",
    "            continue\n",
    "        fig, ax = plt.subplots(1, 1, figsize=[14, 7])\n",
    "        fig.patch.set_facecolor('white')\n",
    "        fig.suptitle('Rule selectivity for the two branches, \\nacross all models, {} {}'.format(sparsity, dend_nonlinear), fontsize=20)\n",
    "        ax.set_xlabel('Rule selectivity of \\none dendritic branch', fontsize=20)\n",
    "        ax.set_ylabel('Rule selectivity of \\nthe other dendritic branch', fontsize=20)\n",
    "        ax.set_xlim([-1, 1])\n",
    "        ax.set_ylim([-1, 1])\n",
    "        for x in all_data_branch_coding:\n",
    "            if x['hp']['sparse_srsst_to_sredend']!=sparsity or (x['hp']['dend_nonlinearity']!=dend_nonlinear):\n",
    "                continue\n",
    "            \n",
    "            for n in range(70):\n",
    "                dend1_idx = n+70    # id of one dendritic branch\n",
    "                dend2_idx = n+140    # the other branch\n",
    "                ax.scatter(x=x['rule_sel_dend1_norm'][n], y=x['rule_sel_dend2_norm'][n], s=30, color='k', alpha=1)\n",
    "                ax.axvline(x=0, linestyle='dotted', color='k')\n",
    "                ax.axhline(y=0, linestyle='dotted', color='k')\n",
    "                ax.set_xlim([-1.1, 1.1])\n",
    "                ax.set_ylim([-1.1, 1.1])\n",
    "            \n",
    "                # source data\n",
    "                if dend_nonlinear == 'subtractive' and sparsity == 0:\n",
    "                    data_fig7b['x'].append(x['rule_sel_dend1_norm'][n])\n",
    "                    data_fig7b['y'].append(x['rule_sel_dend2_norm'][n])\n",
    "                if dend_nonlinear == 'subtractive' and sparsity == 0.8:\n",
    "                    data_fig7c['x'].append(x['rule_sel_dend1_norm'][n])\n",
    "                    data_fig7c['y'].append(x['rule_sel_dend2_norm'][n])\n",
    "\n",
    "        \n",
    "        for i in range(2):\n",
    "            make_pretty_axes(ax[i])\n",
    "        fig.tight_layout()\n",
    "        plt.show()\n",
    "        fig.savefig('/home/yl4317/Documents/two_module_rnn/figs/dend_rule_coding_sparsity{}_{}.pdf'.format(sparsity, dend_nonlinear))\n",
    "# save to csv\n",
    "pd.DataFrame.from_dict(data=data_fig7b, orient='columns').to_csv('/home/yl4317/Documents/two_module_rnn/source_data/fig7b_dend_coding_dense.csv', header=False)\n",
    "pd.DataFrame.from_dict(data=data_fig7c, orient='columns').to_csv('/home/yl4317/Documents/two_module_rnn/source_data/fig7c_dend_coding_sparse.csv', header=False)"
   ]
  },
  {
   "cell_type": "markdown",
   "metadata": {},
   "source": [
    "# Figure 7d: branch coding as a function of sparsity of SST->Edend"
   ]
  },
  {
   "cell_type": "code",
   "execution_count": 26,
   "metadata": {
    "scrolled": true
   },
   "outputs": [
    {
     "name": "stdout",
     "output_type": "stream",
     "text": [
      "subtractive\n"
     ]
    },
    {
     "data": {
      "image/png": "[encoded data removed]",
      "text/plain": [
       "<Figure size 480x400 with 1 Axes>"
      ]
     },
     "metadata": {},
     "output_type": "display_data"
    },
    {
     "name": "stdout",
     "output_type": "stream",
     "text": [
      "subtractive, 0.8, n=980\n",
      "subtractive, 0.6000000000000001, n=560\n",
      "subtractive, 0.4, n=490\n",
      "subtractive, 0.2, n=350\n",
      "subtractive, 0.0, n=1890\n"
     ]
    },
    {
     "data": {
      "image/png": "[encoded data removed]",
      "text/plain": [
       "<Figure size 480x400 with 1 Axes>"
      ]
     },
     "metadata": {},
     "output_type": "display_data"
    },
    {
     "name": "stdout",
     "output_type": "stream",
     "text": [
      "divisive_2\n"
     ]
    },
    {
     "data": {
      "image/png": "[encoded data removed]",
      "text/plain": [
       "<Figure size 480x400 with 1 Axes>"
      ]
     },
     "metadata": {},
     "output_type": "display_data"
    },
    {
     "name": "stdout",
     "output_type": "stream",
     "text": [
      "divisive_2, 0.8, n=350\n",
      "divisive_2, 0.6000000000000001, n=280\n",
      "divisive_2, 0.4, n=350\n",
      "divisive_2, 0.2, n=490\n",
      "divisive_2, 0.0, n=1960\n"
     ]
    },
    {
     "data": {
      "image/png": "[encoded data removed]",
      "text/plain": [
       "<Figure size 480x400 with 1 Axes>"
      ]
     },
     "metadata": {},
     "output_type": "display_data"
    }
   ],
   "source": [
    "# branch coding as a function of sparsity of SST->Edend\n",
    "import scipy.stats as stats\n",
    "all_dend_nonlinears = list(set(x['hp']['dend_nonlinearity'] for x in all_data_branch_coding))\n",
    "\n",
    "\n",
    "data_fig7d = {'x': [], 'y': [], 'y_err': []}\n",
    "data_suppfig11a = {'x': [], 'y': [], 'y_err': []}\n",
    "\n",
    "\n",
    "for dend_nonlinear in all_dend_nonlinears:\n",
    "    print(dend_nonlinear)\n",
    "    plt.rc('font', size=12)\n",
    "    fig, ax = plt.subplots(figsize=[6, 5])\n",
    "    fig.patch.set_facecolor('white')\n",
    "#     fig.suptitle('Difference between the rule selectivity for the two branches, \\nas a function of the sparsity from SM SST to SR Edend', fontsize=20)\n",
    "    ax.set_xlabel('Sparsity', fontsize=20)\n",
    "    ax.set_ylabel('Difference in rule selectivity \\nbetween branches', fontsize=20)\n",
    "    for x in all_data_branch_coding:\n",
    "        if x['hp']['dend_nonlinearity']!=dend_nonlinear:\n",
    "            continue\n",
    "        n_dends = len(x['rule_sel_dend1_norm'])\n",
    "    #     for n in range(n_dends):\n",
    "        diff_rulesel = np.abs(np.array(x['rule_sel_dend1_norm']) - np.array(x['rule_sel_dend2_norm']))\n",
    "#         print(x['rule_sel_dend1_unnorm'][0], x['rule_sel_dend1_norm'][0])\n",
    "        ax.scatter(x=x['hp']['sparse_srsst_to_sredend']*np.ones(n_dends), y=diff_rulesel, s=15, color='k', alpha=0.25)\n",
    "    ax.tick_params(axis='both', which='major', labelsize=20)\n",
    "    make_pretty_axes(ax)\n",
    "    fig.tight_layout()\n",
    "    plt.show()\n",
    "\n",
    "    sparsities = sorted(list(set([x['hp']['sparse_srsst_to_sredend'] for x in all_data_branch_coding])), reverse=True)\n",
    "    sparsity_vs_diffrulesel = dict.fromkeys(sparsities)\n",
    "    for s in sparsities:\n",
    "        sparsity_vs_diffrulesel[s] = {}              \n",
    "        all_diff_rulesel = []\n",
    "        for x in all_data_branch_coding:\n",
    "#             if x['hp']['initialization_weights']!='kaiming_uniform':\n",
    "#                 continue\n",
    "            if x['hp']['dend_nonlinearity']!=dend_nonlinear:\n",
    "                continue\n",
    "            if x['hp']['sparse_srsst_to_sredend']==s:\n",
    "#                 if np.isnan(x['rule_sel_dend1']).any()==True or np.isnan(x['rule_sel_dend2']).any()==True:\n",
    "#                     print('nan!')\n",
    "#                     print(x['rule_sel_dend1'], x['rule_sel_dend2'])\n",
    "#                     continue\n",
    "#                 print(np.array(x['rule_sel_dend1_norm']), np.array(x['rule_sel_dend2_norm']))\n",
    "                all_diff_rulesel.extend(np.abs(np.array(x['rule_sel_dend1_norm']) - np.array(x['rule_sel_dend2_norm'])))\n",
    "        mean_diff_rulesel = np.mean(all_diff_rulesel)\n",
    "        print('{}, {}, n={}'.format(dend_nonlinear, s, len(all_diff_rulesel)))\n",
    "        std_diff_rulesel = np.std(all_diff_rulesel)\n",
    "        sem_diff_rulesel = stats.sem(all_diff_rulesel)\n",
    "        sparsity_vs_diffrulesel[s]['mean_diff_rulesel'] = mean_diff_rulesel\n",
    "        sparsity_vs_diffrulesel[s]['std_diff_rulesel'] = std_diff_rulesel\n",
    "        sparsity_vs_diffrulesel[s]['sem_diff_rulesel'] = sem_diff_rulesel\n",
    "    \n",
    "#     if dend_nonlinear=='v2_std':\n",
    "#         print(sparsity_vs_diffrulesel)\n",
    "\n",
    "    #===== Plotting =====#\n",
    "    fig, ax = plt.subplots(figsize=[6, 5])   \n",
    "    x = sparsities\n",
    "    y = [sparsity_vs_diffrulesel[s]['mean_diff_rulesel'] for s in sparsities]\n",
    "    y_err = [sparsity_vs_diffrulesel[s]['sem_diff_rulesel'] for s in sparsities]\n",
    "    ax.errorbar(x=x, y=y, yerr=yerr, marker='o', color='k')\n",
    "    ax.set_xlim([min(sparsities)-0.1, max(sparsities)+0.1])\n",
    "    ax.set_xlabel('Sparsity', fontsize=20)\n",
    "#     ax[1].set_ylabel('Mean difference in rule \\nselectivity between branches', fontsize=20)\n",
    "    ax.tick_params(axis='both', which='major', labelsize=20)\n",
    "    make_pretty_axes(ax)\n",
    "    fig.tight_layout()\n",
    "    plt.show()\n",
    "    fig.savefig('/home/yl4317/Documents/two_module_rnn/figs/dend_rule_coding_{}.pdf'.format(dend_nonlinear))\n",
    "\n",
    "    if dend_nonlinear == 'subtractive':\n",
    "        data_fig7d['x'] = x\n",
    "        data_fig7d['y'] = y\n",
    "        data_fig7d['y_err'] = y_err\n",
    "    elif dend_nonlinear == 'divisive_2':\n",
    "        data_suppfig11a['x'] = x\n",
    "        data_suppfig11a['y'] = y\n",
    "        data_suppfig11a['y_err'] = y_err\n",
    "\n",
    "# save to csv\n",
    "pd.DataFrame.from_dict(data=data_fig7d, orient='columns').to_csv('/home/yl4317/Documents/two_module_rnn/source_data/fig7d_dend_coding_subtractive.csv', header=False)\n",
    "pd.DataFrame.from_dict(data=data_suppfig11a, orient='columns').to_csv('/home/yl4317/Documents/two_module_rnn/source_data/suppfig11a_dend_coding_subtractive.csv', header=False)"
   ]
  },
  {
   "cell_type": "code",
   "execution_count": 14,
   "metadata": {},
   "outputs": [],
   "source": []
  },
  {
   "cell_type": "markdown",
   "metadata": {},
   "source": [
    "# sparsity effect, plot the nonlinearities together"
   ]
  },
  {
   "cell_type": "code",
   "execution_count": 5,
   "metadata": {
    "scrolled": true
   },
   "outputs": [
    {
     "data": {
      "image/png": "[encoded data removed]",
      "text/plain": [
       "<Figure size 500x400 with 1 Axes>"
      ]
     },
     "metadata": {},
     "output_type": "display_data"
    }
   ],
   "source": [
    "# plot the nonlinearities together\n",
    "import scipy.stats as stats\n",
    "\n",
    "sparsities = sorted(list(set(x['hp']['sparse_srsst_to_sredend'] for x in all_data_branch_coding)))\n",
    "dend_nonlinears = sorted(list(set(x['hp']['dend_nonlinearity'] for x in all_data_branch_coding)))\n",
    "dendnonlinear_and_sparsity_vs_branchcoding = dict.fromkeys(list(itertools.product(sparsities, dend_nonlinears)))\n",
    "\n",
    "colors = ['#a6cee3','#1f78b4','#b2df8a','#33a02c','#fb9a99','#e31a1c']\n",
    "dend_color_dict = dict(zip(dend_nonlinears, colors))\n",
    "\n",
    "for key in dendnonlinear_and_sparsity_vs_branchcoding.keys():\n",
    "    dendnonlinear_and_sparsity_vs_branchcoding[key] = []\n",
    "\n",
    "for x in all_data_branch_coding:\n",
    "    \n",
    "    # add filters\n",
    "#     if x['hp']['no_pfcesoma_to_srsst']==True:\n",
    "#         continue\n",
    "        \n",
    "    sparsity = x['hp']['sparse_srsst_to_sredend']\n",
    "    dend_nonlinear = x['hp']['dend_nonlinearity']\n",
    "    dendnonlinear_and_sparsity_vs_branchcoding[(sparsity, dend_nonlinear)].extend(np.abs(np.array(x['rule_sel_dend1_norm']) - np.array(x['rule_sel_dend2_norm'])))\n",
    "#     unnorm_rule_sel_dend1 = (x['act_rule1']-x['act_rule2'])[70:140]\n",
    "#     unnorm_rule_sel_dend2 = (x['act_rule1']-x['act_rule2'])[140:210]\n",
    "#     dendnonlinear_and_sparsity_vs_branchcoding[(sparsity, dend_nonlinear)].extend(np.abs(unnorm_rule_sel_dend1 - unnorm_rule_sel_dend2))\n",
    "\n",
    "fig, ax = plt.subplots(figsize=[5, 4])\n",
    "fig.patch.set_facecolor('white')\n",
    "for dend_nonlinear in dend_nonlinears:\n",
    "#     if dend_nonlinear!='divisive_2':\n",
    "#         continue\n",
    "    ax.errorbar(x=sparsities, \n",
    "                y=[np.mean(dendnonlinear_and_sparsity_vs_branchcoding[(s, dend_nonlinear)]) for s in sparsities], \n",
    "                yerr=[stats.sem(dendnonlinear_and_sparsity_vs_branchcoding[(s, dend_nonlinear)]) for s in sparsities],\n",
    "                marker='o',\n",
    "                label=dend_nonlinear,\n",
    "                alpha=1,\n",
    "                color=dend_color_dict[dend_nonlinear])\n",
    "    \n",
    "#     if dend_nonlinear=='v2_std':\n",
    "#         print([np.mean(dendnonlinear_and_sparsity_vs_branchcoding[(s, dend_nonlinear)]) for s in sparsities])\n",
    "    \n",
    "ax.set_xlabel(r'Sparsity of SST$\\rightarrow$dendrite connections', fontsize=20)\n",
    "ax.set_ylabel('Mean difference in rule \\nselectivity between branches', fontsize=20)\n",
    "ax.tick_params(axis='both', which='major', labelsize=20)\n",
    "ax.set_xlim([min(sparsities)-0.1, max(sparsities)+0.1])\n",
    "make_pretty_axes(ax)\n",
    "plt.legend(loc='upper left')\n",
    "fig.tight_layout()\n",
    "plt.show()\n"
   ]
  },
  {
   "cell_type": "markdown",
   "metadata": {},
   "source": [
    "# Optogenetically silencing SST, VIP or PV cells in the sensorimotor module"
   ]
  },
  {
   "cell_type": "code",
   "execution_count": 4,
   "metadata": {
    "scrolled": true
   },
   "outputs": [
    {
     "name": "stdout",
     "output_type": "stream",
     "text": [
      "success_2023-05-10-14-28-42_wcst_105_sparsity0\n",
      "success_2023-05-10-14-28-42_wcst_106_sparsity0\n",
      "success_2023-05-10-14-28-42_wcst_10_sparsity0\n",
      "success_2023-05-10-14-28-42_wcst_112_sparsity0\n",
      "low perf, pass (0.0/0.0)\n",
      "success_2023-05-10-14-28-42_wcst_115_sparsity0\n",
      "low perf, pass (0.125/0.02500000037252903)\n",
      "success_2023-05-10-14-28-42_wcst_116_sparsity0\n",
      "success_2023-05-10-14-28-42_wcst_118_sparsity0\n",
      "success_2023-05-10-14-28-42_wcst_121_sparsity0\n",
      "success_2023-05-10-14-28-42_wcst_122_sparsity0\n",
      "success_2023-05-10-14-28-42_wcst_124_sparsity0\n",
      "success_2023-05-10-14-28-42_wcst_126_sparsity0\n",
      "success_2023-05-10-14-28-42_wcst_131_sparsity0\n",
      "success_2023-05-10-14-28-42_wcst_134_sparsity0\n",
      "success_2023-05-10-14-28-42_wcst_136_sparsity0\n",
      "success_2023-05-10-14-28-42_wcst_139_sparsity0\n",
      "success_2023-05-10-14-28-42_wcst_142_sparsity0\n",
      "success_2023-05-10-14-28-42_wcst_143_sparsity0\n",
      "success_2023-05-10-14-28-42_wcst_144_sparsity0\n",
      "success_2023-05-10-14-28-42_wcst_149_sparsity0\n",
      "success_2023-05-10-14-28-42_wcst_150_sparsity0\n",
      "low perf, pass (0.0/0.0)\n",
      "success_2023-05-10-14-28-42_wcst_151_sparsity0\n",
      "success_2023-05-10-14-28-42_wcst_156_sparsity0\n",
      "success_2023-05-10-14-28-42_wcst_165_sparsity0\n",
      "success_2023-05-10-14-28-42_wcst_16_sparsity0\n",
      "success_2023-05-10-14-28-42_wcst_170_sparsity0\n",
      "success_2023-05-10-14-28-42_wcst_172_sparsity0\n",
      "low perf, pass (0.0/0.0)\n",
      "success_2023-05-10-14-28-42_wcst_176_sparsity0\n",
      "success_2023-05-10-14-28-42_wcst_177_sparsity0\n",
      "success_2023-05-10-14-28-42_wcst_179_sparsity0\n",
      "success_2023-05-10-14-28-42_wcst_17_sparsity0\n",
      "success_2023-05-10-14-28-42_wcst_180_sparsity0\n",
      "success_2023-05-10-14-28-42_wcst_183_sparsity0\n",
      "low perf, pass (0.0/0.0)\n",
      "success_2023-05-10-14-28-42_wcst_189_sparsity0\n",
      "success_2023-05-10-14-28-42_wcst_18_sparsity0\n",
      "success_2023-05-10-14-28-42_wcst_197_sparsity0\n",
      "success_2023-05-10-14-28-42_wcst_19_sparsity0\n",
      "success_2023-05-10-14-28-42_wcst_200_sparsity0\n",
      "success_2023-05-10-14-28-42_wcst_20_sparsity0\n",
      "success_2023-05-10-14-28-42_wcst_21_sparsity0\n",
      "success_2023-05-10-14-28-42_wcst_23_sparsity0\n",
      "success_2023-05-10-14-28-42_wcst_26_sparsity0\n",
      "success_2023-05-10-14-28-42_wcst_42_sparsity0\n",
      "success_2023-05-10-14-28-42_wcst_43_sparsity0\n",
      "success_2023-05-10-14-28-42_wcst_44_sparsity0\n",
      "success_2023-05-10-14-28-42_wcst_50_sparsity0\n",
      "success_2023-05-10-14-28-42_wcst_57_sparsity0\n",
      "success_2023-05-10-14-28-42_wcst_58_sparsity0\n",
      "success_2023-05-10-14-28-42_wcst_5_sparsity0\n",
      "success_2023-05-10-14-28-42_wcst_60_sparsity0\n",
      "success_2023-05-10-14-28-42_wcst_63_sparsity0\n",
      "success_2023-05-10-14-28-42_wcst_6_sparsity0\n",
      "success_2023-05-10-14-28-42_wcst_7_sparsity0\n",
      "success_2023-05-10-14-28-42_wcst_82_sparsity0\n",
      "success_2023-05-10-14-28-42_wcst_86_sparsity0\n",
      "success_2023-05-10-14-28-42_wcst_87_sparsity0\n",
      "success_2023-05-10-14-28-42_wcst_93_sparsity0\n",
      "success_2023-05-10-14-28-42_wcst_98_sparsity0\n",
      "329.68547081947327\n"
     ]
    }
   ],
   "source": [
    "start = time.time()\n",
    "\n",
    "all_data_opto_perf = []\n",
    "\n",
    "for model_name in sorted(os.listdir('/scratch/yl4317/two_module_rnn/saved_models/')):\n",
    "    if ('2023-05-10' in model_name) and 'wcst' in model_name and ('success' in model_name):\n",
    "        print(model_name)\n",
    "        path_to_file = '/scratch/yl4317/two_module_rnn/saved_models/' + model_name\n",
    "        \n",
    "        with HiddenPrints():\n",
    "            model, hp_test, hp_task_test, optim, saved_data = load_model_v2(path_to_file=path_to_file, model_name=model_name, simple=False, plot=False, toprint=False)\n",
    "            \n",
    "        if hp_test['dt']!=10 or hp_test['dend_nonlinearity'] not in ['divisive_2', 'subtractive']:\n",
    "            continue\n",
    "        \n",
    "        \n",
    "        \n",
    "        \n",
    "        with open('/scratch/yl4317/two_module_rnn/saved_testdata/{}_testdata_silenceSRSST_noiseless_no_current_matrix'.format(model_name), 'rb') as f: \n",
    "            neural_data_silenceSST = pickle.load(f)  \n",
    "#         test_data_inhibit_sst = generate_neural_data_test(model=model, n_trials_test=100, switch_every_test=10, batch_size=10, to_plot=False, hp_test=hp_test, hp_task_test=hp_task_test, \n",
    "#                                               compute_current=False, random_switch=True, n_switches=10, concat_activity=False, opto=opto_params_sst)\n",
    "        test_data_inhibit_sst = neural_data_silenceSST['test_data']\n",
    "        mean_perf_nosst = np.mean([_[0] for _ in test_data_inhibit_sst['perfs']])\n",
    "        mean_perf_rule_nosst = np.mean([_[0] for _ in test_data_inhibit_sst['perf_rules']])\n",
    "        \n",
    "        with open('/scratch/yl4317/two_module_rnn/saved_testdata/{}_testdata_silenceSRVIP_noiseless_no_current_matrix'.format(model_name), 'rb') as f:\n",
    "            neural_data_silenceVIP = pickle.load(f)\n",
    "#         test_data_inhibit_vip = generate_neural_data_test(model=model, n_trials_test=100, switch_every_test=10, batch_size=10, to_plot=False, hp_test=hp_test, hp_task_test=hp_task_test, \n",
    "#                                               compute_current=False, random_switch=True, n_switches=10, concat_activity=False, opto=opto_params_vip)\n",
    "        test_data_inhibit_vip = neural_data_silenceVIP['test_data']\n",
    "        mean_perf_novip = np.mean([_[0] for _ in test_data_inhibit_vip['perfs']])\n",
    "        mean_perf_rule_novip = np.mean([_[0] for _ in test_data_inhibit_vip['perf_rules']])\n",
    "        \n",
    "        with open('/scratch/yl4317/two_module_rnn/saved_testdata/{}_testdata_silenceSRPV_noiseless_no_current_matrix'.format(model_name), 'rb') as f:\n",
    "            neural_data_silencePV = pickle.load(f)\n",
    "#         test_data_inhibit_vip = generate_neural_data_test(model=model, n_trials_test=100, switch_every_test=10, batch_size=10, to_plot=False, hp_test=hp_test, hp_task_test=hp_task_test, \n",
    "#                                               compute_current=False, random_switch=True, n_switches=10, concat_activity=False, opto=opto_params_vip)\n",
    "        test_data_inhibit_pv = neural_data_silencePV['test_data']\n",
    "        mean_perf_nopv = np.mean([_[0] for _ in test_data_inhibit_pv['perfs']])\n",
    "        mean_perf_rule_nopv = np.mean([_[0] for _ in test_data_inhibit_pv['perf_rules']])\n",
    "        \n",
    "        with open('/scratch/yl4317/two_module_rnn/saved_testdata/{}_testdata_noiseless_no_current_matrix'.format(model_name), 'rb') as f:\n",
    "            neural_data = pickle.load(f)\n",
    "        test_data_intact = neural_data['test_data']\n",
    "        mean_perf_intact = np.mean([_[0] for _ in test_data_intact['perfs']])\n",
    "        mean_perf_rule_intact = np.mean([_[0] for _ in test_data_intact['perf_rules']])\n",
    "        if mean_perf_intact<=0.8 or mean_perf_rule_intact<=0.8:\n",
    "            print('low perf, pass ({}/{})'.format(mean_perf_intact, mean_perf_rule_intact))\n",
    "            continue\n",
    "        \n",
    "        \n",
    "        all_data_opto_perf.append({'hp': hp_test,\n",
    "                                 'mean_perf_intact': mean_perf_intact, \n",
    "                                 'mean_perf_rule_intact': mean_perf_rule_intact, \n",
    "                                 'mean_perf_nosst': mean_perf_nosst,\n",
    "                                 'mean_perf_novip': mean_perf_novip,\n",
    "                                 'mean_perf_nopv': mean_perf_nopv,\n",
    "                                 'mean_perf_rule_nosst': mean_perf_rule_nosst,\n",
    "                                 'mean_perf_rule_novip': mean_perf_rule_novip,\n",
    "                                 'mean_perf_rule_nopv': mean_perf_rule_nopv})   \n",
    "        \n",
    "        \n",
    "print(time.time()-start)"
   ]
  },
  {
   "cell_type": "code",
   "execution_count": 16,
   "metadata": {},
   "outputs": [
    {
     "data": {
      "image/png": "[encoded data removed]",
      "text/plain": [
       "<Figure size 800x800 with 6 Axes>"
      ]
     },
     "metadata": {},
     "output_type": "display_data"
    },
    {
     "data": {
      "image/png": "[encoded data removed]",
      "text/plain": [
       "<Figure size 800x800 with 6 Axes>"
      ]
     },
     "metadata": {},
     "output_type": "display_data"
    }
   ],
   "source": [
    "data_fig7e = {'intact': [], 'silence_sst': []}\n",
    "data_suppfig11b = {'intact': [], 'silence_sst': []}\n",
    "data_silencepv = {'intact': [], 'silence_pv': []}\n",
    "data_silencevip = {'intact': [], 'silence_vip': []}\n",
    "\n",
    "for dend_nonlinear in ['subtractive', 'divisive_2']:\n",
    "    fig, ax = plt.subplots(2, 3, figsize=[10, 10])\n",
    "    plt.style.use('classic')\n",
    "    fig.patch.set_facecolor('white')\n",
    "    for data in all_data_opto_perf:\n",
    "        if data['hp']['dend_nonlinearity']!=dend_nonlinear:\n",
    "            continue\n",
    "        perf_intact = data['mean_perf_intact']\n",
    "        perf_nosst = data['mean_perf_nosst']\n",
    "        perf_novip = data['mean_perf_novip']\n",
    "        perf_nopv = data['mean_perf_nopv']\n",
    "        perf_rule_intact = data['mean_perf_rule_intact']\n",
    "        perf_rule_nosst = data['mean_perf_rule_nosst']\n",
    "        perf_rule_novip = data['mean_perf_rule_novip']\n",
    "        perf_rule_nopv = data['mean_perf_rule_nopv']\n",
    "        ax[0, 0].plot([perf_intact, perf_nopv], color='k', alpha=0.5, marker='o')\n",
    "        ax[1, 0].plot([perf_rule_intact, perf_rule_nopv], color='k', alpha=0.5, marker='o')\n",
    "        ax[0, 1].plot([perf_intact, perf_nosst], color='k', alpha=0.5, marker='o')\n",
    "        ax[1, 1].plot([perf_rule_intact, perf_rule_nosst], color='k', alpha=0.5, marker='o')\n",
    "        ax[0, 2].plot([perf_intact, perf_novip], color='k', alpha=0.5, marker='o')\n",
    "        ax[1, 2].plot([perf_rule_intact, perf_rule_novip], color='k', alpha=0.5, marker='o')\n",
    "    \n",
    "    \n",
    "        if data['hp']['dend_nonlinearity'] == 'subtractive':\n",
    "            data_fig7e['intact'].append(perf_intact)\n",
    "            data_fig7e['silence_sst'].append(perf_nosst)\n",
    "        elif data['hp']['dend_nonlinearity'] == 'divisive_2':\n",
    "            data_suppfig11b['intact'].append(perf_intact)\n",
    "            data_suppfig11b['silence_sst'].append(perf_nosst)\n",
    "        data_silencepv['intact'].append(perf_intact)\n",
    "        data_silencepv['silence_pv'].append(perf_nopv)\n",
    "        data_silencevip['intact'].append(perf_intact)\n",
    "        data_silencevip['silence_vip'].append(perf_novip)\n",
    "        \n",
    "        for i in range(2):\n",
    "            for j in range(3):\n",
    "                ax[i, j].set_xticks([0, 1])\n",
    "                if j==0:\n",
    "                    ctype='PV'\n",
    "                elif j==1:\n",
    "                    ctype='SST'\n",
    "                elif j==2:\n",
    "                    ctype='VIP'\n",
    "                ax[i, j].set_xticklabels(['Intact', 'Opto {}'.format(ctype)], rotation=20)\n",
    "                ax[i, j].set_xlim([-0.5, 1.5])\n",
    "                ax[i, j].set_ylim([0, 1])\n",
    "                if i==0:\n",
    "                    ax[i, j].axhline(y=1/3, linestyle='dashed', color='k')\n",
    "                    ax[i, j].set_ylabel('Performance', fontsize=20)\n",
    "                elif i==1:\n",
    "                    ax[i, j].axhline(y=1/2, linestyle='dashed', color='k')\n",
    "                    ax[i, j].set_ylabel('Performance (rule)', fontsize=20)\n",
    "                make_pretty_axes(ax[i, j])\n",
    "    fig.tight_layout()\n",
    "    plt.show()\n",
    "    "
   ]
  },
  {
   "cell_type": "code",
   "execution_count": 13,
   "metadata": {},
   "outputs": [],
   "source": [
    "pd.DataFrame.from_dict(data=data_fig7e, orient='columns').to_csv('/home/yl4317/Documents/two_module_rnn/source_data/fig7e.csv', header=False)\n",
    "pd.DataFrame.from_dict(data=data_suppfig11b, orient='columns').to_csv('/home/yl4317/Documents/two_module_rnn/source_data/suppfig11b.csv', header=False)\n",
    "pd.DataFrame.from_dict(data=data_silencepv, orient='columns').to_csv('/home/yl4317/Documents/two_module_rnn/source_data/silencepv.csv', header=False)\n",
    "pd.DataFrame.from_dict(data=data_silencevip, orient='columns').to_csv('/home/yl4317/Documents/two_module_rnn/source_data/silencevip.csv', header=False)"
   ]
  },
  {
   "cell_type": "markdown",
   "metadata": {
    "jp-MarkdownHeadingCollapsed": true
   },
   "source": [
    "# draft: mean rule selectivity in the sensorimotor exc neurons for different levels of dendritic coding"
   ]
  },
  {
   "cell_type": "code",
   "execution_count": null,
   "metadata": {},
   "outputs": [],
   "source": [
    "xs = []\n",
    "ys = []\n",
    "fig, ax = plt.subplots(figsize=[4, 4])\n",
    "for data in all_data_branch_coding:\n",
    "    degree_branch_coding = np.abs(np.array(data['rule_sel_dend1']) - np.array(data['rule_sel_dend2']))\n",
    "    degree_branch_coding = np.mean(degree_branch_coding)\n",
    "    mean_rule_sel = np.abs(data['mean_rule_sel_all_sm_esoma_rule_cells'])\n",
    "    ax.scatter(x=degree_branch_coding, y=mean_rule_sel, color='k')\n",
    "    xs.append(degree_branch_coding)\n",
    "    ys.append(mean_rule_sel)\n",
    "ax.set_xlabel('diff in rule selectivity btw branches', fontsize=15)\n",
    "ax.set_xlabel('mean rule selectivity', fontsize=15)\n",
    "make_pretty_axes(ax)\n",
    "plt.show()\n",
    "\n",
    "print(stats.pearsonr(x=xs, y=ys))\n",
    "    "
   ]
  },
  {
   "cell_type": "code",
   "execution_count": null,
   "metadata": {
    "scrolled": true
   },
   "outputs": [],
   "source": [
    "# plot sparsity instead of diff in rule selectivity\n",
    "\n",
    "xs = []\n",
    "ys = []\n",
    "fig, ax = plt.subplots(figsize=[4, 4])\n",
    "for data in all_data_branch_coding:\n",
    "    if data['hp']['dend_nonlinearity']!='subtractive':\n",
    "        continue\n",
    "    print(data['hp']['initialization_weights'])\n",
    "    mean_rule_sel = np.abs(data['mean_rule_sel_all_sm_esoma_rule_cells'])\n",
    "    ax.scatter(x=data['hp']['sparse_srsst_to_sredend'], y=mean_rule_sel, color='k')\n",
    "    xs.append(degree_branch_coding)\n",
    "    ys.append(mean_rule_sel)\n",
    "ax.set_xlabel('sparsity', fontsize=15)\n",
    "ax.set_ylabel('mean rule selectivity', fontsize=15)\n",
    "make_pretty_axes(ax)\n",
    "plt.show()\n",
    "\n",
    "print(stats.pearsonr(x=xs, y=ys))\n",
    "    "
   ]
  },
  {
   "cell_type": "markdown",
   "metadata": {},
   "source": [
    "# draft: overlap between the neural states of 2 rules in the sensorimotor exc neurons for different levels of dendritic coding"
   ]
  },
  {
   "cell_type": "code",
   "execution_count": null,
   "metadata": {
    "scrolled": true
   },
   "outputs": [],
   "source": [
    "xs = []\n",
    "ys = []\n",
    "fig, ax = plt.subplots(figsize=[4, 4])\n",
    "for data in all_data_branch_coding:\n",
    "    degree_branch_coding = np.abs(np.array(data['rule_sel_dend1']) - np.array(data['rule_sel_dend2']))\n",
    "    degree_branch_coding = np.mean(degree_branch_coding)\n",
    "    cos = np.abs(data['cosine'][0,0])\n",
    "    ax.scatter(x=degree_branch_coding, y=cos, color='k')\n",
    "    xs.append(degree_branch_coding)\n",
    "    ys.append(cos)\n",
    "make_pretty_axes(ax)\n",
    "plt.show()\n",
    "\n",
    "print(stats.pearsonr(x=xs, y=ys))\n",
    "    "
   ]
  },
  {
   "cell_type": "markdown",
   "metadata": {},
   "source": [
    "# Back of the envelop calculation\n",
    "If there are N_1 SST rule 1 neurons, N_2 SST rule 2 neurons. They connect to exc neuron dendrites with probability p\n",
    "\n",
    "The probability that each dendritic branch receives input from n_i SST rule i neurons is a binomial distribution: B(N_i, n_i, p)\n",
    "\n",
    "Assume that the input from each SST neuron is the same, then the probability distribution of n_1 - n_2 describes the rule selectivity of the dendritic branch."
   ]
  },
  {
   "cell_type": "markdown",
   "metadata": {},
   "source": [
    "## First, get the distribution of SST->Edend weights in the model"
   ]
  },
  {
   "cell_type": "code",
   "execution_count": 5,
   "metadata": {
    "scrolled": true
   },
   "outputs": [
    {
     "data": {
      "image/png": "[encoded data removed]",
      "text/plain": [
       "<Figure size 1000x400 with 2 Axes>"
      ]
     },
     "metadata": {},
     "output_type": "display_data"
    }
   ],
   "source": [
    "w_sst_edend_all = []\n",
    "for data in all_data_branch_coding:\n",
    "    model = data['model']\n",
    "    w_rec_eff = model.rnn.effective_weight(w=model.rnn.w_rec, mask=model.rnn.mask, w_fix=model.rnn.w_fix).detach().cpu().numpy()\n",
    "    w_sst_edend = w_rec_eff[np.ix_(model.rnn.cg_idx['sr_sst'], model.rnn.cg_idx['sr_edend'])]\n",
    "    w_sst_edend = w_sst_edend.flatten()\n",
    "    w_sst_edend_all.extend(w_sst_edend)\n",
    "#     fig, ax = plt.subplots()\n",
    "#     ax.hist(w_sst_edend, bins=50)\n",
    "#     make_pretty_axes(ax)\n",
    "#     plt.show()\n",
    "\n",
    "fig, ax = plt.subplots(1, 2, figsize=[10, 4])\n",
    "w_sst_edend_all_nonzero = [_ for _ in w_sst_edend_all if _!=0]\n",
    "ax[0].hist(w_sst_edend_all, bins=50)\n",
    "ax[1].hist(w_sst_edend_all_nonzero, bins=50)\n",
    "ax[1].set_title('Non-zero weights')\n",
    "for _ax in ax:\n",
    "    make_pretty_axes(_ax)\n",
    "    _ax.set_xlabel('Weight', fontsize=20)\n",
    "    _ax.set_ylabel('Count', fontsize=20)\n",
    "fig.tight_layout()\n",
    "plt.show()"
   ]
  },
  {
   "cell_type": "code",
   "execution_count": 2,
   "metadata": {
    "scrolled": true
   },
   "outputs": [
    {
     "ename": "NameError",
     "evalue": "name 'plt' is not defined",
     "output_type": "error",
     "traceback": [
      "\u001b[0;31m---------------------------------------------------------------------------\u001b[0m",
      "\u001b[0;31mNameError\u001b[0m                                 Traceback (most recent call last)",
      "Cell \u001b[0;32mIn[2], line 7\u001b[0m\n\u001b[1;32m      4\u001b[0m N1, N2 \u001b[38;5;241m=\u001b[39m \u001b[38;5;241m500\u001b[39m, \u001b[38;5;241m500\u001b[39m    \u001b[38;5;66;03m# number of SST rule 1/2 neurons\u001b[39;00m\n\u001b[1;32m      5\u001b[0m \u001b[38;5;66;03m# p = 0.2    # connection prob\u001b[39;00m\n\u001b[0;32m----> 7\u001b[0m fig, ax \u001b[38;5;241m=\u001b[39m \u001b[43mplt\u001b[49m\u001b[38;5;241m.\u001b[39msubplots(\u001b[38;5;241m2\u001b[39m, \u001b[38;5;241m4\u001b[39m, figsize\u001b[38;5;241m=\u001b[39m[\u001b[38;5;241m25\u001b[39m, \u001b[38;5;241m10\u001b[39m])\n\u001b[1;32m      9\u001b[0m \u001b[38;5;28;01mfor\u001b[39;00m sparsity \u001b[38;5;129;01min\u001b[39;00m [\u001b[38;5;241m0\u001b[39m, \u001b[38;5;241m0.2\u001b[39m, \u001b[38;5;241m0.5\u001b[39m, \u001b[38;5;241m0.8\u001b[39m]:\n\u001b[1;32m     10\u001b[0m     p \u001b[38;5;241m=\u001b[39m \u001b[38;5;241m1\u001b[39m\u001b[38;5;241m-\u001b[39msparsity\n",
      "\u001b[0;31mNameError\u001b[0m: name 'plt' is not defined"
     ]
    }
   ],
   "source": [
    "from scipy.stats import binom\n",
    "\n",
    "n_samples = 10000\n",
    "N1, N2 = 500, 500    # number of SST rule 1/2 neurons\n",
    "# p = 0.2    # connection prob\n",
    "\n",
    "fig, ax = plt.subplots(2, 4, figsize=[25, 10])\n",
    "\n",
    "for sparsity in [0, 0.2, 0.5, 0.8]:\n",
    "    p = 1-sparsity\n",
    "    rule_sels_norm = dict.fromkeys(np.arange(2))\n",
    "    rule_sels_unnorm = dict.fromkeys(np.arange(2))\n",
    "    for branch in rule_sels_norm.keys():\n",
    "        n1, n2 = np.random.binomial(n=N1, p=p, size=n_samples), np.random.binomial(n=N2, p=p, size=n_samples)\n",
    "        \n",
    "#         w1, w2 = np.random.uniform(low=0, high=1, size=n_samples), np.random.uniform(low=0, high=1, size=n_samples)\n",
    "        w1, w2 = 1, 1 \n",
    "#         w1, w2 = np.random.normal(loc=0, scale=0.2, size=n_samples), np.random.normal(loc=0, scale=0.2, size=n_samples)\n",
    "#         w1, w2 = random.sample(w_sst_edend_all_nonzero, n_samples), random.sample(w_sst_edend_all_nonzero, n_samples)    # should sample from the nonzero part of the distribution!\n",
    "#         w1, w2 = np.abs(w1), np.abs(w2)\n",
    "        \n",
    "#         act_rule1 = np.tanh(0.2-w1*n1)\n",
    "#         act_rule2 = np.tanh(0.2-w2*n2)\n",
    "        act_rule1 = (w1*n1)\n",
    "        act_rule2 = (w2*n2)\n",
    "        \n",
    "        rule_sels_unnorm[branch] = act_rule1 - act_rule2\n",
    "        rule_sels_norm[branch] = np.asarray([(act_rule1[i]-act_rule2[i])/(act_rule1[i]+act_rule2[i]) if act_rule1[i]+act_rule2[i]!=0 else 0 for i in range(len(act_rule1))])\n",
    "        \n",
    "    diff_rule_sel_norm = np.abs(rule_sels_norm[0] - rule_sels_norm[1])\n",
    "    diff_rule_sel_unnorm = np.abs(rule_sels_unnorm[0] - rule_sels_unnorm[1])\n",
    "    \n",
    "    ax[0, 0].hist(n1, label='sparsity {:.2f}'.format(1-p), alpha=0.5, bins=50)\n",
    "    ax[0, 1].hist(w1, label='sparsity {:.2f}'.format(1-p), alpha=0.5, bins=50, histtype='step')\n",
    "    ax[0, 2].hist(act_rule1, label='sparsity {:.2f}'.format(1-p), alpha=1, bins=50, histtype='step')\n",
    "    ax[0, 3].hist(rule_sels_unnorm[0], label='sparsity {:.2f}'.format(1-p), alpha=1, bins=50, histtype='step')\n",
    "    ax[1, 0].hist(diff_rule_sel_unnorm, label='sparsity {:.2f}'.format(1-p), alpha=1, bins=50, histtype='step')\n",
    "    ax[1, 1].hist(rule_sels_norm[0], label='sparsity {:.2f}'.format(1-p), alpha=1, bins=50, histtype='step')\n",
    "    ax[1, 2].hist(diff_rule_sel_norm, label='sparsity {:.2f}'.format(1-p), alpha=1, bins=50, histtype='step', density=True)\n",
    "    ax[1, 3].errorbar(x=sparsity, y=np.mean(diff_rule_sel_norm), yerr=0, marker='o', color='k')\n",
    "    \n",
    "ax[0, 0].set_xlabel('# of connecting SST neurons \\n for each rule', fontsize=20)\n",
    "ax[0, 1].set_xlabel('Weight from SST neurons to Edend', fontsize=20)\n",
    "ax[0, 2].set_xlabel('Activity', fontsize=20)\n",
    "ax[0, 3].set_xlabel('Rule selectivity (un-normalized)', fontsize=20) \n",
    "ax[1, 0].set_xlabel('Difference of rule selectivity \\n between branches (un-normalized)', fontsize=20)\n",
    "ax[1, 1].set_xlabel('Rule selectivity (normalized)', fontsize=20) \n",
    "ax[1, 2].set_xlabel('Difference of rule selectivity \\n between branches (normalized)', fontsize=20)\n",
    "ax[1, 3].set_xlabel('Sparsity', fontsize=20)\n",
    "ax[1, 3].set_ylabel('Difference of rule selectivity \\n between branches (normalized)', fontsize=20)\n",
    "# ax[1, 3].set_xlim([0.9, 1])\n",
    "\n",
    "for i in range(ax.shape[0]):\n",
    "    for j in range(ax.shape[1]):\n",
    "        ax[i, j].legend(fontsize=10)\n",
    "        make_pretty_axes(ax[i, j])\n",
    "\n",
    "fig.tight_layout()\n",
    "plt.show()"
   ]
  },
  {
   "cell_type": "markdown",
   "metadata": {},
   "source": [
    "# Compare to model"
   ]
  },
  {
   "cell_type": "code",
   "execution_count": null,
   "metadata": {
    "scrolled": true
   },
   "outputs": [],
   "source": [
    "all_sparsity = [0, 0.2, 0.5, 0.8]\n",
    "\n",
    "act_rule1_all = dict.fromkeys(all_sparsity)\n",
    "act_rule2_all = dict.fromkeys(all_sparsity)\n",
    "rule_sel_unnorm_1_all = dict.fromkeys(all_sparsity) \n",
    "rule_sel_unnorm_2_all = dict.fromkeys(all_sparsity)\n",
    "rule_sel_norm_1_all = dict.fromkeys(all_sparsity) \n",
    "rule_sel_norm_2_all = dict.fromkeys(all_sparsity) \n",
    "diff_rule_sel_unnorm_all = dict.fromkeys(all_sparsity) \n",
    "diff_rule_sel_norm_all = dict.fromkeys(all_sparsity)\n",
    "\n",
    "for sparsity in [0, 0.2, 0.5, 0.8]:\n",
    "#     if sparsity!=0.8:\n",
    "#         continue\n",
    "    act_rule1_all[sparsity] = []\n",
    "    act_rule2_all[sparsity] = []\n",
    "    rule_sel_unnorm_1_all[sparsity] = []\n",
    "    rule_sel_unnorm_2_all[sparsity] = []\n",
    "    rule_sel_norm_1_all[sparsity] = []\n",
    "    rule_sel_norm_2_all[sparsity] = []\n",
    "    diff_rule_sel_unnorm_all[sparsity] = []\n",
    "    diff_rule_sel_norm_all[sparsity] = []\n",
    "    \n",
    "    for data in all_data_branch_coding:\n",
    "        if data['hp']['sparse_srsst_to_sredend']!=sparsity:\n",
    "            continue\n",
    "#         if data['hp']['dend_nonlinearity']!='subtractive_3' and data['hp']['dend_nonlinearity']!='divisive' and data['hp']['dend_nonlinearity']!='subtractive_rectified':\n",
    "#             continue\n",
    "        act_rule1 = np.asarray([data['all_sels']['act_rule1'][n] for n in data['dend1_idx']])\n",
    "        act_rule2 = np.asarray([data['all_sels']['act_rule2'][n] for n in data['dend1_idx']])\n",
    "        rule_sel_unnorm_1 = np.asarray([data['all_sels']['rule_activity'][n] for n in data['dend1_idx']])\n",
    "        rule_sel_unnorm_2 = np.asarray([data['all_sels']['rule_activity'][n] for n in data['dend2_idx']])\n",
    "        rule_sel_norm_1 = np.asarray([data['all_sels']['rule_normalized_activity'][n] for n in data['dend1_idx']])\n",
    "        rule_sel_norm_2 = np.asarray([data['all_sels']['rule_normalized_activity'][n] for n in data['dend2_idx']])\n",
    "        diff_rule_sel_unnorm = np.abs(rule_sel_unnorm_1 - rule_sel_unnorm_2)\n",
    "        diff_rule_sel_norm = np.abs(rule_sel_norm_1 - rule_sel_norm_2)\n",
    "        \n",
    "        act_rule1_all[sparsity].extend(act_rule1)\n",
    "        act_rule2_all[sparsity].extend(act_rule2)\n",
    "        rule_sel_unnorm_1_all[sparsity].extend(rule_sel_unnorm_1)\n",
    "        rule_sel_unnorm_2_all[sparsity].extend(rule_sel_unnorm_2)\n",
    "        rule_sel_norm_1_all[sparsity].extend(rule_sel_norm_1)\n",
    "        rule_sel_norm_2_all[sparsity].extend(rule_sel_norm_2)\n",
    "        diff_rule_sel_unnorm_all[sparsity].extend(diff_rule_sel_unnorm)\n",
    "        diff_rule_sel_norm_all[sparsity].extend(diff_rule_sel_norm)\n",
    "        \n",
    "        fig, ax = plt.subplots(2, 4, figsize=[20, 8])\n",
    "        fig.suptitle(sparsity, fontsize=30)\n",
    "        ax[0, 0].hist(act_rule1)\n",
    "        ax[0, 1].hist(act_rule2)\n",
    "        ax[0, 2].hist(rule_sel_unnorm_1)\n",
    "        ax[0, 3].hist(rule_sel_unnorm_2)\n",
    "        ax[1, 0].hist(rule_sel_norm_1)\n",
    "        ax[1, 1].hist(rule_sel_norm_2)\n",
    "        ax[1, 2].hist(diff_rule_sel_unnorm)\n",
    "        ax[1, 3].hist(diff_rule_sel_norm)\n",
    "        ax[0, 0].set_xlabel('Activity during rule 1', fontsize=15)\n",
    "        ax[0, 1].set_xlabel('Activity during rule 2', fontsize=15)\n",
    "        ax[0, 2].set_xlabel('Unnormalized rule selectivity \\n for branch 1', fontsize=15)\n",
    "        ax[0, 3].set_xlabel('Unnormalized rule selectivity \\n for branch 2', fontsize=15)\n",
    "        ax[1, 0].set_xlabel('Normalized rule selectivity \\n for branch 1', fontsize=15)\n",
    "        ax[1, 1].set_xlabel('Normalized rule selectivity \\n for branch 2', fontsize=15)\n",
    "        ax[1, 2].set_xlabel('Difference in the unnormalized rule sel', fontsize=15)\n",
    "        ax[1, 3].set_xlabel('Difference in the normalized rule sel', fontsize=15)\n",
    "        \n",
    "        for i in range(2):\n",
    "            for j in range(4):\n",
    "                make_pretty_axes(ax[i, j])\n",
    "        \n",
    "        fig.tight_layout()\n",
    "        plt.show()\n",
    "        \n",
    "        \n",
    "        \n"
   ]
  },
  {
   "cell_type": "code",
   "execution_count": null,
   "metadata": {},
   "outputs": [],
   "source": [
    "fig, ax = plt.subplots(3, 4, figsize=[20, 12])\n",
    "for sparsity in all_sparsity:\n",
    "    ax[0, 0].hist(act_rule1_all[sparsity], alpha=1, histtype='step', label='sparsity {}'.format(sparsity), bins=50, density=True)\n",
    "    ax[0, 1].hist(act_rule2_all[sparsity], alpha=1, histtype='step', label='sparsity {}'.format(sparsity), bins=50, density=True)\n",
    "    ax[0, 2].hist(rule_sel_unnorm_1_all[sparsity], alpha=1, histtype='step', label='sparsity {}'.format(sparsity), bins=50, density=True)\n",
    "    ax[0, 3].hist(rule_sel_unnorm_2_all[sparsity], alpha=1, histtype='step', label='sparsity {}'.format(sparsity), bins=50, density=True)\n",
    "    ax[1, 0].hist(rule_sel_norm_1_all[sparsity], alpha=1, histtype='step', label='sparsity {}'.format(sparsity), bins=50, density=True)\n",
    "    ax[1, 1].hist(rule_sel_norm_2_all[sparsity], alpha=1, histtype='step', label='sparsity {}'.format(sparsity), bins=50, density=True)\n",
    "    ax[1, 2].hist(diff_rule_sel_unnorm_all[sparsity], alpha=1, histtype='step', label='sparsity {}'.format(sparsity), bins=50, density=True)\n",
    "    ax[1, 3].hist(diff_rule_sel_norm_all[sparsity], alpha=1, histtype='step', label='sparsity {}, {:.4f}'.format(sparsity, np.mean(diff_rule_sel_norm_all[sparsity])), bins=50, density=True)\n",
    "    ax[2, 0].errorbar(x=sparsity, y=np.mean(diff_rule_sel_norm_all[sparsity]), marker='o', color='k')\n",
    "ax[0, 0].set_xlabel('Activity during rule 1', fontsize=15)\n",
    "ax[0, 1].set_xlabel('Activity during rule 2', fontsize=15)\n",
    "ax[0, 2].set_xlabel('Unnormalized rule selectivity \\n for branch 1', fontsize=15)\n",
    "ax[0, 3].set_xlabel('Unnormalized rule selectivity \\n for branch 2', fontsize=15)\n",
    "ax[1, 0].set_xlabel('Normalized rule selectivity \\n for branch 1', fontsize=15)\n",
    "ax[1, 1].set_xlabel('Normalized rule selectivity \\n for branch 2', fontsize=15)\n",
    "ax[1, 2].set_xlabel('Difference in the unnormalized rule sel', fontsize=15)\n",
    "ax[1, 3].set_xlabel('Difference in the normalized rule sel', fontsize=15)\n",
    "ax[2, 0].set_xlabel('Sparsity', fontsize=15)\n",
    "ax[2, 0].set_ylabel('Difference in rule \\n selectivity across branches', fontsize=15)\n",
    "\n",
    "for i in range(ax.shape[0]):\n",
    "    for j in range(ax.shape[1]):\n",
    "        make_pretty_axes(ax[i, j])\n",
    "        ax[i, j].legend(fontsize=10)\n",
    "        make_pretty_axes(ax[i, j])\n",
    "fig.tight_layout()\n",
    "plt.show()"
   ]
  },
  {
   "cell_type": "code",
   "execution_count": null,
   "metadata": {},
   "outputs": [],
   "source": []
  }
 ],
 "metadata": {
  "kernelspec": {
   "display_name": "my_env",
   "language": "python",
   "name": "my_env"
  },
  "language_info": {
   "codemirror_mode": {
    "name": "ipython",
    "version": 3
   },
   "file_extension": ".py",
   "mimetype": "text/x-python",
   "name": "python",
   "nbconvert_exporter": "python",
   "pygments_lexer": "ipython3",
   "version": "3.10.8"
  }
 },
 "nbformat": 4,
 "nbformat_minor": 4
}
